{
 "cells": [
  {
   "cell_type": "markdown",
   "metadata": {},
   "source": [
    "# DataSet\n",
    "### Source\n",
    "- site: https://goldapple.ru/parfjumerija\n",
    "- theme: **Парфюм**\n",
    "\n",
    "Будем парсить только те товары, которые представляют из себя конкретный флакон духов/тулетной воды и т.п.\n",
    "\n",
    "Исключаем из общего каталога все наборы, пробники, и всё, что не связано с туалетной водой (т.е. саше, мыло, гели и т.п.) и в случае их попадания в набор данных будем считать их ошибкой. [Ссылка на отфильтрованный каталог](https://goldapple.ru/parfjumerija?categories=1000000057,1000000059,1000142344,1000142345)\n",
    "### Используемые инструменты\n",
    "- requests\n",
    "- BeautifulSoup\n",
    "- selenium\n",
    "- tqdm\n",
    "- pandas\n",
    "### Какие данные будем парсить\n",
    "| Аттрибут | Формат    |\n",
    "|----------|-----------|\n",
    "| Название | Текст     |\n",
    "| Артикул  | Текст |\n",
    "| Тип (туал. вода, парф. вода и т.д.) | Категория |\n",
    "| Цена (обыч.) | Число |\n",
    "| Цена (макс. скидка) | Число |\n",
    "| Описание | Текст |\n",
    "| Объем | Число |\n",
    "| Для кого (жен/муж/унисекс) | Категория |\n",
    "| Группа ароматов | Tекст |\n",
    "| Верхние ноты | Текст |\n",
    "| Средние ноты | Текст |\n",
    "| Базовые ноты | Текст |\n",
    "| Бренд | Текст |\n",
    "| Страна бренда | Текст |\n",
    "| Страна происхождения | Текст |\n",
    "| Число отзывов | Число |\n",
    "| Оценка | Число |\n",
    "\n",
    "\n"
   ]
  },
  {
   "cell_type": "markdown",
   "metadata": {},
   "source": [
    "## Парсинг"
   ]
  },
  {
   "cell_type": "code",
   "execution_count": 36,
   "metadata": {},
   "outputs": [],
   "source": [
    "import requests\n",
    "from time import sleep\n",
    "from selenium import webdriver\n",
    "from selenium.webdriver.common.by import By\n",
    "from selenium.webdriver.common.action_chains import ActionChains\n",
    "from selenium.webdriver.support.ui import WebDriverWait\n",
    "from selenium.webdriver.support import expected_conditions as EC\n",
    "\n",
    "HOME_LINK = \"https://goldapple.ru/\"\n",
    "CATALOG_LINK = \"https://goldapple.ru/parfjumerija?categories=1000000057,1000000059,1000142344,1000142345\""
   ]
  },
  {
   "cell_type": "markdown",
   "metadata": {},
   "source": [
    "### Получение HTML страницы каталога\n",
    "Так как сайт использует динамическую подгрузку страниц с помощью JavaScript, будем листать до конца каталога с помощью *Selenium*"
   ]
  },
  {
   "cell_type": "code",
   "execution_count": 3,
   "metadata": {},
   "outputs": [],
   "source": [
    "driver = webdriver.Chrome()\n",
    "driver.get(CATALOG_LINK)"
   ]
  },
  {
   "cell_type": "markdown",
   "metadata": {},
   "source": [
    "Код, выполняющий прокрутку сайта до конца:"
   ]
  },
  {
   "cell_type": "code",
   "execution_count": null,
   "metadata": {},
   "outputs": [],
   "source": [
    "height = driver.execute_script(\"return document.body.scrollHeight\")\n",
    "\n",
    "while True:\n",
    "    # Листаем на всю высоту страницы (с небольшим отступом, чтобы было видно кнопку дозагрузки)\n",
    "    driver.execute_script(f\"window.scrollTo(0, {height - 800});\")\n",
    "    sleep(3)\n",
    "\n",
    "    # Сравниваем, подгрузились ли новые страницы каталога (т.е. увеличилась ли высота сайта)\n",
    "    new_height = driver.execute_script(\"return document.body.scrollHeight\")\n",
    "    if new_height == height:\n",
    "        try:\n",
    "            load_button = driver.find_element(By.CSS_SELECTOR, 'button[data-transaction-name=\"ga-load-button\"]')\n",
    "            load_button.click()\n",
    "        except Exception:\n",
    "            print(\"Finished loading\")\n",
    "            break\n",
    "    height = new_height\n",
    "\n",
    "catalog_source_page = driver.page_source\n",
    "driver.close()\n"
   ]
  },
  {
   "cell_type": "code",
   "execution_count": 10,
   "metadata": {},
   "outputs": [],
   "source": [
    "with open('var/raw_catalog_page.txt', 'w', encoding='utf-8') as f:\n",
    "    f.write(catalog_source_page)"
   ]
  },
  {
   "cell_type": "markdown",
   "metadata": {},
   "source": [
    "Вся страница каталога лежит в **catalog_source_page**"
   ]
  },
  {
   "cell_type": "markdown",
   "metadata": {},
   "source": [
    "### Получение списка ссылок на товары\n",
    "С помощью *BeautifulSoup* строим дерево HTML"
   ]
  },
  {
   "cell_type": "code",
   "execution_count": 4,
   "metadata": {},
   "outputs": [],
   "source": [
    "from bs4 import BeautifulSoup\n",
    "\n",
    "with open('var/raw_catalog_page.txt', 'r', encoding='utf-8') as f:\n",
    "    catalog_tree = BeautifulSoup(f, 'html.parser')"
   ]
  },
  {
   "cell_type": "markdown",
   "metadata": {},
   "source": [
    "И получаем список ссылок на все отдельные товары в каталоге"
   ]
  },
  {
   "cell_type": "code",
   "execution_count": null,
   "metadata": {},
   "outputs": [],
   "source": [
    "from tqdm import tqdm\n",
    "\n",
    "item_list = []\n",
    "for item in tqdm(catalog_tree.find_all('a', {'data-transaction-name': 'ga-product-card-vertical'})):\n",
    "    item_list.append(HOME_LINK + item.attrs['href'])\n",
    "\n",
    "print(len(item_list))"
   ]
  },
  {
   "cell_type": "markdown",
   "metadata": {},
   "source": [
    "Сохраним список все ссылок в файл"
   ]
  },
  {
   "cell_type": "code",
   "execution_count": null,
   "metadata": {},
   "outputs": [],
   "source": [
    "with open('var/link_list.txt', '', encoding='utf-8') as f:\n",
    "    for link in tqdm(item_list):\n",
    "        f.write(link + '\\n')"
   ]
  },
  {
   "cell_type": "markdown",
   "metadata": {},
   "source": [
    "### Парсинг отдельных страниц товара"
   ]
  },
  {
   "cell_type": "markdown",
   "metadata": {},
   "source": [
    "Теперь нужно пройти по каждой ссылке из списка и получить необходимые данные с каждой страницы"
   ]
  },
  {
   "cell_type": "code",
   "execution_count": 4,
   "metadata": {},
   "outputs": [],
   "source": [
    "import requests\n",
    "from bs4 import BeautifulSoup\n",
    "\n",
    "\n",
    "with open('var/link_list.txt', 'r', encoding='utf-8') as f:\n",
    "    link_list = list(map(str.strip, f.readlines()))"
   ]
  },
  {
   "cell_type": "markdown",
   "metadata": {},
   "source": [
    "Создадим специальный класс для парсинга"
   ]
  },
  {
   "cell_type": "code",
   "execution_count": 3,
   "metadata": {},
   "outputs": [],
   "source": [
    "import pandas as pd\n",
    "import re\n",
    "\n",
    "def safe_get(func, default = None):\n",
    "      try:\n",
    "            return func()\n",
    "      except Exception:\n",
    "            return default\n",
    "\n",
    "# Класс, который будет содержать в себе всю информацию, полученную с парсинга\n",
    "class Parfume: \n",
    "      url: str = None\n",
    "      name: str = None\n",
    "      article_number: str = None\n",
    "      parfume_type = None\n",
    "      price_full_rub = None\n",
    "      price_sale_rub = None\n",
    "      description = None\n",
    "      volume_ml = None\n",
    "      for_whom = None\n",
    "      aroma_group = None\n",
    "      top_notes = None\n",
    "      mid_notes = None\n",
    "      base_notes = None\n",
    "      brand = None\n",
    "      brand_country = None\n",
    "      produce_country = None\n",
    "      ratings_count = None\n",
    "      rating = None\n",
    "\n",
    "      def __init__(self, url: str, soup: BeautifulSoup):\n",
    "            self.url = url\n",
    "\n",
    "            main = soup.find('main')\n",
    "\n",
    "            # Из header получаем тип (parfume_type)\n",
    "            self.parfume_type = safe_get(lambda: main.find('div', {'class': 'JMSge'}).text.strip())\n",
    "\n",
    "            # Получаем цены (price_full_rub и price_sale_rub)\n",
    "            prices = set()\n",
    "            tmp = safe_get(lambda: main.find_all('div', {'class': 'kmEv4 B0Qrx'}))\n",
    "            if (tmp != None):\n",
    "                  for tag in tmp:\n",
    "                        try:\n",
    "                              prices.add(int(tag.text.strip().replace(' ', '')[:-1]))\n",
    "                        except Exception:\n",
    "                              pass\n",
    "            \n",
    "            tmp = safe_get(lambda: main.find_all('div', {'class': 'kmEv4 ybNWf dUtmC B0Qrx'}))\n",
    "            if (tmp != None):\n",
    "                  for tag in tmp:\n",
    "                        try:\n",
    "                              prices.add(int(tag.text.strip().replace(' ', '')[:-1]))\n",
    "                        except Exception:\n",
    "                              pass\n",
    "            if (len(prices) > 0):\n",
    "                  self.price_full_rub = max(prices)\n",
    "                  self.price_sale_rub = min(prices)\n",
    "            \n",
    "\n",
    "            # Получаем данные из блока описания (название, артикул и описание)\n",
    "            description = safe_get(lambda: main.find('div', {'value': 'Description_0'}))\n",
    "            self.name = safe_get(lambda: description.find('div', {'class': 'OTJ7J'}).text.strip())\n",
    "            self.article_number = safe_get(lambda: description.find('div', {'class': 'yh48W'}).text.strip())\n",
    "            self.description = safe_get(lambda: description.find('div', {'class': 'tDMJt'}).text.strip().replace('\\n', '').replace('\\t', ''))\n",
    "            \n",
    "            # Данные из списка описания\n",
    "            desc_list = safe_get(lambda: description.find_all('div', {'class': '_76A6k'}))\n",
    "            if (desc_list != None):\n",
    "                  for desc_item in desc_list:\n",
    "                        desc_name = safe_get(lambda: desc_item.find('dt', {'class': '_9QHZV'}).text.strip())\n",
    "                        desc_value = safe_get(lambda: desc_item.find('dt', {'class': 'Owxb0'}).text.strip())\n",
    "                        if desc_name == 'для кого':\n",
    "                              self.for_whom = desc_value\n",
    "                        elif desc_name == 'группа ароматов':\n",
    "                              self.aroma_group = desc_value\n",
    "                        elif desc_name == 'верхние ноты':\n",
    "                              self.top_notes = desc_value\n",
    "                        elif desc_name == 'средние ноты':\n",
    "                              self.mid_notes = desc_value\n",
    "                        elif desc_name == 'базовые ноты':\n",
    "                              self.base_notes = desc_value\n",
    "                        elif desc_name == 'объём':\n",
    "                              self.volume_ml = desc_value.split(' ')[0]\n",
    "\n",
    "            # Информация о бренде\n",
    "            brand = safe_get(lambda: main.find('div', {'value': re.compile('Brand_[0-9]{1}')}))\n",
    "            self.brand = safe_get(lambda: brand.find('div', {'class': 'OTJ7J'}).text.strip())\n",
    "            self.brand_country = safe_get(lambda: brand.find('div', {'class': 'yh48W'}).text.strip())\n",
    "\n",
    "            # Информация о стране производства\n",
    "            text = safe_get(lambda: main.find('div', {'text': 'Дополнительная информация'}).text.strip())\n",
    "            if text != None:\n",
    "                  start_index = len('страна происхождения')\n",
    "                  end_index = text.find('изготовитель')\n",
    "                  if (end_index == -1):\n",
    "                        self.produce_country = safe_get(lambda: text[start_index:])\n",
    "                  else:\n",
    "                        self.produce_country = safe_get(lambda: text[start_index:end_index])\n",
    "\n",
    "            # Информация об отзывах\n",
    "            rating_responce = safe_get(lambda: requests.get(HOME_LINK + 'review/product/' + self.article_number))\n",
    "            rating_tree = safe_get(lambda: BeautifulSoup(rating_responce.content, 'html.parser'))\n",
    "            self.rating = safe_get(lambda: rating_tree.find('div', {'itemprop': 'ratingValue'}).text.strip())\n",
    "            self.ratings_count = safe_get(lambda: rating_tree.find('meta', {'itemprop': 'reviewCount'}).attrs['content'].strip())\n",
    "\n",
    "      def to_df(self):\n",
    "            data = {\n",
    "                  'url': self.url,\n",
    "                  'title': self.name,\n",
    "                  'article': self.article_number,\n",
    "                  'parfume_type': self.parfume_type,\n",
    "                  'full_price_rub': self.price_full_rub,\n",
    "                  'sale_price_rub': self.price_sale_rub,\n",
    "                  'volume_ml': self.volume_ml,\n",
    "                  'for_whom': self.for_whom,\n",
    "                  'aroma_group': self.aroma_group,\n",
    "                  'top_notes': self.top_notes,\n",
    "                  'mid_notes': self.mid_notes,\n",
    "                  'base_notes': self.base_notes,\n",
    "                  'description': self.description,\n",
    "                  'rating': self.rating,\n",
    "                  'ratings_count': self.ratings_count,\n",
    "                  'brand': self.brand,\n",
    "                  'brand_country': self.brand_country,\n",
    "                  'produce_country': self.produce_country\n",
    "            }\n",
    "            df = pd.DataFrame(data, index=[0])\n",
    "            return df"
   ]
  },
  {
   "cell_type": "markdown",
   "metadata": {},
   "source": [
    "Теперь можно приступить к парсингу"
   ]
  },
  {
   "cell_type": "code",
   "execution_count": 2,
   "metadata": {},
   "outputs": [],
   "source": [
    "import requests\n",
    "from tqdm import tqdm\n",
    "from bs4 import BeautifulSoup\n",
    "from time import sleep\n"
   ]
  },
  {
   "cell_type": "markdown",
   "metadata": {},
   "source": [
    "Создаем *DataFrame*, в который будем помещать все данные"
   ]
  },
  {
   "cell_type": "code",
   "execution_count": 137,
   "metadata": {},
   "outputs": [],
   "source": [
    "common_df = pd.DataFrame()"
   ]
  },
  {
   "cell_type": "code",
   "execution_count": 18,
   "metadata": {},
   "outputs": [],
   "source": [
    "common_df = pd.read_csv('data/dataset.tsv', sep='\\t', quoting=1, dtype=str)\n",
    "# common_df.head()"
   ]
  },
  {
   "cell_type": "code",
   "execution_count": 7,
   "metadata": {},
   "outputs": [],
   "source": [
    "timeouted = set()"
   ]
  },
  {
   "cell_type": "markdown",
   "metadata": {},
   "source": [
    "Сама функция парсинга"
   ]
  },
  {
   "cell_type": "code",
   "execution_count": 13,
   "metadata": {},
   "outputs": [
    {
     "name": "stderr",
     "output_type": "stream",
     "text": [
      "100%|██████████| 7/7 [00:18<00:00,  2.70s/it]\n"
     ]
    }
   ],
   "source": [
    "\n",
    "n = len(common_df)\n",
    "for i in tqdm(range(n, len(link_list))):\n",
    "    link = link_list[i]\n",
    "    sleep(0.75)\n",
    "\n",
    "    try:\n",
    "        response = requests.get(link, timeout=5)\n",
    "    except Exception:\n",
    "        timeouted.add(link)\n",
    "        continue\n",
    "\n",
    "    tree = BeautifulSoup(response.content, 'html.parser')\n",
    "    parfume = Parfume(link, tree)\n",
    "\n",
    "    if parfume.name == None:\n",
    "        for j in range(6):\n",
    "            sleep(0.75)\n",
    "            try:\n",
    "                response = requests.get(link, timeout=5)\n",
    "            except Exception:\n",
    "                timeouted.add(link)\n",
    "                continue\n",
    "            tree = BeautifulSoup(response.content, 'html.parser')\n",
    "            parfume = Parfume(link, tree)\n",
    "            if (parfume.name != None):\n",
    "                break\n",
    "    \n",
    "    common_df = pd.concat([common_df, parfume.to_df()], ignore_index=True)\n",
    "    common_df.to_csv('data/dataset.tsv', sep='\\t', index=False, quoting=1)\n"
   ]
  },
  {
   "cell_type": "markdown",
   "metadata": {},
   "source": [
    "Некоторые из запросов не выполнились из-за timeout'a"
   ]
  },
  {
   "cell_type": "code",
   "execution_count": 11,
   "metadata": {},
   "outputs": [
    {
     "name": "stdout",
     "output_type": "stream",
     "text": [
      "7\n"
     ]
    }
   ],
   "source": [
    "print(len(timeouted))"
   ]
  },
  {
   "cell_type": "markdown",
   "metadata": {},
   "source": [
    "## Унифицирование"
   ]
  },
  {
   "cell_type": "code",
   "execution_count": 100,
   "metadata": {},
   "outputs": [],
   "source": [
    "import pandas as pd\n",
    "import re"
   ]
  },
  {
   "cell_type": "markdown",
   "metadata": {},
   "source": [
    "### Удаление неудачных попыток\n",
    "Удалим из набора объекты, которые не удалось спарсить, обыкновенно это объекты у которых все поля пустые, кроме может быть одного"
   ]
  },
  {
   "cell_type": "code",
   "execution_count": 142,
   "metadata": {},
   "outputs": [],
   "source": [
    "dataset = pd.read_csv('data/dataset.tsv', sep='\\t', quoting=1, dtype=str)\n",
    "dataset = dataset[dataset.title.notnull()]"
   ]
  },
  {
   "cell_type": "code",
   "execution_count": 143,
   "metadata": {},
   "outputs": [
    {
     "data": {
      "text/html": [
       "<div>\n",
       "<style scoped>\n",
       "    .dataframe tbody tr th:only-of-type {\n",
       "        vertical-align: middle;\n",
       "    }\n",
       "\n",
       "    .dataframe tbody tr th {\n",
       "        vertical-align: top;\n",
       "    }\n",
       "\n",
       "    .dataframe thead th {\n",
       "        text-align: right;\n",
       "    }\n",
       "</style>\n",
       "<table border=\"1\" class=\"dataframe\">\n",
       "  <thead>\n",
       "    <tr style=\"text-align: right;\">\n",
       "      <th></th>\n",
       "      <th>url</th>\n",
       "      <th>title</th>\n",
       "      <th>article</th>\n",
       "      <th>parfume_type</th>\n",
       "      <th>full_price_rub</th>\n",
       "      <th>sale_price_rub</th>\n",
       "      <th>volume_ml</th>\n",
       "      <th>for_whom</th>\n",
       "      <th>aroma_group</th>\n",
       "      <th>top_notes</th>\n",
       "      <th>mid_motes</th>\n",
       "      <th>base_notes</th>\n",
       "      <th>description</th>\n",
       "      <th>rating</th>\n",
       "      <th>ratings_count</th>\n",
       "      <th>brand</th>\n",
       "      <th>brand_country</th>\n",
       "      <th>produce_country</th>\n",
       "    </tr>\n",
       "  </thead>\n",
       "  <tbody>\n",
       "    <tr>\n",
       "      <th>0</th>\n",
       "      <td>https://goldapple.ru//19000117827-aqua-millefolia</td>\n",
       "      <td>LE COUVENT Aqua Millefolia</td>\n",
       "      <td>19000117827</td>\n",
       "      <td>Туалетная вода</td>\n",
       "      <td>4900</td>\n",
       "      <td>3185</td>\n",
       "      <td>50</td>\n",
       "      <td>унисекс</td>\n",
       "      <td>травяные, цитрусовые</td>\n",
       "      <td>лимон, мята</td>\n",
       "      <td>вербена, гальбанум</td>\n",
       "      <td>гваяковое дерево</td>\n",
       "      <td>Аромат AQUA MILLEFOLIA посвящен вавилонским Ви...</td>\n",
       "      <td>4.5</td>\n",
       "      <td>17</td>\n",
       "      <td>Le Couvent</td>\n",
       "      <td>Франция</td>\n",
       "      <td>Франция</td>\n",
       "    </tr>\n",
       "    <tr>\n",
       "      <th>1</th>\n",
       "      <td>https://goldapple.ru//26180600015-famille-roya...</td>\n",
       "      <td>12 PARFUMEURS FRANCAIS FAMILLE ROYALE Le Roi C...</td>\n",
       "      <td>26180600015</td>\n",
       "      <td>Духи</td>\n",
       "      <td>29700</td>\n",
       "      <td>25245</td>\n",
       "      <td>100</td>\n",
       "      <td>унисекс</td>\n",
       "      <td>акватические, фруктовые</td>\n",
       "      <td>бергамот, зеленое яблоко, лаванда и арбуз</td>\n",
       "      <td>кедр и морские оттенки</td>\n",
       "      <td>ваниль, пачули и ветивер</td>\n",
       "      <td>Духи 12 Parfumeurs Francais Famille Royale Le ...</td>\n",
       "      <td>0.0</td>\n",
       "      <td>0</td>\n",
       "      <td>12 PARFUMEURS FRANCAIS</td>\n",
       "      <td>Франция</td>\n",
       "      <td>Франция</td>\n",
       "    </tr>\n",
       "    <tr>\n",
       "      <th>2</th>\n",
       "      <td>https://goldapple.ru//19000048601-meadow-tea</td>\n",
       "      <td>NŌSE PERFUMES MEADOW TEA</td>\n",
       "      <td>19000048601</td>\n",
       "      <td>Парфюмерная вода</td>\n",
       "      <td>14900</td>\n",
       "      <td>11175</td>\n",
       "      <td>33</td>\n",
       "      <td>унисекс</td>\n",
       "      <td>пудровые</td>\n",
       "      <td>мадагаскарская цитронелла, монарда, цветы липы</td>\n",
       "      <td>абсолют зеленого чая, почки тополя, ваниль</td>\n",
       "      <td>цистус, амбра</td>\n",
       "      <td>Мягкий и одновременно строгий аромат, где соче...</td>\n",
       "      <td>0.0</td>\n",
       "      <td>0</td>\n",
       "      <td>NŌSE perfumes</td>\n",
       "      <td>Россия</td>\n",
       "      <td>Россия</td>\n",
       "    </tr>\n",
       "    <tr>\n",
       "      <th>4</th>\n",
       "      <td>https://goldapple.ru//19000213214-musc-ravageu...</td>\n",
       "      <td>FREDERIC MALLE Musc Ravageur Holiday Limited e...</td>\n",
       "      <td>19000213214</td>\n",
       "      <td>Парфюмерная вода</td>\n",
       "      <td>29700</td>\n",
       "      <td>29700</td>\n",
       "      <td>100</td>\n",
       "      <td>унисекс</td>\n",
       "      <td>амбровые</td>\n",
       "      <td>бергамот</td>\n",
       "      <td>корица, амбра</td>\n",
       "      <td>ваниль, мускус</td>\n",
       "      <td>Musc Ravageur был выпущен в 2000 году и обозна...</td>\n",
       "      <td>0.0</td>\n",
       "      <td>0</td>\n",
       "      <td>Frederic Malle</td>\n",
       "      <td>Франция</td>\n",
       "      <td>Франция</td>\n",
       "    </tr>\n",
       "    <tr>\n",
       "      <th>5</th>\n",
       "      <td>https://goldapple.ru//19000220504-gambit</td>\n",
       "      <td>MIND GAMES GAMBIT</td>\n",
       "      <td>19000220504</td>\n",
       "      <td>Парфюмерный экстракт</td>\n",
       "      <td>25550</td>\n",
       "      <td>22995</td>\n",
       "      <td>100</td>\n",
       "      <td>унисекс</td>\n",
       "      <td>кожаные, древесные</td>\n",
       "      <td>петитгрейн, лаванда, гвоздика</td>\n",
       "      <td>кардамон, мадагаскарская герань, мимоза</td>\n",
       "      <td>пачули, сандаловое дерево, амбростар</td>\n",
       "      <td>Коллекция SOULMATE воплощает силу и единство п...</td>\n",
       "      <td>5.0</td>\n",
       "      <td>4</td>\n",
       "      <td>Mind Games</td>\n",
       "      <td>США</td>\n",
       "      <td>США</td>\n",
       "    </tr>\n",
       "    <tr>\n",
       "      <th>6</th>\n",
       "      <td>https://goldapple.ru//19000120337-shiro</td>\n",
       "      <td>AJMAL SHIRO</td>\n",
       "      <td>19000120337</td>\n",
       "      <td>Парфюмерная вода</td>\n",
       "      <td>11500</td>\n",
       "      <td>8050</td>\n",
       "      <td>90</td>\n",
       "      <td>мужской</td>\n",
       "      <td>акватические</td>\n",
       "      <td>лимон, яблоко, герань</td>\n",
       "      <td>акватический аккорд, роза, кашмеран</td>\n",
       "      <td>кедр, амбра,мускус</td>\n",
       "      <td>“Аромат - это все, что нужно для путешествия в...</td>\n",
       "      <td>0.0</td>\n",
       "      <td>0</td>\n",
       "      <td>Ajmal</td>\n",
       "      <td>ОАЭ</td>\n",
       "      <td>ОАЭ</td>\n",
       "    </tr>\n",
       "    <tr>\n",
       "      <th>7</th>\n",
       "      <td>https://goldapple.ru//19000281747-scusami</td>\n",
       "      <td>FILIPPO SORCINELLI scusami</td>\n",
       "      <td>19000281747</td>\n",
       "      <td>Духи</td>\n",
       "      <td>19500</td>\n",
       "      <td>18525</td>\n",
       "      <td>100</td>\n",
       "      <td>унисекс</td>\n",
       "      <td>цветочные</td>\n",
       "      <td>слива «мирабелла», лимон, бергамот, гелиотроп,...</td>\n",
       "      <td>черная смородина, иланг-иланг, фрезия, жидкий ...</td>\n",
       "      <td>амбра, амбретта, кремовый сандал, пачули, кедр...</td>\n",
       "      <td>_scusami_ - это форма забвения, состоящая из б...</td>\n",
       "      <td>0.0</td>\n",
       "      <td>0</td>\n",
       "      <td>Filippo Sorcinelli</td>\n",
       "      <td>Италия</td>\n",
       "      <td>Италия</td>\n",
       "    </tr>\n",
       "    <tr>\n",
       "      <th>8</th>\n",
       "      <td>https://goldapple.ru//19000209596-heaven-can-wait</td>\n",
       "      <td>FREDERIC MALLE Heaven Can Wait</td>\n",
       "      <td>19000209596</td>\n",
       "      <td>Парфюмерная вода (pre-pack)</td>\n",
       "      <td>22600</td>\n",
       "      <td>22600</td>\n",
       "      <td>50</td>\n",
       "      <td>унисекс</td>\n",
       "      <td>древесные</td>\n",
       "      <td>перец пименто, гвоздика, амбретта, семена моркови</td>\n",
       "      <td>ирис, ветивер, кашмеран, кедр</td>\n",
       "      <td>ваниль, персик, слива, мускус</td>\n",
       "      <td>Фредерик Маль и Жан-Клод Эллена работали над а...</td>\n",
       "      <td>4.0</td>\n",
       "      <td>1</td>\n",
       "      <td>Frederic Malle</td>\n",
       "      <td>Франция</td>\n",
       "      <td>Франция</td>\n",
       "    </tr>\n",
       "    <tr>\n",
       "      <th>9</th>\n",
       "      <td>https://goldapple.ru//26772000002-cafe-aoud</td>\n",
       "      <td>MANCERA Café Aoud</td>\n",
       "      <td>26772000002</td>\n",
       "      <td>Парфюмерная вода</td>\n",
       "      <td>15730</td>\n",
       "      <td>7865</td>\n",
       "      <td>60</td>\n",
       "      <td>унисекс</td>\n",
       "      <td>восточные</td>\n",
       "      <td>персик, черная смородина, бергамот</td>\n",
       "      <td>амбра, цветочные ноты, кофе</td>\n",
       "      <td>белый мускус, сладкие ноты, древесные ноты</td>\n",
       "      <td>Ароматный гимн древней цивилизации Византии, с...</td>\n",
       "      <td>5.0</td>\n",
       "      <td>1</td>\n",
       "      <td>NaN</td>\n",
       "      <td>NaN</td>\n",
       "      <td>NaN</td>\n",
       "    </tr>\n",
       "    <tr>\n",
       "      <th>10</th>\n",
       "      <td>https://goldapple.ru//81151100001-tendre-rever...</td>\n",
       "      <td>MARINA DE BOURBON Tendre Reverence</td>\n",
       "      <td>81151100001</td>\n",
       "      <td>Парфюмерная вода</td>\n",
       "      <td>4910</td>\n",
       "      <td>2946</td>\n",
       "      <td>30</td>\n",
       "      <td>женский</td>\n",
       "      <td>цветочные, цитрусовые</td>\n",
       "      <td>бергамот, красная смородина и персик</td>\n",
       "      <td>розовый пион, манголия и фиалка</td>\n",
       "      <td>мускус, сандал и ваниль</td>\n",
       "      <td>Утонченный, сладкий и изысканный Tendre Revere...</td>\n",
       "      <td>4.5</td>\n",
       "      <td>6</td>\n",
       "      <td>Marina de Bourbon</td>\n",
       "      <td>Франция</td>\n",
       "      <td>Франция</td>\n",
       "    </tr>\n",
       "  </tbody>\n",
       "</table>\n",
       "</div>"
      ],
      "text/plain": [
       "                                                  url  \\\n",
       "0   https://goldapple.ru//19000117827-aqua-millefolia   \n",
       "1   https://goldapple.ru//26180600015-famille-roya...   \n",
       "2        https://goldapple.ru//19000048601-meadow-tea   \n",
       "4   https://goldapple.ru//19000213214-musc-ravageu...   \n",
       "5            https://goldapple.ru//19000220504-gambit   \n",
       "6             https://goldapple.ru//19000120337-shiro   \n",
       "7           https://goldapple.ru//19000281747-scusami   \n",
       "8   https://goldapple.ru//19000209596-heaven-can-wait   \n",
       "9         https://goldapple.ru//26772000002-cafe-aoud   \n",
       "10  https://goldapple.ru//81151100001-tendre-rever...   \n",
       "\n",
       "                                                title      article  \\\n",
       "0                          LE COUVENT Aqua Millefolia  19000117827   \n",
       "1   12 PARFUMEURS FRANCAIS FAMILLE ROYALE Le Roi C...  26180600015   \n",
       "2                            NŌSE PERFUMES MEADOW TEA  19000048601   \n",
       "4   FREDERIC MALLE Musc Ravageur Holiday Limited e...  19000213214   \n",
       "5                                   MIND GAMES GAMBIT  19000220504   \n",
       "6                                         AJMAL SHIRO  19000120337   \n",
       "7                          FILIPPO SORCINELLI scusami  19000281747   \n",
       "8                      FREDERIC MALLE Heaven Can Wait  19000209596   \n",
       "9                                   MANCERA Café Aoud  26772000002   \n",
       "10                 MARINA DE BOURBON Tendre Reverence  81151100001   \n",
       "\n",
       "                   parfume_type full_price_rub sale_price_rub volume_ml  \\\n",
       "0                Туалетная вода           4900           3185        50   \n",
       "1                          Духи          29700          25245       100   \n",
       "2              Парфюмерная вода          14900          11175        33   \n",
       "4              Парфюмерная вода          29700          29700       100   \n",
       "5          Парфюмерный экстракт          25550          22995       100   \n",
       "6              Парфюмерная вода          11500           8050        90   \n",
       "7                          Духи          19500          18525       100   \n",
       "8   Парфюмерная вода (pre-pack)          22600          22600        50   \n",
       "9              Парфюмерная вода          15730           7865        60   \n",
       "10             Парфюмерная вода           4910           2946        30   \n",
       "\n",
       "   for_whom              aroma_group  \\\n",
       "0   унисекс     травяные, цитрусовые   \n",
       "1   унисекс  акватические, фруктовые   \n",
       "2   унисекс                 пудровые   \n",
       "4   унисекс                 амбровые   \n",
       "5   унисекс       кожаные, древесные   \n",
       "6   мужской             акватические   \n",
       "7   унисекс                цветочные   \n",
       "8   унисекс                древесные   \n",
       "9   унисекс                восточные   \n",
       "10  женский    цветочные, цитрусовые   \n",
       "\n",
       "                                            top_notes  \\\n",
       "0                                         лимон, мята   \n",
       "1           бергамот, зеленое яблоко, лаванда и арбуз   \n",
       "2      мадагаскарская цитронелла, монарда, цветы липы   \n",
       "4                                            бергамот   \n",
       "5                       петитгрейн, лаванда, гвоздика   \n",
       "6                               лимон, яблоко, герань   \n",
       "7   слива «мирабелла», лимон, бергамот, гелиотроп,...   \n",
       "8   перец пименто, гвоздика, амбретта, семена моркови   \n",
       "9                  персик, черная смородина, бергамот   \n",
       "10               бергамот, красная смородина и персик   \n",
       "\n",
       "                                            mid_motes  \\\n",
       "0                                  вербена, гальбанум   \n",
       "1                              кедр и морские оттенки   \n",
       "2          абсолют зеленого чая, почки тополя, ваниль   \n",
       "4                                       корица, амбра   \n",
       "5             кардамон, мадагаскарская герань, мимоза   \n",
       "6                 акватический аккорд, роза, кашмеран   \n",
       "7   черная смородина, иланг-иланг, фрезия, жидкий ...   \n",
       "8                       ирис, ветивер, кашмеран, кедр   \n",
       "9                         амбра, цветочные ноты, кофе   \n",
       "10                    розовый пион, манголия и фиалка   \n",
       "\n",
       "                                           base_notes  \\\n",
       "0                                    гваяковое дерево   \n",
       "1                            ваниль, пачули и ветивер   \n",
       "2                                       цистус, амбра   \n",
       "4                                      ваниль, мускус   \n",
       "5                пачули, сандаловое дерево, амбростар   \n",
       "6                                  кедр, амбра,мускус   \n",
       "7   амбра, амбретта, кремовый сандал, пачули, кедр...   \n",
       "8                       ваниль, персик, слива, мускус   \n",
       "9          белый мускус, сладкие ноты, древесные ноты   \n",
       "10                            мускус, сандал и ваниль   \n",
       "\n",
       "                                          description rating ratings_count  \\\n",
       "0   Аромат AQUA MILLEFOLIA посвящен вавилонским Ви...    4.5            17   \n",
       "1   Духи 12 Parfumeurs Francais Famille Royale Le ...    0.0             0   \n",
       "2   Мягкий и одновременно строгий аромат, где соче...    0.0             0   \n",
       "4   Musc Ravageur был выпущен в 2000 году и обозна...    0.0             0   \n",
       "5   Коллекция SOULMATE воплощает силу и единство п...    5.0             4   \n",
       "6   “Аромат - это все, что нужно для путешествия в...    0.0             0   \n",
       "7   _scusami_ - это форма забвения, состоящая из б...    0.0             0   \n",
       "8   Фредерик Маль и Жан-Клод Эллена работали над а...    4.0             1   \n",
       "9   Ароматный гимн древней цивилизации Византии, с...    5.0             1   \n",
       "10  Утонченный, сладкий и изысканный Tendre Revere...    4.5             6   \n",
       "\n",
       "                     brand brand_country produce_country  \n",
       "0               Le Couvent       Франция         Франция  \n",
       "1   12 PARFUMEURS FRANCAIS       Франция         Франция  \n",
       "2            NŌSE perfumes        Россия          Россия  \n",
       "4           Frederic Malle       Франция         Франция  \n",
       "5               Mind Games           США             США  \n",
       "6                    Ajmal           ОАЭ             ОАЭ  \n",
       "7       Filippo Sorcinelli        Италия          Италия  \n",
       "8           Frederic Malle       Франция         Франция  \n",
       "9                      NaN           NaN             NaN  \n",
       "10       Marina de Bourbon       Франция         Франция  "
      ]
     },
     "execution_count": 143,
     "metadata": {},
     "output_type": "execute_result"
    }
   ],
   "source": [
    "dataset.head(10)"
   ]
  },
  {
   "cell_type": "code",
   "execution_count": 144,
   "metadata": {},
   "outputs": [],
   "source": [
    "dataset.to_csv('data/dataset.tsv', sep='\\t', index=False, quoting=1)"
   ]
  },
  {
   "cell_type": "markdown",
   "metadata": {},
   "source": [
    "### Parfume type - тип товара\n",
    "\n",
    "Унифицирование категориального типа - *parfume_type*"
   ]
  },
  {
   "cell_type": "code",
   "execution_count": 181,
   "metadata": {},
   "outputs": [],
   "source": [
    "dataset = pd.read_csv('data/dataset.tsv', sep='\\t', quoting=1, dtype=str)"
   ]
  },
  {
   "cell_type": "markdown",
   "metadata": {},
   "source": [
    "Для начала приведем всё к нижнему регистру и избавимся от лишних пробелов"
   ]
  },
  {
   "cell_type": "code",
   "execution_count": 182,
   "metadata": {},
   "outputs": [],
   "source": [
    "dataset['parfume_type'] = dataset['parfume_type'].str.lower().str.strip().str.replace('\\xa0', ' ')"
   ]
  },
  {
   "cell_type": "markdown",
   "metadata": {},
   "source": [
    "Теперь посмотрим на значения отранжированные по количеству встреч и унифицируем некоторые из значений (Например, с опечатками, лишними символами или перефразы)"
   ]
  },
  {
   "cell_type": "code",
   "execution_count": 201,
   "metadata": {},
   "outputs": [
    {
     "data": {
      "text/plain": [
       "parfume_type\n",
       "парфюмерная вода        3316\n",
       "туалетная вода           939\n",
       "духи                     568\n",
       "набор                    214\n",
       "автопарфюм               168\n",
       "экстракт                  91\n",
       "дымка                     64\n",
       "масляные духи             64\n",
       "рефил                     52\n",
       "одеколон                  37\n",
       "твердые духи              30\n",
       "дезодорант                11\n",
       "парфюмерная эссенция      11\n",
       "душистая вода              9\n",
       "Name: count, dtype: int64"
      ]
     },
     "execution_count": 201,
     "metadata": {},
     "output_type": "execute_result"
    }
   ],
   "source": [
    "dataset['parfume_type'].value_counts().head(30)"
   ]
  },
  {
   "cell_type": "markdown",
   "metadata": {},
   "source": [
    "Все, что связано с **экстрактами** - одна категория"
   ]
  },
  {
   "cell_type": "code",
   "execution_count": 184,
   "metadata": {},
   "outputs": [],
   "source": [
    "dataset['parfume_type'] = dataset['parfume_type'].apply(lambda x: re.sub('.*(экстракт).*', 'экстракт', str(x)))\n",
    "dataset['parfume_type'] = dataset['parfume_type'].apply(lambda x: re.sub('.*(экстаркт).*', 'экстракт', str(x)))"
   ]
  },
  {
   "cell_type": "markdown",
   "metadata": {},
   "source": [
    "Все **наборы** также в одну категорию"
   ]
  },
  {
   "cell_type": "code",
   "execution_count": 185,
   "metadata": {},
   "outputs": [],
   "source": [
    "dataset['parfume_type'] = dataset['parfume_type'].apply(lambda x: re.sub('.*(набор|сет|комплект).*', 'набор', str(x)))"
   ]
  },
  {
   "cell_type": "markdown",
   "metadata": {},
   "source": [
    "Все **одеколоны** в одну категорию"
   ]
  },
  {
   "cell_type": "code",
   "execution_count": 186,
   "metadata": {},
   "outputs": [],
   "source": [
    "dataset['parfume_type'] = dataset['parfume_type'].apply(lambda x: re.sub('.*(одеколон).*', 'одеколон', str(x)))"
   ]
  },
  {
   "cell_type": "markdown",
   "metadata": {},
   "source": [
    "Дымки, вуали, мисты - **дымка**"
   ]
  },
  {
   "cell_type": "code",
   "execution_count": 187,
   "metadata": {},
   "outputs": [],
   "source": [
    "dataset['parfume_type'] = dataset['parfume_type'].apply(lambda x: re.sub('.*(дымка|вуаль|мист|освежающая вода|для волос).*', 'дымка', str(x)))"
   ]
  },
  {
   "cell_type": "markdown",
   "metadata": {},
   "source": [
    "Унифицируем все автомобильные ароматизаторы - **автопарфюм**"
   ]
  },
  {
   "cell_type": "code",
   "execution_count": 188,
   "metadata": {},
   "outputs": [],
   "source": [
    "dataset['parfume_type'] = dataset['parfume_type'].apply(lambda x: re.sub('.*(автом|автод).*', 'автопарфюм', str(x)))"
   ]
  },
  {
   "cell_type": "markdown",
   "metadata": {},
   "source": [
    "**Масляные духи**"
   ]
  },
  {
   "cell_type": "code",
   "execution_count": 200,
   "metadata": {},
   "outputs": [],
   "source": [
    "dataset['parfume_type'] = dataset['parfume_type'].apply(lambda x: re.sub('.*масляные духи.*', 'масляные духи', str(x)))\n",
    "dataset['parfume_type'] = dataset['parfume_type'].apply(lambda x: re.sub('.*духи масляные.*', 'масляные духи', str(x)))\n",
    "dataset['parfume_type'] = dataset['parfume_type'].apply(lambda x: re.sub('.*масляной основе.*', 'масляные духи', str(x)))\n",
    "dataset['parfume_type'] = dataset['parfume_type'].apply(lambda x: re.sub('.*масляный парфюм|масло.*', 'масляные духи', str(x)))"
   ]
  },
  {
   "cell_type": "markdown",
   "metadata": {},
   "source": [
    "**парфюмерная эссенция**"
   ]
  },
  {
   "cell_type": "code",
   "execution_count": 190,
   "metadata": {},
   "outputs": [],
   "source": [
    "\n",
    "dataset['parfume_type'] = dataset['parfume_type'].apply(lambda x: re.sub('.*эфирная композиция|концентрированное масло.*', 'парфюмерная эссенция', str(x)))"
   ]
  },
  {
   "cell_type": "markdown",
   "metadata": {},
   "source": [
    "**Рефилы**"
   ]
  },
  {
   "cell_type": "code",
   "execution_count": 191,
   "metadata": {},
   "outputs": [],
   "source": [
    "\n",
    "dataset['parfume_type'] = dataset['parfume_type'].apply(lambda x: re.sub('.*рефил(л)?|сменный блок.*', 'рефил', str(x)))\n",
    "dataset['parfume_type'] = dataset['parfume_type'].apply(lambda x: re.sub('.*рефил.*', 'рефил', str(x)))"
   ]
  },
  {
   "cell_type": "markdown",
   "metadata": {},
   "source": [
    "Все упоминания парфюмерной воды - **парфюмерная вода**"
   ]
  },
  {
   "cell_type": "code",
   "execution_count": 192,
   "metadata": {},
   "outputs": [],
   "source": [
    "dataset['parfume_type'] = dataset['parfume_type'].apply(lambda x: re.sub('.*(парфюмерная|парфюмированная|парфюмированая) (вода).*', 'парфюмерная вода', str(x)))\n",
    "dataset['parfume_type'] = dataset['parfume_type'].apply(lambda x: re.sub('.*(вода парфюмерная).*', 'парфюмерная вода', str(x)))\n",
    "dataset['parfume_type'] = dataset['parfume_type'].apply(lambda x: re.sub('.*(парю(ф)?мерная вода).*', 'парфюмерная вода', str(x)))\n",
    "dataset['parfume_type'] = dataset['parfume_type'].apply(lambda x: re.sub('.*(пафюмерная вода).*', 'парфюмерная вода', str(x)))\n",
    "dataset['parfume_type'] = dataset['parfume_type'].apply(lambda x: re.sub('.*(эликсир|ароматизатор).*', 'парфюмерная вода', str(x)))"
   ]
  },
  {
   "cell_type": "markdown",
   "metadata": {},
   "source": [
    "**Душистая вода**"
   ]
  },
  {
   "cell_type": "code",
   "execution_count": 193,
   "metadata": {},
   "outputs": [],
   "source": [
    "dataset['parfume_type'] = dataset['parfume_type'].apply(lambda x: re.sub('.*душистая.*', 'душистая вода', str(x)))"
   ]
  },
  {
   "cell_type": "markdown",
   "metadata": {},
   "source": [
    "Дезодоранты"
   ]
  },
  {
   "cell_type": "code",
   "execution_count": 194,
   "metadata": {},
   "outputs": [],
   "source": [
    "dataset['parfume_type'] = dataset['parfume_type'].apply(lambda x: re.sub('.*дезод.*', 'дезодорант', str(x)))"
   ]
  },
  {
   "cell_type": "markdown",
   "metadata": {},
   "source": [
    "Аналогично с **туалетной водой**"
   ]
  },
  {
   "cell_type": "code",
   "execution_count": 195,
   "metadata": {},
   "outputs": [],
   "source": [
    "dataset['parfume_type'] = dataset['parfume_type'].apply(lambda x: re.sub('.*(туалетна(я)?) (вода).*', 'туалетная вода', str(x)))\n",
    "dataset['parfume_type'] = dataset['parfume_type'].apply(lambda x: re.sub('.*(вода туалетная).*', 'туалетная вода', str(x)))"
   ]
  },
  {
   "cell_type": "markdown",
   "metadata": {},
   "source": [
    "**Духи**"
   ]
  },
  {
   "cell_type": "code",
   "execution_count": 196,
   "metadata": {},
   "outputs": [],
   "source": [
    "dataset['parfume_type'] = dataset['parfume_type'].apply(lambda x: re.sub('.*концентрированные духи|духи концентрированные*', 'духи', str(x)))\n",
    "dataset['parfume_type'] = dataset['parfume_type'].apply(lambda x: re.sub('.*духи роликовые|духи-спрей*', 'духи', str(x)))\n",
    "dataset['parfume_type'] = dataset['parfume_type'].apply(lambda x: re.sub('.*мужские духи *', 'духи', str(x)))"
   ]
  },
  {
   "cell_type": "markdown",
   "metadata": {},
   "source": [
    "Удалим неинтересующие категории"
   ]
  },
  {
   "cell_type": "code",
   "execution_count": 197,
   "metadata": {},
   "outputs": [],
   "source": [
    "dataset = dataset[~dataset.parfume_type.str.contains('лосьон')]\n",
    "dataset = dataset[~dataset.parfume_type.str.contains('тела')]\n",
    "dataset = dataset[~dataset.parfume_type.str.contains('гель')]\n",
    "dataset = dataset[~dataset.parfume_type.str.contains('шкатул')]\n",
    "dataset = dataset[~dataset.parfume_type.str.contains('воронк')]\n",
    "dataset = dataset[~dataset.parfume_type.str.contains('клатч')]\n",
    "dataset = dataset[~dataset.parfume_type.str.contains('футляр')]\n",
    "dataset = dataset[~dataset.parfume_type.str.contains('с роликовым аппликатором')]"
   ]
  },
  {
   "cell_type": "code",
   "execution_count": null,
   "metadata": {},
   "outputs": [],
   "source": [
    "dataset['parfume_type'] = dataset['parfume_type'].apply(lambda x: re.sub('.*масляные духи.*', 'масляные духи', str(x)))\n",
    "dataset['parfume_type'] = dataset['parfume_type'].apply(lambda x: re.sub('.*духи масляные.*', 'масляные духи', str(x)))\n",
    "dataset['parfume_type'] = dataset['parfume_type'].apply(lambda x: re.sub('.*масляной основе.*', 'масляные духи', str(x)))\n",
    "dataset['parfume_type'] = dataset['parfume_type'].apply(lambda x: re.sub('.*масляный парфюм|масло.*', 'масляные духи', str(x)))"
   ]
  },
  {
   "cell_type": "code",
   "execution_count": 202,
   "metadata": {},
   "outputs": [],
   "source": [
    "dataset.to_csv('data/dataset.tsv', sep='\\t', index=False, quoting=1)"
   ]
  },
  {
   "cell_type": "markdown",
   "metadata": {},
   "source": [
    "### For whom - для кого\n",
    "\n",
    "Унифицирование категориального типа - *for_whom*"
   ]
  },
  {
   "cell_type": "code",
   "execution_count": 203,
   "metadata": {},
   "outputs": [],
   "source": [
    "dataset = pd.read_csv('data/dataset.tsv', sep='\\t', quoting=1, dtype=str)"
   ]
  },
  {
   "cell_type": "code",
   "execution_count": 204,
   "metadata": {},
   "outputs": [],
   "source": [
    "dataset['for_whom'] = dataset['for_whom'].str.lower().str.strip()"
   ]
  },
  {
   "cell_type": "code",
   "execution_count": 208,
   "metadata": {},
   "outputs": [
    {
     "data": {
      "text/plain": [
       "for_whom\n",
       "унисекс          3203\n",
       "женский          1605\n",
       "мужской           739\n",
       "для девочек        20\n",
       "для мальчиков       2\n",
       "Name: count, dtype: int64"
      ]
     },
     "execution_count": 208,
     "metadata": {},
     "output_type": "execute_result"
    }
   ],
   "source": [
    "dataset['for_whom'].value_counts().head(30)\n",
    "# print(dataset['for_whom'].unique())\n"
   ]
  },
  {
   "cell_type": "markdown",
   "metadata": {},
   "source": [
    "Унифицируем значения"
   ]
  },
  {
   "cell_type": "code",
   "execution_count": 206,
   "metadata": {},
   "outputs": [],
   "source": [
    "dataset['for_whom'] = dataset['for_whom'].apply(lambda x: re.sub('.*унисекс.*', 'унисекс', str(x)) if pd.notna(x) else x)\n",
    "dataset['for_whom'] = dataset['for_whom'].apply(lambda x: re.sub('для девочек, для мальчиков', 'унисекс', str(x)) if pd.notna(x) else x)"
   ]
  },
  {
   "cell_type": "code",
   "execution_count": 207,
   "metadata": {},
   "outputs": [],
   "source": [
    "\n",
    "dataset.to_csv('data/dataset.tsv', sep='\\t', index=False, quoting=1)"
   ]
  },
  {
   "cell_type": "markdown",
   "metadata": {},
   "source": [
    "### brand_country и produce_country\n",
    "\n",
    "Унифицирование категориальных полей *brand_country* и *produce_country*"
   ]
  },
  {
   "cell_type": "code",
   "execution_count": null,
   "metadata": {},
   "outputs": [],
   "source": [
    "dataset = pd.read_csv('data/dataset.tsv', sep='\\t', quoting=1, dtype=str)"
   ]
  },
  {
   "cell_type": "code",
   "execution_count": null,
   "metadata": {},
   "outputs": [],
   "source": [
    "dataset['brand_country'] = dataset['produce_country'].str.lower().str.strip()\n",
    "dataset['produce_country'] = dataset['produce_country'].str.lower().str.strip()"
   ]
  },
  {
   "cell_type": "code",
   "execution_count": null,
   "metadata": {},
   "outputs": [],
   "source": [
    "dataset['brand_country'].value_counts().head(30)\n",
    "# print(dataset['brand_country'].unique())"
   ]
  },
  {
   "cell_type": "code",
   "execution_count": null,
   "metadata": {},
   "outputs": [],
   "source": [
    "dataset['produce_country'] = dataset['produce_country'].apply(lambda x: re.sub('.*россия.*', 'россия', str(x)) if pd.notna(x) else x)\n",
    "dataset['brand_country'] = dataset['brand_country'].apply(lambda x: re.sub('.*россия.*', 'россия', str(x)) if pd.notna(x) else x)"
   ]
  },
  {
   "cell_type": "code",
   "execution_count": null,
   "metadata": {},
   "outputs": [],
   "source": [
    "dataset.to_csv('data/dataset.tsv', sep='\\t', index=False, quoting=1)"
   ]
  },
  {
   "cell_type": "markdown",
   "metadata": {},
   "source": [
    "## Преобразование в ARFF"
   ]
  },
  {
   "cell_type": "code",
   "execution_count": 221,
   "metadata": {},
   "outputs": [],
   "source": [
    "import pandas as pd"
   ]
  },
  {
   "cell_type": "code",
   "execution_count": 222,
   "metadata": {},
   "outputs": [],
   "source": [
    "dataset = pd.read_csv('data/dataset.tsv', sep='\\t', quoting=1, dtype=str)"
   ]
  },
  {
   "cell_type": "markdown",
   "metadata": {},
   "source": [
    "Создадим определение типов признаков"
   ]
  },
  {
   "cell_type": "code",
   "execution_count": 224,
   "metadata": {},
   "outputs": [],
   "source": [
    "types = {\n",
    "    'url': 'string',\n",
    "    'title': 'string',\n",
    "    'article': 'string',\n",
    "    'parfume_type': 'nominal',\n",
    "    'full_price_rub': 'numeric',\n",
    "    'sale_price_rub': 'numeric',\n",
    "    'volume_ml': 'numeric',\n",
    "    'for_whom': 'nominal',\n",
    "    'aroma_group': 'string',\n",
    "    'top_notes': 'string',\n",
    "    'mid_notes': 'string',\n",
    "    'base_notes': 'string',\n",
    "    'description': 'string',\n",
    "    'rating': 'numeric',\n",
    "    'ratings_count': 'numeric',\n",
    "    'brand': 'string',\n",
    "    'brand_country': 'nominal',\n",
    "    'produce_country': 'nominal'\n",
    "}"
   ]
  },
  {
   "cell_type": "markdown",
   "metadata": {},
   "source": [
    "Код функции для сохранения данных в формате ARFF"
   ]
  },
  {
   "cell_type": "code",
   "execution_count": 225,
   "metadata": {},
   "outputs": [],
   "source": [
    "def convert_to_arff(df, relation_name, types, file_name):\n",
    "    with open(file_name, 'w', encoding='utf-8') as f:\n",
    "        # Записываем заголовок @relation\n",
    "        f.write(f\"@relation {relation_name}\\n\\n\")\n",
    "        \n",
    "        # Записываем каждый столбец как атрибут\n",
    "        for column in df.columns:\n",
    "            if types[column] == 'numeric':\n",
    "                f.write(f\"@attribute {column} numeric\\n\")\n",
    "            elif types[column] == 'nominal':\n",
    "                unique_values = df[column].dropna().unique()\n",
    "                unique_values_str = ','.join(map(str, unique_values))\n",
    "                f.write(f\"@attribute {column} {{{unique_values_str}}}\\n\")\n",
    "            elif types[column] == 'string':\n",
    "                f.write(f\"@attribute {column} string\\n\")\n",
    "        \n",
    "        # Записываем данные\n",
    "        f.write(\"\\n@data\\n\")\n",
    "        for _, row in df.iterrows():\n",
    "            row['description'] = row['description'].replace(',', r'\\,') # Экранируем запятые в поле 'description'\n",
    "            row_str = ','.join(map(str, row))\n",
    "            f.write(f\"{row_str}\\n\")"
   ]
  },
  {
   "cell_type": "code",
   "execution_count": 226,
   "metadata": {},
   "outputs": [],
   "source": [
    "convert_to_arff(dataset, 'parfumes', types, 'data/dataset.arff')"
   ]
  },
  {
   "cell_type": "markdown",
   "metadata": {},
   "source": [
    "## Предобработка\n",
    "\n",
    "Создать копию `dataset.tsv` под названием `preproc_dataset.tsv`"
   ]
  },
  {
   "cell_type": "markdown",
   "metadata": {},
   "source": [
    "### Brand\n",
    "\n",
    "Приведение признака *brand* в нижний регистр и удаление лишних пробелов "
   ]
  },
  {
   "cell_type": "code",
   "execution_count": 227,
   "metadata": {},
   "outputs": [],
   "source": [
    "dataset = pd.read_csv('data/preproc_dataset.tsv', sep='\\t', quoting=1, dtype=str)"
   ]
  },
  {
   "cell_type": "code",
   "execution_count": 228,
   "metadata": {},
   "outputs": [],
   "source": [
    "dataset['brand'] = dataset['brand'].str.lower().str.strip()"
   ]
  },
  {
   "cell_type": "code",
   "execution_count": 229,
   "metadata": {},
   "outputs": [],
   "source": [
    "dataset.to_csv('data/preproc_dataset.tsv', sep='\\t', index=False, quoting=1)"
   ]
  },
  {
   "cell_type": "markdown",
   "metadata": {},
   "source": [
    "### Получение названий\n",
    "\n",
    "Удаление лишней информации из признака *title*"
   ]
  },
  {
   "cell_type": "markdown",
   "metadata": {},
   "source": [
    "У всех названий первая часть это название бренда, поэтому можно от неё избавиться и оставить только уникальную часть"
   ]
  },
  {
   "cell_type": "code",
   "execution_count": 230,
   "metadata": {},
   "outputs": [],
   "source": [
    "dataset = pd.read_csv('data/preproc_dataset.tsv', sep='\\t', quoting=1, dtype=str)"
   ]
  },
  {
   "cell_type": "code",
   "execution_count": 231,
   "metadata": {},
   "outputs": [],
   "source": [
    "dataset['title'] = dataset['title'].str.lower().str.strip().str.replace('\\xa0', ' ')"
   ]
  },
  {
   "cell_type": "code",
   "execution_count": 232,
   "metadata": {},
   "outputs": [
    {
     "data": {
      "text/html": [
       "<div>\n",
       "<style scoped>\n",
       "    .dataframe tbody tr th:only-of-type {\n",
       "        vertical-align: middle;\n",
       "    }\n",
       "\n",
       "    .dataframe tbody tr th {\n",
       "        vertical-align: top;\n",
       "    }\n",
       "\n",
       "    .dataframe thead th {\n",
       "        text-align: right;\n",
       "    }\n",
       "</style>\n",
       "<table border=\"1\" class=\"dataframe\">\n",
       "  <thead>\n",
       "    <tr style=\"text-align: right;\">\n",
       "      <th></th>\n",
       "      <th>url</th>\n",
       "      <th>title</th>\n",
       "      <th>article</th>\n",
       "      <th>parfume_type</th>\n",
       "      <th>full_price_rub</th>\n",
       "      <th>sale_price_rub</th>\n",
       "      <th>volume_ml</th>\n",
       "      <th>for_whom</th>\n",
       "      <th>aroma_group</th>\n",
       "      <th>top_notes</th>\n",
       "      <th>mid_notes</th>\n",
       "      <th>base_notes</th>\n",
       "      <th>description</th>\n",
       "      <th>rating</th>\n",
       "      <th>ratings_count</th>\n",
       "      <th>brand</th>\n",
       "      <th>brand_country</th>\n",
       "      <th>produce_country</th>\n",
       "    </tr>\n",
       "  </thead>\n",
       "  <tbody>\n",
       "    <tr>\n",
       "      <th>0</th>\n",
       "      <td>https://goldapple.ru//19000117827-aqua-millefolia</td>\n",
       "      <td>le couvent aqua millefolia</td>\n",
       "      <td>19000117827</td>\n",
       "      <td>туалетная вода</td>\n",
       "      <td>4900</td>\n",
       "      <td>3185</td>\n",
       "      <td>50</td>\n",
       "      <td>унисекс</td>\n",
       "      <td>травяные, цитрусовые</td>\n",
       "      <td>лимон, мята</td>\n",
       "      <td>вербена, гальбанум</td>\n",
       "      <td>гваяковое дерево</td>\n",
       "      <td>Аромат AQUA MILLEFOLIA посвящен вавилонским Ви...</td>\n",
       "      <td>4.5</td>\n",
       "      <td>17</td>\n",
       "      <td>le couvent</td>\n",
       "      <td>франция</td>\n",
       "      <td>франция</td>\n",
       "    </tr>\n",
       "    <tr>\n",
       "      <th>1</th>\n",
       "      <td>https://goldapple.ru//26180600015-famille-roya...</td>\n",
       "      <td>12 parfumeurs francais famille royale le roi c...</td>\n",
       "      <td>26180600015</td>\n",
       "      <td>духи</td>\n",
       "      <td>29700</td>\n",
       "      <td>25245</td>\n",
       "      <td>100</td>\n",
       "      <td>унисекс</td>\n",
       "      <td>акватические, фруктовые</td>\n",
       "      <td>бергамот, зеленое яблоко, лаванда и арбуз</td>\n",
       "      <td>кедр и морские оттенки</td>\n",
       "      <td>ваниль, пачули и ветивер</td>\n",
       "      <td>Духи 12 Parfumeurs Francais Famille Royale Le ...</td>\n",
       "      <td>0.0</td>\n",
       "      <td>0</td>\n",
       "      <td>12 parfumeurs francais</td>\n",
       "      <td>франция</td>\n",
       "      <td>франция</td>\n",
       "    </tr>\n",
       "    <tr>\n",
       "      <th>2</th>\n",
       "      <td>https://goldapple.ru//19000048601-meadow-tea</td>\n",
       "      <td>nōse perfumes meadow tea</td>\n",
       "      <td>19000048601</td>\n",
       "      <td>парфюмерная вода</td>\n",
       "      <td>14900</td>\n",
       "      <td>11175</td>\n",
       "      <td>33</td>\n",
       "      <td>унисекс</td>\n",
       "      <td>пудровые</td>\n",
       "      <td>мадагаскарская цитронелла, монарда, цветы липы</td>\n",
       "      <td>абсолют зеленого чая, почки тополя, ваниль</td>\n",
       "      <td>цистус, амбра</td>\n",
       "      <td>Мягкий и одновременно строгий аромат, где соче...</td>\n",
       "      <td>0.0</td>\n",
       "      <td>0</td>\n",
       "      <td>nōse perfumes</td>\n",
       "      <td>россия</td>\n",
       "      <td>россия</td>\n",
       "    </tr>\n",
       "    <tr>\n",
       "      <th>3</th>\n",
       "      <td>https://goldapple.ru//19000213214-musc-ravageu...</td>\n",
       "      <td>frederic malle musc ravageur holiday limited e...</td>\n",
       "      <td>19000213214</td>\n",
       "      <td>парфюмерная вода</td>\n",
       "      <td>29700</td>\n",
       "      <td>29700</td>\n",
       "      <td>100</td>\n",
       "      <td>унисекс</td>\n",
       "      <td>амбровые</td>\n",
       "      <td>бергамот</td>\n",
       "      <td>корица, амбра</td>\n",
       "      <td>ваниль, мускус</td>\n",
       "      <td>Musc Ravageur был выпущен в 2000 году и обозна...</td>\n",
       "      <td>0.0</td>\n",
       "      <td>0</td>\n",
       "      <td>frederic malle</td>\n",
       "      <td>франция</td>\n",
       "      <td>франция</td>\n",
       "    </tr>\n",
       "    <tr>\n",
       "      <th>4</th>\n",
       "      <td>https://goldapple.ru//19000220504-gambit</td>\n",
       "      <td>mind games gambit</td>\n",
       "      <td>19000220504</td>\n",
       "      <td>экстракт</td>\n",
       "      <td>25550</td>\n",
       "      <td>22995</td>\n",
       "      <td>100</td>\n",
       "      <td>унисекс</td>\n",
       "      <td>кожаные, древесные</td>\n",
       "      <td>петитгрейн, лаванда, гвоздика</td>\n",
       "      <td>кардамон, мадагаскарская герань, мимоза</td>\n",
       "      <td>пачули, сандаловое дерево, амбростар</td>\n",
       "      <td>Коллекция SOULMATE воплощает силу и единство п...</td>\n",
       "      <td>5.0</td>\n",
       "      <td>4</td>\n",
       "      <td>mind games</td>\n",
       "      <td>сша</td>\n",
       "      <td>сша</td>\n",
       "    </tr>\n",
       "    <tr>\n",
       "      <th>5</th>\n",
       "      <td>https://goldapple.ru//19000120337-shiro</td>\n",
       "      <td>ajmal shiro</td>\n",
       "      <td>19000120337</td>\n",
       "      <td>парфюмерная вода</td>\n",
       "      <td>11500</td>\n",
       "      <td>8050</td>\n",
       "      <td>90</td>\n",
       "      <td>мужской</td>\n",
       "      <td>акватические</td>\n",
       "      <td>лимон, яблоко, герань</td>\n",
       "      <td>акватический аккорд, роза, кашмеран</td>\n",
       "      <td>кедр, амбра,мускус</td>\n",
       "      <td>“Аромат - это все, что нужно для путешествия в...</td>\n",
       "      <td>0.0</td>\n",
       "      <td>0</td>\n",
       "      <td>ajmal</td>\n",
       "      <td>оаэ</td>\n",
       "      <td>оаэ</td>\n",
       "    </tr>\n",
       "    <tr>\n",
       "      <th>6</th>\n",
       "      <td>https://goldapple.ru//19000281747-scusami</td>\n",
       "      <td>filippo sorcinelli scusami</td>\n",
       "      <td>19000281747</td>\n",
       "      <td>духи</td>\n",
       "      <td>19500</td>\n",
       "      <td>18525</td>\n",
       "      <td>100</td>\n",
       "      <td>унисекс</td>\n",
       "      <td>цветочные</td>\n",
       "      <td>слива «мирабелла», лимон, бергамот, гелиотроп,...</td>\n",
       "      <td>черная смородина, иланг-иланг, фрезия, жидкий ...</td>\n",
       "      <td>амбра, амбретта, кремовый сандал, пачули, кедр...</td>\n",
       "      <td>_scusami_ - это форма забвения, состоящая из б...</td>\n",
       "      <td>0.0</td>\n",
       "      <td>0</td>\n",
       "      <td>filippo sorcinelli</td>\n",
       "      <td>италия</td>\n",
       "      <td>италия</td>\n",
       "    </tr>\n",
       "    <tr>\n",
       "      <th>7</th>\n",
       "      <td>https://goldapple.ru//19000209596-heaven-can-wait</td>\n",
       "      <td>frederic malle heaven can wait</td>\n",
       "      <td>19000209596</td>\n",
       "      <td>парфюмерная вода</td>\n",
       "      <td>22600</td>\n",
       "      <td>22600</td>\n",
       "      <td>50</td>\n",
       "      <td>унисекс</td>\n",
       "      <td>древесные</td>\n",
       "      <td>перец пименто, гвоздика, амбретта, семена моркови</td>\n",
       "      <td>ирис, ветивер, кашмеран, кедр</td>\n",
       "      <td>ваниль, персик, слива, мускус</td>\n",
       "      <td>Фредерик Маль и Жан-Клод Эллена работали над а...</td>\n",
       "      <td>4.0</td>\n",
       "      <td>1</td>\n",
       "      <td>frederic malle</td>\n",
       "      <td>франция</td>\n",
       "      <td>франция</td>\n",
       "    </tr>\n",
       "    <tr>\n",
       "      <th>8</th>\n",
       "      <td>https://goldapple.ru//26772000002-cafe-aoud</td>\n",
       "      <td>mancera café aoud</td>\n",
       "      <td>26772000002</td>\n",
       "      <td>парфюмерная вода</td>\n",
       "      <td>15730</td>\n",
       "      <td>7865</td>\n",
       "      <td>60</td>\n",
       "      <td>унисекс</td>\n",
       "      <td>восточные</td>\n",
       "      <td>персик, черная смородина, бергамот</td>\n",
       "      <td>амбра, цветочные ноты, кофе</td>\n",
       "      <td>белый мускус, сладкие ноты, древесные ноты</td>\n",
       "      <td>Ароматный гимн древней цивилизации Византии, с...</td>\n",
       "      <td>5.0</td>\n",
       "      <td>1</td>\n",
       "      <td>mancera</td>\n",
       "      <td>NaN</td>\n",
       "      <td>NaN</td>\n",
       "    </tr>\n",
       "    <tr>\n",
       "      <th>9</th>\n",
       "      <td>https://goldapple.ru//81151100001-tendre-rever...</td>\n",
       "      <td>marina de bourbon tendre reverence</td>\n",
       "      <td>81151100001</td>\n",
       "      <td>парфюмерная вода</td>\n",
       "      <td>4910</td>\n",
       "      <td>2946</td>\n",
       "      <td>30</td>\n",
       "      <td>женский</td>\n",
       "      <td>цветочные, цитрусовые</td>\n",
       "      <td>бергамот, красная смородина и персик</td>\n",
       "      <td>розовый пион, манголия и фиалка</td>\n",
       "      <td>мускус, сандал и ваниль</td>\n",
       "      <td>Утонченный, сладкий и изысканный Tendre Revere...</td>\n",
       "      <td>4.5</td>\n",
       "      <td>6</td>\n",
       "      <td>marina de bourbon</td>\n",
       "      <td>франция</td>\n",
       "      <td>франция</td>\n",
       "    </tr>\n",
       "  </tbody>\n",
       "</table>\n",
       "</div>"
      ],
      "text/plain": [
       "                                                 url  \\\n",
       "0  https://goldapple.ru//19000117827-aqua-millefolia   \n",
       "1  https://goldapple.ru//26180600015-famille-roya...   \n",
       "2       https://goldapple.ru//19000048601-meadow-tea   \n",
       "3  https://goldapple.ru//19000213214-musc-ravageu...   \n",
       "4           https://goldapple.ru//19000220504-gambit   \n",
       "5            https://goldapple.ru//19000120337-shiro   \n",
       "6          https://goldapple.ru//19000281747-scusami   \n",
       "7  https://goldapple.ru//19000209596-heaven-can-wait   \n",
       "8        https://goldapple.ru//26772000002-cafe-aoud   \n",
       "9  https://goldapple.ru//81151100001-tendre-rever...   \n",
       "\n",
       "                                               title      article  \\\n",
       "0                         le couvent aqua millefolia  19000117827   \n",
       "1  12 parfumeurs francais famille royale le roi c...  26180600015   \n",
       "2                           nōse perfumes meadow tea  19000048601   \n",
       "3  frederic malle musc ravageur holiday limited e...  19000213214   \n",
       "4                                  mind games gambit  19000220504   \n",
       "5                                        ajmal shiro  19000120337   \n",
       "6                         filippo sorcinelli scusami  19000281747   \n",
       "7                     frederic malle heaven can wait  19000209596   \n",
       "8                                  mancera café aoud  26772000002   \n",
       "9                 marina de bourbon tendre reverence  81151100001   \n",
       "\n",
       "       parfume_type full_price_rub sale_price_rub volume_ml for_whom  \\\n",
       "0    туалетная вода           4900           3185        50  унисекс   \n",
       "1              духи          29700          25245       100  унисекс   \n",
       "2  парфюмерная вода          14900          11175        33  унисекс   \n",
       "3  парфюмерная вода          29700          29700       100  унисекс   \n",
       "4          экстракт          25550          22995       100  унисекс   \n",
       "5  парфюмерная вода          11500           8050        90  мужской   \n",
       "6              духи          19500          18525       100  унисекс   \n",
       "7  парфюмерная вода          22600          22600        50  унисекс   \n",
       "8  парфюмерная вода          15730           7865        60  унисекс   \n",
       "9  парфюмерная вода           4910           2946        30  женский   \n",
       "\n",
       "               aroma_group                                          top_notes  \\\n",
       "0     травяные, цитрусовые                                        лимон, мята   \n",
       "1  акватические, фруктовые          бергамот, зеленое яблоко, лаванда и арбуз   \n",
       "2                 пудровые     мадагаскарская цитронелла, монарда, цветы липы   \n",
       "3                 амбровые                                           бергамот   \n",
       "4       кожаные, древесные                      петитгрейн, лаванда, гвоздика   \n",
       "5             акватические                              лимон, яблоко, герань   \n",
       "6                цветочные  слива «мирабелла», лимон, бергамот, гелиотроп,...   \n",
       "7                древесные  перец пименто, гвоздика, амбретта, семена моркови   \n",
       "8                восточные                 персик, черная смородина, бергамот   \n",
       "9    цветочные, цитрусовые               бергамот, красная смородина и персик   \n",
       "\n",
       "                                           mid_notes  \\\n",
       "0                                 вербена, гальбанум   \n",
       "1                             кедр и морские оттенки   \n",
       "2         абсолют зеленого чая, почки тополя, ваниль   \n",
       "3                                      корица, амбра   \n",
       "4            кардамон, мадагаскарская герань, мимоза   \n",
       "5                акватический аккорд, роза, кашмеран   \n",
       "6  черная смородина, иланг-иланг, фрезия, жидкий ...   \n",
       "7                      ирис, ветивер, кашмеран, кедр   \n",
       "8                        амбра, цветочные ноты, кофе   \n",
       "9                    розовый пион, манголия и фиалка   \n",
       "\n",
       "                                          base_notes  \\\n",
       "0                                   гваяковое дерево   \n",
       "1                           ваниль, пачули и ветивер   \n",
       "2                                      цистус, амбра   \n",
       "3                                     ваниль, мускус   \n",
       "4               пачули, сандаловое дерево, амбростар   \n",
       "5                                 кедр, амбра,мускус   \n",
       "6  амбра, амбретта, кремовый сандал, пачули, кедр...   \n",
       "7                      ваниль, персик, слива, мускус   \n",
       "8         белый мускус, сладкие ноты, древесные ноты   \n",
       "9                            мускус, сандал и ваниль   \n",
       "\n",
       "                                         description rating ratings_count  \\\n",
       "0  Аромат AQUA MILLEFOLIA посвящен вавилонским Ви...    4.5            17   \n",
       "1  Духи 12 Parfumeurs Francais Famille Royale Le ...    0.0             0   \n",
       "2  Мягкий и одновременно строгий аромат, где соче...    0.0             0   \n",
       "3  Musc Ravageur был выпущен в 2000 году и обозна...    0.0             0   \n",
       "4  Коллекция SOULMATE воплощает силу и единство п...    5.0             4   \n",
       "5  “Аромат - это все, что нужно для путешествия в...    0.0             0   \n",
       "6  _scusami_ - это форма забвения, состоящая из б...    0.0             0   \n",
       "7  Фредерик Маль и Жан-Клод Эллена работали над а...    4.0             1   \n",
       "8  Ароматный гимн древней цивилизации Византии, с...    5.0             1   \n",
       "9  Утонченный, сладкий и изысканный Tendre Revere...    4.5             6   \n",
       "\n",
       "                    brand brand_country produce_country  \n",
       "0              le couvent       франция         франция  \n",
       "1  12 parfumeurs francais       франция         франция  \n",
       "2           nōse perfumes        россия          россия  \n",
       "3          frederic malle       франция         франция  \n",
       "4              mind games           сша             сша  \n",
       "5                   ajmal           оаэ             оаэ  \n",
       "6      filippo sorcinelli        италия          италия  \n",
       "7          frederic malle       франция         франция  \n",
       "8                 mancera           NaN             NaN  \n",
       "9       marina de bourbon       франция         франция  "
      ]
     },
     "execution_count": 232,
     "metadata": {},
     "output_type": "execute_result"
    }
   ],
   "source": [
    "dataset.head(10)"
   ]
  },
  {
   "cell_type": "markdown",
   "metadata": {},
   "source": [
    "Функция, которая обрежет название бренда из названия духов"
   ]
  },
  {
   "cell_type": "code",
   "execution_count": 233,
   "metadata": {},
   "outputs": [],
   "source": [
    "def remove_producer(row):\n",
    "    if pd.notna(row['brand']):\n",
    "        return str(row['title']).removeprefix(row['brand']).strip()\n",
    "    else:\n",
    "        return row['title']\n",
    "        "
   ]
  },
  {
   "cell_type": "code",
   "execution_count": 234,
   "metadata": {},
   "outputs": [],
   "source": [
    "dataset['title'] = dataset.apply(lambda row: remove_producer(row), axis=1)"
   ]
  },
  {
   "cell_type": "markdown",
   "metadata": {},
   "source": [
    "сохранение"
   ]
  },
  {
   "cell_type": "code",
   "execution_count": 235,
   "metadata": {},
   "outputs": [],
   "source": [
    "dataset.to_csv('data/preproc_dataset.tsv', sep='\\t', index=False, quoting=1)"
   ]
  },
  {
   "cell_type": "markdown",
   "metadata": {},
   "source": [
    "### Обработка признаков с массивами: aroma_group, top_notes, mid_notes, base_notes\n",
    "\n",
    "Приведение полей к единому виду, удобному для дальнейшей работы"
   ]
  },
  {
   "cell_type": "code",
   "execution_count": 236,
   "metadata": {},
   "outputs": [],
   "source": [
    "import re\n",
    "\n",
    "dataset = pd.read_csv('data/preproc_dataset.tsv', sep='\\t', quoting=1, dtype=str)"
   ]
  },
  {
   "cell_type": "markdown",
   "metadata": {},
   "source": [
    "Приведем их все к нижнему регистру и удалим запятые и иные разделители"
   ]
  },
  {
   "cell_type": "code",
   "execution_count": 237,
   "metadata": {},
   "outputs": [],
   "source": [
    "dataset['aroma_group'] = dataset['aroma_group'].str.lower().str.strip()\n",
    "dataset['top_notes'] = dataset['top_notes'].str.lower().str.strip()\n",
    "dataset['mid_notes'] = dataset['mid_notes'].str.lower().str.strip()\n",
    "dataset['base_notes'] = dataset['base_notes'].str.lower().str.strip()"
   ]
  },
  {
   "cell_type": "markdown",
   "metadata": {},
   "source": [
    "Удалим запятые и другие разделители"
   ]
  },
  {
   "cell_type": "code",
   "execution_count": 238,
   "metadata": {},
   "outputs": [],
   "source": [
    "def func(x):\n",
    "    j = []\n",
    "    for w in re.split(r'\\s*,\\s*|\\s+и\\s+', str(x)):\n",
    "        j.append(w.strip()) \n",
    "    return ';'.join(j)\n",
    "\n",
    "dataset['aroma_group'] = dataset['aroma_group'].apply(lambda x: func(x) if pd.notna(x) else x)\n",
    "dataset['top_notes'] = dataset['top_notes'].apply(lambda x: func(x) if pd.notna(x) else x)\n",
    "dataset['mid_notes'] = dataset['mid_notes'].apply(lambda x: func(x) if pd.notna(x) else x)\n",
    "dataset['base_notes'] = dataset['base_notes'].apply(lambda x: func(x) if pd.notna(x) else x)"
   ]
  },
  {
   "cell_type": "code",
   "execution_count": 239,
   "metadata": {},
   "outputs": [
    {
     "data": {
      "text/html": [
       "<div>\n",
       "<style scoped>\n",
       "    .dataframe tbody tr th:only-of-type {\n",
       "        vertical-align: middle;\n",
       "    }\n",
       "\n",
       "    .dataframe tbody tr th {\n",
       "        vertical-align: top;\n",
       "    }\n",
       "\n",
       "    .dataframe thead th {\n",
       "        text-align: right;\n",
       "    }\n",
       "</style>\n",
       "<table border=\"1\" class=\"dataframe\">\n",
       "  <thead>\n",
       "    <tr style=\"text-align: right;\">\n",
       "      <th></th>\n",
       "      <th>url</th>\n",
       "      <th>title</th>\n",
       "      <th>article</th>\n",
       "      <th>parfume_type</th>\n",
       "      <th>full_price_rub</th>\n",
       "      <th>sale_price_rub</th>\n",
       "      <th>volume_ml</th>\n",
       "      <th>for_whom</th>\n",
       "      <th>aroma_group</th>\n",
       "      <th>top_notes</th>\n",
       "      <th>mid_notes</th>\n",
       "      <th>base_notes</th>\n",
       "      <th>description</th>\n",
       "      <th>rating</th>\n",
       "      <th>ratings_count</th>\n",
       "      <th>brand</th>\n",
       "      <th>brand_country</th>\n",
       "      <th>produce_country</th>\n",
       "    </tr>\n",
       "  </thead>\n",
       "  <tbody>\n",
       "    <tr>\n",
       "      <th>0</th>\n",
       "      <td>https://goldapple.ru//19000117827-aqua-millefolia</td>\n",
       "      <td>aqua millefolia</td>\n",
       "      <td>19000117827</td>\n",
       "      <td>туалетная вода</td>\n",
       "      <td>4900</td>\n",
       "      <td>3185</td>\n",
       "      <td>50</td>\n",
       "      <td>унисекс</td>\n",
       "      <td>травяные;цитрусовые</td>\n",
       "      <td>лимон;мята</td>\n",
       "      <td>вербена;гальбанум</td>\n",
       "      <td>гваяковое дерево</td>\n",
       "      <td>Аромат AQUA MILLEFOLIA посвящен вавилонским Ви...</td>\n",
       "      <td>4.5</td>\n",
       "      <td>17</td>\n",
       "      <td>le couvent</td>\n",
       "      <td>франция</td>\n",
       "      <td>франция</td>\n",
       "    </tr>\n",
       "    <tr>\n",
       "      <th>1</th>\n",
       "      <td>https://goldapple.ru//26180600015-famille-roya...</td>\n",
       "      <td>famille royale le roi chanceux</td>\n",
       "      <td>26180600015</td>\n",
       "      <td>духи</td>\n",
       "      <td>29700</td>\n",
       "      <td>25245</td>\n",
       "      <td>100</td>\n",
       "      <td>унисекс</td>\n",
       "      <td>акватические;фруктовые</td>\n",
       "      <td>бергамот;зеленое яблоко;лаванда;арбуз</td>\n",
       "      <td>кедр;морские оттенки</td>\n",
       "      <td>ваниль;пачули;ветивер</td>\n",
       "      <td>Духи 12 Parfumeurs Francais Famille Royale Le ...</td>\n",
       "      <td>0.0</td>\n",
       "      <td>0</td>\n",
       "      <td>12 parfumeurs francais</td>\n",
       "      <td>франция</td>\n",
       "      <td>франция</td>\n",
       "    </tr>\n",
       "    <tr>\n",
       "      <th>2</th>\n",
       "      <td>https://goldapple.ru//19000048601-meadow-tea</td>\n",
       "      <td>meadow tea</td>\n",
       "      <td>19000048601</td>\n",
       "      <td>парфюмерная вода</td>\n",
       "      <td>14900</td>\n",
       "      <td>11175</td>\n",
       "      <td>33</td>\n",
       "      <td>унисекс</td>\n",
       "      <td>пудровые</td>\n",
       "      <td>мадагаскарская цитронелла;монарда;цветы липы</td>\n",
       "      <td>абсолют зеленого чая;почки тополя;ваниль</td>\n",
       "      <td>цистус;амбра</td>\n",
       "      <td>Мягкий и одновременно строгий аромат, где соче...</td>\n",
       "      <td>0.0</td>\n",
       "      <td>0</td>\n",
       "      <td>nōse perfumes</td>\n",
       "      <td>россия</td>\n",
       "      <td>россия</td>\n",
       "    </tr>\n",
       "    <tr>\n",
       "      <th>3</th>\n",
       "      <td>https://goldapple.ru//19000213214-musc-ravageu...</td>\n",
       "      <td>musc ravageur holiday limited edition</td>\n",
       "      <td>19000213214</td>\n",
       "      <td>парфюмерная вода</td>\n",
       "      <td>29700</td>\n",
       "      <td>29700</td>\n",
       "      <td>100</td>\n",
       "      <td>унисекс</td>\n",
       "      <td>амбровые</td>\n",
       "      <td>бергамот</td>\n",
       "      <td>корица;амбра</td>\n",
       "      <td>ваниль;мускус</td>\n",
       "      <td>Musc Ravageur был выпущен в 2000 году и обозна...</td>\n",
       "      <td>0.0</td>\n",
       "      <td>0</td>\n",
       "      <td>frederic malle</td>\n",
       "      <td>франция</td>\n",
       "      <td>франция</td>\n",
       "    </tr>\n",
       "    <tr>\n",
       "      <th>4</th>\n",
       "      <td>https://goldapple.ru//19000220504-gambit</td>\n",
       "      <td>gambit</td>\n",
       "      <td>19000220504</td>\n",
       "      <td>экстракт</td>\n",
       "      <td>25550</td>\n",
       "      <td>22995</td>\n",
       "      <td>100</td>\n",
       "      <td>унисекс</td>\n",
       "      <td>кожаные;древесные</td>\n",
       "      <td>петитгрейн;лаванда;гвоздика</td>\n",
       "      <td>кардамон;мадагаскарская герань;мимоза</td>\n",
       "      <td>пачули;сандаловое дерево;амбростар</td>\n",
       "      <td>Коллекция SOULMATE воплощает силу и единство п...</td>\n",
       "      <td>5.0</td>\n",
       "      <td>4</td>\n",
       "      <td>mind games</td>\n",
       "      <td>сша</td>\n",
       "      <td>сша</td>\n",
       "    </tr>\n",
       "  </tbody>\n",
       "</table>\n",
       "</div>"
      ],
      "text/plain": [
       "                                                 url  \\\n",
       "0  https://goldapple.ru//19000117827-aqua-millefolia   \n",
       "1  https://goldapple.ru//26180600015-famille-roya...   \n",
       "2       https://goldapple.ru//19000048601-meadow-tea   \n",
       "3  https://goldapple.ru//19000213214-musc-ravageu...   \n",
       "4           https://goldapple.ru//19000220504-gambit   \n",
       "\n",
       "                                   title      article      parfume_type  \\\n",
       "0                        aqua millefolia  19000117827    туалетная вода   \n",
       "1         famille royale le roi chanceux  26180600015              духи   \n",
       "2                             meadow tea  19000048601  парфюмерная вода   \n",
       "3  musc ravageur holiday limited edition  19000213214  парфюмерная вода   \n",
       "4                                 gambit  19000220504          экстракт   \n",
       "\n",
       "  full_price_rub sale_price_rub volume_ml for_whom             aroma_group  \\\n",
       "0           4900           3185        50  унисекс     травяные;цитрусовые   \n",
       "1          29700          25245       100  унисекс  акватические;фруктовые   \n",
       "2          14900          11175        33  унисекс                пудровые   \n",
       "3          29700          29700       100  унисекс                амбровые   \n",
       "4          25550          22995       100  унисекс       кожаные;древесные   \n",
       "\n",
       "                                      top_notes  \\\n",
       "0                                    лимон;мята   \n",
       "1         бергамот;зеленое яблоко;лаванда;арбуз   \n",
       "2  мадагаскарская цитронелла;монарда;цветы липы   \n",
       "3                                      бергамот   \n",
       "4                   петитгрейн;лаванда;гвоздика   \n",
       "\n",
       "                                  mid_notes  \\\n",
       "0                         вербена;гальбанум   \n",
       "1                      кедр;морские оттенки   \n",
       "2  абсолют зеленого чая;почки тополя;ваниль   \n",
       "3                              корица;амбра   \n",
       "4     кардамон;мадагаскарская герань;мимоза   \n",
       "\n",
       "                           base_notes  \\\n",
       "0                    гваяковое дерево   \n",
       "1               ваниль;пачули;ветивер   \n",
       "2                        цистус;амбра   \n",
       "3                       ваниль;мускус   \n",
       "4  пачули;сандаловое дерево;амбростар   \n",
       "\n",
       "                                         description rating ratings_count  \\\n",
       "0  Аромат AQUA MILLEFOLIA посвящен вавилонским Ви...    4.5            17   \n",
       "1  Духи 12 Parfumeurs Francais Famille Royale Le ...    0.0             0   \n",
       "2  Мягкий и одновременно строгий аромат, где соче...    0.0             0   \n",
       "3  Musc Ravageur был выпущен в 2000 году и обозна...    0.0             0   \n",
       "4  Коллекция SOULMATE воплощает силу и единство п...    5.0             4   \n",
       "\n",
       "                    brand brand_country produce_country  \n",
       "0              le couvent       франция         франция  \n",
       "1  12 parfumeurs francais       франция         франция  \n",
       "2           nōse perfumes        россия          россия  \n",
       "3          frederic malle       франция         франция  \n",
       "4              mind games           сша             сша  "
      ]
     },
     "execution_count": 239,
     "metadata": {},
     "output_type": "execute_result"
    }
   ],
   "source": [
    "dataset.head()"
   ]
  },
  {
   "cell_type": "code",
   "execution_count": 240,
   "metadata": {},
   "outputs": [],
   "source": [
    "dataset.to_csv('data/preproc_dataset.tsv', sep='\\t', index=False, quoting=1)"
   ]
  },
  {
   "cell_type": "markdown",
   "metadata": {},
   "source": [
    "### Заполнение пропусков"
   ]
  },
  {
   "cell_type": "code",
   "execution_count": 241,
   "metadata": {},
   "outputs": [],
   "source": [
    "import pandas as pd"
   ]
  },
  {
   "cell_type": "code",
   "execution_count": 242,
   "metadata": {},
   "outputs": [],
   "source": [
    "dataset = pd.read_csv('data/preproc_dataset.tsv', sep='\\t', quoting=1, dtype=str)"
   ]
  },
  {
   "cell_type": "markdown",
   "metadata": {},
   "source": [
    "Проверим, в каком из признаков есть отсутствующие значения"
   ]
  },
  {
   "cell_type": "code",
   "execution_count": null,
   "metadata": {},
   "outputs": [],
   "source": [
    "dataset[dataset['base_notes'].isna()].head(30)"
   ]
  },
  {
   "cell_type": "markdown",
   "metadata": {},
   "source": [
    "Для всех пропущенных значений **volume_ml** заполним их модой по *parfume_type*"
   ]
  },
  {
   "cell_type": "code",
   "execution_count": 244,
   "metadata": {},
   "outputs": [],
   "source": [
    "dataset['volume_ml'] = dataset.groupby('parfume_type')['volume_ml'].transform(lambda x: x.fillna(x.mode()[0]))"
   ]
  },
  {
   "cell_type": "markdown",
   "metadata": {},
   "source": [
    "Для полей **brand_country** и **produce_country** заполним пропуски следущим образом: если известно одно из полей, сделаем второе таким же. Если неизвестны оба, то присвоим значение моды"
   ]
  },
  {
   "cell_type": "code",
   "execution_count": null,
   "metadata": {},
   "outputs": [],
   "source": [
    "# Случай, когда известно одно из полей\n",
    "dataset['brand_country'].fillna(dataset['produce_country'], inplace=True)\n",
    "dataset['produce_country'].fillna(dataset['brand_country'], inplace=True)\n",
    "\n",
    "# Случай, когда неизвестны оба из полей\n",
    "dataset['brand_country'].fillna(dataset['brand_country'].mode()[0], inplace=True)\n",
    "dataset['produce_country'].fillna(dataset['produce_country'].mode()[0], inplace=True)"
   ]
  },
  {
   "cell_type": "markdown",
   "metadata": {},
   "source": [
    "#### Заполнение пропусков у текстовых полей"
   ]
  },
  {
   "cell_type": "markdown",
   "metadata": {},
   "source": [
    "Все объекты, у которых пропущены значения полей **aroma_group**, **top_notes**, **mid_notes**, **base_notes** заполним значениями *'None'*"
   ]
  },
  {
   "cell_type": "code",
   "execution_count": null,
   "metadata": {},
   "outputs": [],
   "source": [
    "dataset['aroma_group'].fillna('None', inplace=True)\n",
    "dataset['top_notes'].fillna('None', inplace=True)\n",
    "dataset['mid_notes'].fillna('None', inplace=True)\n",
    "dataset['base_notes'].fillna('None', inplace=True)"
   ]
  },
  {
   "cell_type": "markdown",
   "metadata": {},
   "source": [
    "Либо можно заполнить их значением предыдущего/следующего объекта"
   ]
  },
  {
   "cell_type": "code",
   "execution_count": null,
   "metadata": {},
   "outputs": [],
   "source": [
    "dataset['aroma_group'].fillna(method='bfill', inplace=True)\n",
    "dataset['top_notes'].fillna(method='bfill', inplace=True)\n",
    "dataset['mid_notes'].fillna(method='bfill', inplace=True)\n",
    "dataset['base_notes'].fillna(method='bfill', inplace=True)"
   ]
  },
  {
   "cell_type": "markdown",
   "metadata": {},
   "source": [
    "Либо можно вообще удалить объекты с пропусками (так как их всего около 200, т.е. $\\approx3.5\\%$ от размера данных) "
   ]
  },
  {
   "cell_type": "code",
   "execution_count": null,
   "metadata": {},
   "outputs": [],
   "source": [
    "dataset = dataset.dropna(subset=['aroma_group', 'top_notes', 'mid_notes', 'base_notes'])"
   ]
  },
  {
   "cell_type": "code",
   "execution_count": 248,
   "metadata": {},
   "outputs": [],
   "source": [
    "dataset.to_csv('data/preproc_dataset.tsv', sep='\\t', index=False, quoting=1)"
   ]
  },
  {
   "cell_type": "markdown",
   "metadata": {},
   "source": [
    "### Перевод нецелевых категориальных признаков в числовые значения"
   ]
  },
  {
   "cell_type": "code",
   "execution_count": 249,
   "metadata": {},
   "outputs": [],
   "source": [
    "import pandas as pd"
   ]
  },
  {
   "cell_type": "code",
   "execution_count": 250,
   "metadata": {},
   "outputs": [],
   "source": [
    "dataset = pd.read_csv('data/preproc_dataset.tsv', sep='\\t', quoting=1, dtype=str)"
   ]
  },
  {
   "cell_type": "markdown",
   "metadata": {},
   "source": [
    "Нецелевые категориальные признаки - **brand_country** и **produce_country**\n",
    "\n",
    "Переведем их в числовые категории с помощью **One-Hot Encoding**"
   ]
  },
  {
   "cell_type": "code",
   "execution_count": 251,
   "metadata": {},
   "outputs": [],
   "source": [
    "dataset = pd.get_dummies(dataset, columns=['brand_country', 'produce_country'])"
   ]
  },
  {
   "cell_type": "code",
   "execution_count": 252,
   "metadata": {},
   "outputs": [],
   "source": [
    "dataset.to_csv('data/preproc_dataset.tsv', sep='\\t', index=False, quoting=1)"
   ]
  },
  {
   "cell_type": "markdown",
   "metadata": {},
   "source": [
    "### Перевод массивов в One-Hot Encoding"
   ]
  },
  {
   "cell_type": "code",
   "execution_count": 57,
   "metadata": {},
   "outputs": [],
   "source": [
    "import pandas as pd"
   ]
  },
  {
   "cell_type": "code",
   "execution_count": 84,
   "metadata": {},
   "outputs": [],
   "source": [
    "dataset = pd.read_csv('data/preproc_dataset.tsv', sep='\\t', quoting=1, dtype=str)"
   ]
  },
  {
   "cell_type": "markdown",
   "metadata": {},
   "source": [
    "Преваратим признаки со списками - **aroma_group**, **top_notes**, **mid_notes**, **base_notes** в набор отдельных признаков с помощью *One-Hot Encoding*"
   ]
  },
  {
   "cell_type": "markdown",
   "metadata": {},
   "source": [
    "В признаке aroma_group всего 17 уникальных значений, поэтому будем брать их все при кодировании"
   ]
  },
  {
   "cell_type": "code",
   "execution_count": 71,
   "metadata": {},
   "outputs": [],
   "source": [
    "m = set()\n",
    "for row in dataset['aroma_group']:\n",
    "    if (pd.isna(row)):\n",
    "        continue\n",
    "    for w in row.split(';'):\n",
    "        m.add(w)\n",
    "\n",
    "for group in m:\n",
    "    dataset['aroma_group_{0}'.format(group)] = 0"
   ]
  },
  {
   "cell_type": "code",
   "execution_count": 73,
   "metadata": {},
   "outputs": [],
   "source": [
    "# Функция для обновления one-hot кодирования\n",
    "def update_aroma_groups(row):\n",
    "    if pd.isna(row['aroma_group']):\n",
    "        return row\n",
    "    aromas = row['aroma_group'].split(';')\n",
    "    for aroma in aromas:\n",
    "        row[f'aroma_group_{aroma}'] = 1\n",
    "    return row\n",
    "\n",
    "# Применяем функцию ко всем строкам DataFrame\n",
    "dataset = dataset.apply(update_aroma_groups, axis=1)"
   ]
  },
  {
   "cell_type": "markdown",
   "metadata": {},
   "source": [
    "Для признаков **top_notes**, **mid_notes**, **base_notes** так как их количество очень велико возьмем топ 100 значений и сделаем для них *One-Hot Encoding*"
   ]
  },
  {
   "cell_type": "code",
   "execution_count": null,
   "metadata": {},
   "outputs": [],
   "source": [
    "d = dict()\n",
    "for row in dataset['base_notes']:\n",
    "    if (pd.isna(row)):\n",
    "        continue\n",
    "    for w in row.split(';'):\n",
    "        d[w] = d.setdefault(w, 0) + 1\n",
    "i = 1\n",
    "m = set()\n",
    "for name, count in sorted(d.items(), key=lambda x: x[1], reverse=True):\n",
    "    m.add(name.replace(' ', '_'))\n",
    "    i += 1\n",
    "    if i == 101:\n",
    "        break\n",
    "print(m)\n",
    "len(m)"
   ]
  },
  {
   "cell_type": "code",
   "execution_count": null,
   "metadata": {},
   "outputs": [],
   "source": [
    "for note in m:\n",
    "    dataset['base_notes_{0}'.format(note)] = 0\n",
    "\n",
    "# Функция для обновления one-hot кодирования\n",
    "def update_aroma_groups(row):\n",
    "    if pd.isna(row['base_notes']):\n",
    "        return row\n",
    "    aromas = row['base_notes'].split(';')\n",
    "    for aroma in aromas:\n",
    "        col_name = f'base_notes_{aroma.replace(' ', '_')}'\n",
    "        if col_name in dataset.columns:\n",
    "            row[col_name] = 1\n",
    "    return row\n",
    "\n",
    "# Применяем функцию ко всем строкам DataFrame\n",
    "dataset = dataset.apply(update_aroma_groups, axis=1)"
   ]
  },
  {
   "cell_type": "code",
   "execution_count": null,
   "metadata": {},
   "outputs": [],
   "source": [
    "dataset.head()"
   ]
  },
  {
   "cell_type": "code",
   "execution_count": 95,
   "metadata": {},
   "outputs": [],
   "source": [
    "dataset.to_csv('data/preproc_dataset.tsv', sep='\\t', index=False, quoting=1)"
   ]
  },
  {
   "cell_type": "markdown",
   "metadata": {},
   "source": [
    "### Нормализация числовых значений"
   ]
  },
  {
   "cell_type": "code",
   "execution_count": 1,
   "metadata": {},
   "outputs": [],
   "source": [
    "import pandas as pd"
   ]
  },
  {
   "cell_type": "code",
   "execution_count": 2,
   "metadata": {},
   "outputs": [],
   "source": [
    "dataset = pd.read_csv('data/preproc_dataset.tsv', sep='\\t', quoting=1, dtype=str)"
   ]
  },
  {
   "cell_type": "markdown",
   "metadata": {},
   "source": [
    "Для полей `sale_price_rub`, `full_price_rub`, `volume_ml`, `ratings_count` используем Min-Max нормализацию\n",
    "\n",
    "(Мб неуместно делать столбцы `sale_price_rub`, `full_price_rub` независимо друг от друга?)"
   ]
  },
  {
   "cell_type": "code",
   "execution_count": null,
   "metadata": {},
   "outputs": [],
   "source": [
    "category = 'volume_ml' # Здесь менять признак"
   ]
  },
  {
   "cell_type": "markdown",
   "metadata": {},
   "source": [
    "##### Min-Max нормализация"
   ]
  },
  {
   "cell_type": "code",
   "execution_count": null,
   "metadata": {},
   "outputs": [],
   "source": [
    "def normalize(x, min, max):\n",
    "    return (float(x) - min) / (max - min)\n",
    "\n",
    "col = pd.to_numeric(dataset[category])\n",
    "dataset[category] = dataset[category].apply(lambda x: normalize(x, col.min(), col.max()))"
   ]
  },
  {
   "cell_type": "markdown",
   "metadata": {},
   "source": [
    "##### Z-масштабирование"
   ]
  },
  {
   "cell_type": "code",
   "execution_count": null,
   "metadata": {},
   "outputs": [],
   "source": [
    "def normalize(x, mean, var):\n",
    "    return (float(x) - mean) / (var ** 0.5)\n",
    "\n",
    "col = pd.to_numeric(dataset[category])\n",
    "dataset[category] = dataset[category].apply(lambda x: normalize(x, col.mean(), col.var()))"
   ]
  },
  {
   "cell_type": "code",
   "execution_count": null,
   "metadata": {},
   "outputs": [],
   "source": [
    "dataset.to_csv('data/preproc_dataset.tsv', sep='\\t', index=False, quoting=1)"
   ]
  }
 ],
 "metadata": {
  "kernelspec": {
   "display_name": "Python 3",
   "language": "python",
   "name": "python3"
  },
  "language_info": {
   "codemirror_mode": {
    "name": "ipython",
    "version": 3
   },
   "file_extension": ".py",
   "mimetype": "text/x-python",
   "name": "python",
   "nbconvert_exporter": "python",
   "pygments_lexer": "ipython3",
   "version": "3.12.3"
  }
 },
 "nbformat": 4,
 "nbformat_minor": 2
}
