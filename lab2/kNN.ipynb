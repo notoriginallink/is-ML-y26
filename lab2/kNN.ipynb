{
 "cells": [
  {
   "cell_type": "markdown",
   "metadata": {},
   "source": [
    "# Метод ближайших соседей - lab2"
   ]
  },
  {
   "cell_type": "markdown",
   "metadata": {},
   "source": [
    "## Алгоритм"
   ]
  },
  {
   "cell_type": "markdown",
   "metadata": {},
   "source": [
    "### Ядра"
   ]
  },
  {
   "cell_type": "code",
   "execution_count": 524,
   "metadata": {},
   "outputs": [],
   "source": [
    "import math\n",
    "\n",
    "class Kernel:\n",
    "    @staticmethod\n",
    "    def uniform(u):\n",
    "        return Kernel.generalized(u, 1, 0)\n",
    "    \n",
    "    @staticmethod\n",
    "    def gaussian(u):\n",
    "        return math.exp(-1 * math.pow(u, 2) / 2)\n",
    "    \n",
    "    @staticmethod\n",
    "    def triangular(u):\n",
    "        return Kernel.generalized(u, 1, 1)\n",
    "    \n",
    "    @staticmethod\n",
    "    def epanechnikov(u):\n",
    "        return Kernel.generalized(u, 2, 1)\n",
    "    \n",
    "    @staticmethod\n",
    "    def generalized(u, a, b):\n",
    "        return (1 - (abs(u) ** a)) ** b if abs(u) < 1 else 0\n"
   ]
  },
  {
   "cell_type": "markdown",
   "metadata": {},
   "source": [
    "### Реализация алгоритма"
   ]
  },
  {
   "cell_type": "code",
   "execution_count": null,
   "metadata": {},
   "outputs": [],
   "source": [
    "import numpy as np\n",
    "from sklearn.neighbors import NearestNeighbors\n",
    "\n",
    "class NearestNeighborsClassifier:\n",
    "    def __init__(self, k=3, metric='minkowski', kernel='uniform', window=None, weights=None, p=2, a=1, b=1):\n",
    "        self.k = k\n",
    "        self.metric=metric\n",
    "        self.window = window\n",
    "        self.weights = weights\n",
    "        self.p=p\n",
    "        self.a=a\n",
    "        self.b=b\n",
    "\n",
    "        if kernel == 'uniform':\n",
    "            self.kernel = Kernel.uniform\n",
    "        elif kernel == 'triangular':\n",
    "            self.kernel = Kernel.triangular\n",
    "        elif kernel == 'gaussian':\n",
    "            self.kernel = Kernel.gaussian\n",
    "        elif kernel == 'epanechnikov':\n",
    "            self.kernel = Kernel.epanechnikov\n",
    "        else:\n",
    "            self.kernel = lambda u: Kernel.generalized(u, a, b)\n",
    "\n",
    "        self.nn_model = NearestNeighbors(metric=self.metric, p=self.p)\n",
    "\n",
    "    # Метод для совметимости с Optuna\n",
    "    def get_params(self, deep=True):\n",
    "        return {\n",
    "            \"k\": self.k,\n",
    "            \"metric\": self.metric,\n",
    "            \"kernel\": self.kernel,\n",
    "            \"window\": self.window,\n",
    "            \"weights\": self.weights,\n",
    "            \"p\": self.p,\n",
    "            \"a\": self.a,\n",
    "            \"b\": self.b\n",
    "        }\n",
    "\n",
    "    # Метод для совместимости с Optuna\n",
    "    def set_params(self, **params):\n",
    "        for key, value in params.items():\n",
    "            setattr(self, key, value)\n",
    "\n",
    "        if self.kernel == 'uniform':\n",
    "            self.kernel = Kernel.uniform\n",
    "        elif self.kernel == 'triangular':\n",
    "            self.kernel = Kernel.triangular\n",
    "        elif self.kernel == 'gaussian':\n",
    "            self.kernel = Kernel.gaussian\n",
    "        elif self.kernel == 'epanechnikov':\n",
    "            self.kernel = Kernel.epanechnikov\n",
    "        else:\n",
    "            self.kernel = lambda u: Kernel.generalized(u, self.a, self.b)\n",
    "\n",
    "        self.nn_model = NearestNeighbors(metric=self.metric, p=self.p)\n",
    "        \n",
    "        return self\n",
    "    \n",
    "    def fit(self, X_train, y_train):\n",
    "        self.X_train = X_train\n",
    "        self.y_train = y_train\n",
    "        self.nn_model.fit(X_train)\n",
    "\n",
    "    def predict(self, X_test):\n",
    "        predictions = []\n",
    "\n",
    "        # Вычисляем расстояния между всеми точками тестового множества и тренировочного\n",
    "        distances, indeces = self.nn_model.kneighbors(X_test, n_neighbors=len(self.X_train))\n",
    "\n",
    "        # Рассматриваем каждую точку тестового множества и её расстояния до точек тренировочного\n",
    "        for dist, ind in zip(distances, indeces):\n",
    "            # Считаем апостериорные веса\n",
    "            if self.window is None:\n",
    "                aposteriori_weights = [self.kernel(d / dist[self.k]) if dist[self.k] != 0 else 1 for d in dist]\n",
    "            else:\n",
    "                aposteriori_weights = [self.kernel(d / self.window) for d in dist]\n",
    "            \n",
    "            # Учитываем априорные веса\n",
    "            if self.weights is None:\n",
    "                weights = aposteriori_weights\n",
    "            else:\n",
    "                weights = [aposteriori_weights[i] * self.weights[ind[i]] for i in range(len(aposteriori_weights))]\n",
    "            \n",
    "            # Считаем веса всех классов соседей\n",
    "            labels = {label: 0 for label in np.unique(self.y_train)}\n",
    "            for i in range(len(weights)):\n",
    "                labels[self.y_train[ind[i]]] += weights[i]\n",
    "\n",
    "            # Находим класс с максимальным весом\n",
    "            label = max(labels, key=labels.get)\n",
    "            predictions.append(label)\n",
    "\n",
    "        return predictions"
   ]
  },
  {
   "cell_type": "markdown",
   "metadata": {},
   "source": [
    "## Набор данных"
   ]
  },
  {
   "cell_type": "markdown",
   "metadata": {},
   "source": [
    "Возьмем набор данных из прошлой лабораторной - `preproc_dataset.tsv`.\n",
    "Подготовим его к работе алгоритма. Целевым категориальным признаком выберем **parfume_type**."
   ]
  },
  {
   "cell_type": "markdown",
   "metadata": {},
   "source": [
    "### Предобработка"
   ]
  },
  {
   "cell_type": "code",
   "execution_count": 544,
   "metadata": {},
   "outputs": [],
   "source": [
    "import pandas as pd\n",
    "df = pd.read_csv('data/preproc_dataset.tsv', sep='\\t', quoting=1)"
   ]
  },
  {
   "cell_type": "markdown",
   "metadata": {},
   "source": [
    "#### Заполнение пропусков"
   ]
  },
  {
   "cell_type": "code",
   "execution_count": 545,
   "metadata": {},
   "outputs": [],
   "source": [
    "df['rating'] = df['rating'].transform(lambda x: x.fillna(0))\n",
    "df['ratings_count'] = df['ratings_count'].transform(lambda x: x.fillna(0))"
   ]
  },
  {
   "cell_type": "markdown",
   "metadata": {},
   "source": [
    "#### One-Hot Encoding"
   ]
  },
  {
   "cell_type": "markdown",
   "metadata": {},
   "source": [
    "Преобразуем категориальные признак **for_whom** с помощью One-Hot Encoding. "
   ]
  },
  {
   "cell_type": "code",
   "execution_count": 546,
   "metadata": {},
   "outputs": [],
   "source": [
    "df = pd.get_dummies(df, columns=['for_whom'])"
   ]
  },
  {
   "cell_type": "markdown",
   "metadata": {},
   "source": [
    "##### Преобразуем признаки-списки с помощью One-Hot Encoding"
   ]
  },
  {
   "cell_type": "markdown",
   "metadata": {},
   "source": [
    "Для **aroma_group** возьмем все значения (всего 17) "
   ]
  },
  {
   "cell_type": "code",
   "execution_count": 547,
   "metadata": {},
   "outputs": [],
   "source": [
    "m = set()\n",
    "for row in df['aroma_group']:\n",
    "    if (pd.isna(row)):\n",
    "        continue\n",
    "    for w in row.split(';'):\n",
    "        m.add(w)\n",
    "\n",
    "for group in m:\n",
    "    df['aroma_group_{0}'.format(group)] = 0"
   ]
  },
  {
   "cell_type": "code",
   "execution_count": 548,
   "metadata": {},
   "outputs": [],
   "source": [
    "def update_aroma_groups(row):\n",
    "    if pd.isna(row['aroma_group']):\n",
    "        return row\n",
    "    aromas = row['aroma_group'].split(';')\n",
    "    for aroma in aromas:\n",
    "        row[f'aroma_group_{aroma}'] = 1\n",
    "    return row\n",
    "\n",
    "df = df.apply(update_aroma_groups, axis=1)"
   ]
  },
  {
   "cell_type": "markdown",
   "metadata": {},
   "source": [
    "Для списков '**top_notes**', '**mid_notes**', '**base_notes**' возьмем топ 100 популярных значений, так как общее значение очень велико"
   ]
  },
  {
   "cell_type": "code",
   "execution_count": 549,
   "metadata": {},
   "outputs": [],
   "source": [
    "def encode_array(df, col, top):\n",
    "    # Считаем частоту сколько встречается каждый из элементов\n",
    "    d = dict()\n",
    "    for row in df[col]:\n",
    "        if (pd.isna(row)):\n",
    "            continue\n",
    "        for w in row.split(';'):\n",
    "            d[w] = d.setdefault(w, 0) + 1\n",
    "\n",
    "    # Находим топ самых популярных элементов\n",
    "    i = 0\n",
    "    top_elements = set()\n",
    "    for name, _ in sorted(d.items(), key=lambda x: x[1], reverse=True):\n",
    "        top_elements.add(name.replace(' ', '_'))\n",
    "        i += 1\n",
    "        if i == top:\n",
    "            break\n",
    "\n",
    "    for element in top_elements:\n",
    "        df[f'{col}_{element}'] = 0\n",
    "\n",
    "    # Обновляем значения в каждом ряду таблицы\n",
    "    def update_aroma_groups(row, col):\n",
    "        if pd.isna(row[col]):\n",
    "            return row\n",
    "\n",
    "        initial_elemets = row[col].split(';')\n",
    "        for element in initial_elemets:\n",
    "            col_name = f'{col}_{element.replace(' ', '_')}'\n",
    "            if col_name in df.columns:\n",
    "                row[col_name] = 1\n",
    "        return row\n",
    "\n",
    "    # Применяем функцию ко всем строкам DataFrame\n",
    "    df = df.apply(lambda x: update_aroma_groups(x, col), axis=1)\n",
    "    df.drop(columns=[col])\n"
   ]
  },
  {
   "cell_type": "code",
   "execution_count": 550,
   "metadata": {},
   "outputs": [
    {
     "name": "stderr",
     "output_type": "stream",
     "text": [
      "C:\\Users\\ladyp\\AppData\\Local\\Temp\\ipykernel_13420\\3163085542.py:20: PerformanceWarning: DataFrame is highly fragmented.  This is usually the result of calling `frame.insert` many times, which has poor performance.  Consider joining all columns at once using pd.concat(axis=1) instead. To get a de-fragmented frame, use `newframe = frame.copy()`\n",
      "  df[f'{col}_{element}'] = 0\n",
      "C:\\Users\\ladyp\\AppData\\Local\\Temp\\ipykernel_13420\\3163085542.py:20: PerformanceWarning: DataFrame is highly fragmented.  This is usually the result of calling `frame.insert` many times, which has poor performance.  Consider joining all columns at once using pd.concat(axis=1) instead. To get a de-fragmented frame, use `newframe = frame.copy()`\n",
      "  df[f'{col}_{element}'] = 0\n",
      "C:\\Users\\ladyp\\AppData\\Local\\Temp\\ipykernel_13420\\3163085542.py:20: PerformanceWarning: DataFrame is highly fragmented.  This is usually the result of calling `frame.insert` many times, which has poor performance.  Consider joining all columns at once using pd.concat(axis=1) instead. To get a de-fragmented frame, use `newframe = frame.copy()`\n",
      "  df[f'{col}_{element}'] = 0\n",
      "C:\\Users\\ladyp\\AppData\\Local\\Temp\\ipykernel_13420\\3163085542.py:20: PerformanceWarning: DataFrame is highly fragmented.  This is usually the result of calling `frame.insert` many times, which has poor performance.  Consider joining all columns at once using pd.concat(axis=1) instead. To get a de-fragmented frame, use `newframe = frame.copy()`\n",
      "  df[f'{col}_{element}'] = 0\n",
      "C:\\Users\\ladyp\\AppData\\Local\\Temp\\ipykernel_13420\\3163085542.py:20: PerformanceWarning: DataFrame is highly fragmented.  This is usually the result of calling `frame.insert` many times, which has poor performance.  Consider joining all columns at once using pd.concat(axis=1) instead. To get a de-fragmented frame, use `newframe = frame.copy()`\n",
      "  df[f'{col}_{element}'] = 0\n",
      "C:\\Users\\ladyp\\AppData\\Local\\Temp\\ipykernel_13420\\3163085542.py:20: PerformanceWarning: DataFrame is highly fragmented.  This is usually the result of calling `frame.insert` many times, which has poor performance.  Consider joining all columns at once using pd.concat(axis=1) instead. To get a de-fragmented frame, use `newframe = frame.copy()`\n",
      "  df[f'{col}_{element}'] = 0\n",
      "C:\\Users\\ladyp\\AppData\\Local\\Temp\\ipykernel_13420\\3163085542.py:20: PerformanceWarning: DataFrame is highly fragmented.  This is usually the result of calling `frame.insert` many times, which has poor performance.  Consider joining all columns at once using pd.concat(axis=1) instead. To get a de-fragmented frame, use `newframe = frame.copy()`\n",
      "  df[f'{col}_{element}'] = 0\n",
      "C:\\Users\\ladyp\\AppData\\Local\\Temp\\ipykernel_13420\\3163085542.py:20: PerformanceWarning: DataFrame is highly fragmented.  This is usually the result of calling `frame.insert` many times, which has poor performance.  Consider joining all columns at once using pd.concat(axis=1) instead. To get a de-fragmented frame, use `newframe = frame.copy()`\n",
      "  df[f'{col}_{element}'] = 0\n",
      "C:\\Users\\ladyp\\AppData\\Local\\Temp\\ipykernel_13420\\3163085542.py:20: PerformanceWarning: DataFrame is highly fragmented.  This is usually the result of calling `frame.insert` many times, which has poor performance.  Consider joining all columns at once using pd.concat(axis=1) instead. To get a de-fragmented frame, use `newframe = frame.copy()`\n",
      "  df[f'{col}_{element}'] = 0\n",
      "C:\\Users\\ladyp\\AppData\\Local\\Temp\\ipykernel_13420\\3163085542.py:20: PerformanceWarning: DataFrame is highly fragmented.  This is usually the result of calling `frame.insert` many times, which has poor performance.  Consider joining all columns at once using pd.concat(axis=1) instead. To get a de-fragmented frame, use `newframe = frame.copy()`\n",
      "  df[f'{col}_{element}'] = 0\n",
      "C:\\Users\\ladyp\\AppData\\Local\\Temp\\ipykernel_13420\\3163085542.py:20: PerformanceWarning: DataFrame is highly fragmented.  This is usually the result of calling `frame.insert` many times, which has poor performance.  Consider joining all columns at once using pd.concat(axis=1) instead. To get a de-fragmented frame, use `newframe = frame.copy()`\n",
      "  df[f'{col}_{element}'] = 0\n",
      "C:\\Users\\ladyp\\AppData\\Local\\Temp\\ipykernel_13420\\3163085542.py:20: PerformanceWarning: DataFrame is highly fragmented.  This is usually the result of calling `frame.insert` many times, which has poor performance.  Consider joining all columns at once using pd.concat(axis=1) instead. To get a de-fragmented frame, use `newframe = frame.copy()`\n",
      "  df[f'{col}_{element}'] = 0\n",
      "C:\\Users\\ladyp\\AppData\\Local\\Temp\\ipykernel_13420\\3163085542.py:20: PerformanceWarning: DataFrame is highly fragmented.  This is usually the result of calling `frame.insert` many times, which has poor performance.  Consider joining all columns at once using pd.concat(axis=1) instead. To get a de-fragmented frame, use `newframe = frame.copy()`\n",
      "  df[f'{col}_{element}'] = 0\n",
      "C:\\Users\\ladyp\\AppData\\Local\\Temp\\ipykernel_13420\\3163085542.py:20: PerformanceWarning: DataFrame is highly fragmented.  This is usually the result of calling `frame.insert` many times, which has poor performance.  Consider joining all columns at once using pd.concat(axis=1) instead. To get a de-fragmented frame, use `newframe = frame.copy()`\n",
      "  df[f'{col}_{element}'] = 0\n",
      "C:\\Users\\ladyp\\AppData\\Local\\Temp\\ipykernel_13420\\3163085542.py:20: PerformanceWarning: DataFrame is highly fragmented.  This is usually the result of calling `frame.insert` many times, which has poor performance.  Consider joining all columns at once using pd.concat(axis=1) instead. To get a de-fragmented frame, use `newframe = frame.copy()`\n",
      "  df[f'{col}_{element}'] = 0\n",
      "C:\\Users\\ladyp\\AppData\\Local\\Temp\\ipykernel_13420\\3163085542.py:20: PerformanceWarning: DataFrame is highly fragmented.  This is usually the result of calling `frame.insert` many times, which has poor performance.  Consider joining all columns at once using pd.concat(axis=1) instead. To get a de-fragmented frame, use `newframe = frame.copy()`\n",
      "  df[f'{col}_{element}'] = 0\n",
      "C:\\Users\\ladyp\\AppData\\Local\\Temp\\ipykernel_13420\\3163085542.py:20: PerformanceWarning: DataFrame is highly fragmented.  This is usually the result of calling `frame.insert` many times, which has poor performance.  Consider joining all columns at once using pd.concat(axis=1) instead. To get a de-fragmented frame, use `newframe = frame.copy()`\n",
      "  df[f'{col}_{element}'] = 0\n",
      "C:\\Users\\ladyp\\AppData\\Local\\Temp\\ipykernel_13420\\3163085542.py:20: PerformanceWarning: DataFrame is highly fragmented.  This is usually the result of calling `frame.insert` many times, which has poor performance.  Consider joining all columns at once using pd.concat(axis=1) instead. To get a de-fragmented frame, use `newframe = frame.copy()`\n",
      "  df[f'{col}_{element}'] = 0\n",
      "C:\\Users\\ladyp\\AppData\\Local\\Temp\\ipykernel_13420\\3163085542.py:20: PerformanceWarning: DataFrame is highly fragmented.  This is usually the result of calling `frame.insert` many times, which has poor performance.  Consider joining all columns at once using pd.concat(axis=1) instead. To get a de-fragmented frame, use `newframe = frame.copy()`\n",
      "  df[f'{col}_{element}'] = 0\n",
      "C:\\Users\\ladyp\\AppData\\Local\\Temp\\ipykernel_13420\\3163085542.py:20: PerformanceWarning: DataFrame is highly fragmented.  This is usually the result of calling `frame.insert` many times, which has poor performance.  Consider joining all columns at once using pd.concat(axis=1) instead. To get a de-fragmented frame, use `newframe = frame.copy()`\n",
      "  df[f'{col}_{element}'] = 0\n",
      "C:\\Users\\ladyp\\AppData\\Local\\Temp\\ipykernel_13420\\3163085542.py:20: PerformanceWarning: DataFrame is highly fragmented.  This is usually the result of calling `frame.insert` many times, which has poor performance.  Consider joining all columns at once using pd.concat(axis=1) instead. To get a de-fragmented frame, use `newframe = frame.copy()`\n",
      "  df[f'{col}_{element}'] = 0\n",
      "C:\\Users\\ladyp\\AppData\\Local\\Temp\\ipykernel_13420\\3163085542.py:20: PerformanceWarning: DataFrame is highly fragmented.  This is usually the result of calling `frame.insert` many times, which has poor performance.  Consider joining all columns at once using pd.concat(axis=1) instead. To get a de-fragmented frame, use `newframe = frame.copy()`\n",
      "  df[f'{col}_{element}'] = 0\n",
      "C:\\Users\\ladyp\\AppData\\Local\\Temp\\ipykernel_13420\\3163085542.py:20: PerformanceWarning: DataFrame is highly fragmented.  This is usually the result of calling `frame.insert` many times, which has poor performance.  Consider joining all columns at once using pd.concat(axis=1) instead. To get a de-fragmented frame, use `newframe = frame.copy()`\n",
      "  df[f'{col}_{element}'] = 0\n",
      "C:\\Users\\ladyp\\AppData\\Local\\Temp\\ipykernel_13420\\3163085542.py:20: PerformanceWarning: DataFrame is highly fragmented.  This is usually the result of calling `frame.insert` many times, which has poor performance.  Consider joining all columns at once using pd.concat(axis=1) instead. To get a de-fragmented frame, use `newframe = frame.copy()`\n",
      "  df[f'{col}_{element}'] = 0\n",
      "C:\\Users\\ladyp\\AppData\\Local\\Temp\\ipykernel_13420\\3163085542.py:20: PerformanceWarning: DataFrame is highly fragmented.  This is usually the result of calling `frame.insert` many times, which has poor performance.  Consider joining all columns at once using pd.concat(axis=1) instead. To get a de-fragmented frame, use `newframe = frame.copy()`\n",
      "  df[f'{col}_{element}'] = 0\n",
      "C:\\Users\\ladyp\\AppData\\Local\\Temp\\ipykernel_13420\\3163085542.py:20: PerformanceWarning: DataFrame is highly fragmented.  This is usually the result of calling `frame.insert` many times, which has poor performance.  Consider joining all columns at once using pd.concat(axis=1) instead. To get a de-fragmented frame, use `newframe = frame.copy()`\n",
      "  df[f'{col}_{element}'] = 0\n",
      "C:\\Users\\ladyp\\AppData\\Local\\Temp\\ipykernel_13420\\3163085542.py:20: PerformanceWarning: DataFrame is highly fragmented.  This is usually the result of calling `frame.insert` many times, which has poor performance.  Consider joining all columns at once using pd.concat(axis=1) instead. To get a de-fragmented frame, use `newframe = frame.copy()`\n",
      "  df[f'{col}_{element}'] = 0\n",
      "C:\\Users\\ladyp\\AppData\\Local\\Temp\\ipykernel_13420\\3163085542.py:20: PerformanceWarning: DataFrame is highly fragmented.  This is usually the result of calling `frame.insert` many times, which has poor performance.  Consider joining all columns at once using pd.concat(axis=1) instead. To get a de-fragmented frame, use `newframe = frame.copy()`\n",
      "  df[f'{col}_{element}'] = 0\n",
      "C:\\Users\\ladyp\\AppData\\Local\\Temp\\ipykernel_13420\\3163085542.py:20: PerformanceWarning: DataFrame is highly fragmented.  This is usually the result of calling `frame.insert` many times, which has poor performance.  Consider joining all columns at once using pd.concat(axis=1) instead. To get a de-fragmented frame, use `newframe = frame.copy()`\n",
      "  df[f'{col}_{element}'] = 0\n",
      "C:\\Users\\ladyp\\AppData\\Local\\Temp\\ipykernel_13420\\3163085542.py:20: PerformanceWarning: DataFrame is highly fragmented.  This is usually the result of calling `frame.insert` many times, which has poor performance.  Consider joining all columns at once using pd.concat(axis=1) instead. To get a de-fragmented frame, use `newframe = frame.copy()`\n",
      "  df[f'{col}_{element}'] = 0\n",
      "C:\\Users\\ladyp\\AppData\\Local\\Temp\\ipykernel_13420\\3163085542.py:20: PerformanceWarning: DataFrame is highly fragmented.  This is usually the result of calling `frame.insert` many times, which has poor performance.  Consider joining all columns at once using pd.concat(axis=1) instead. To get a de-fragmented frame, use `newframe = frame.copy()`\n",
      "  df[f'{col}_{element}'] = 0\n",
      "C:\\Users\\ladyp\\AppData\\Local\\Temp\\ipykernel_13420\\3163085542.py:20: PerformanceWarning: DataFrame is highly fragmented.  This is usually the result of calling `frame.insert` many times, which has poor performance.  Consider joining all columns at once using pd.concat(axis=1) instead. To get a de-fragmented frame, use `newframe = frame.copy()`\n",
      "  df[f'{col}_{element}'] = 0\n",
      "C:\\Users\\ladyp\\AppData\\Local\\Temp\\ipykernel_13420\\3163085542.py:20: PerformanceWarning: DataFrame is highly fragmented.  This is usually the result of calling `frame.insert` many times, which has poor performance.  Consider joining all columns at once using pd.concat(axis=1) instead. To get a de-fragmented frame, use `newframe = frame.copy()`\n",
      "  df[f'{col}_{element}'] = 0\n",
      "C:\\Users\\ladyp\\AppData\\Local\\Temp\\ipykernel_13420\\3163085542.py:20: PerformanceWarning: DataFrame is highly fragmented.  This is usually the result of calling `frame.insert` many times, which has poor performance.  Consider joining all columns at once using pd.concat(axis=1) instead. To get a de-fragmented frame, use `newframe = frame.copy()`\n",
      "  df[f'{col}_{element}'] = 0\n",
      "C:\\Users\\ladyp\\AppData\\Local\\Temp\\ipykernel_13420\\3163085542.py:20: PerformanceWarning: DataFrame is highly fragmented.  This is usually the result of calling `frame.insert` many times, which has poor performance.  Consider joining all columns at once using pd.concat(axis=1) instead. To get a de-fragmented frame, use `newframe = frame.copy()`\n",
      "  df[f'{col}_{element}'] = 0\n",
      "C:\\Users\\ladyp\\AppData\\Local\\Temp\\ipykernel_13420\\3163085542.py:20: PerformanceWarning: DataFrame is highly fragmented.  This is usually the result of calling `frame.insert` many times, which has poor performance.  Consider joining all columns at once using pd.concat(axis=1) instead. To get a de-fragmented frame, use `newframe = frame.copy()`\n",
      "  df[f'{col}_{element}'] = 0\n",
      "C:\\Users\\ladyp\\AppData\\Local\\Temp\\ipykernel_13420\\3163085542.py:20: PerformanceWarning: DataFrame is highly fragmented.  This is usually the result of calling `frame.insert` many times, which has poor performance.  Consider joining all columns at once using pd.concat(axis=1) instead. To get a de-fragmented frame, use `newframe = frame.copy()`\n",
      "  df[f'{col}_{element}'] = 0\n",
      "C:\\Users\\ladyp\\AppData\\Local\\Temp\\ipykernel_13420\\3163085542.py:20: PerformanceWarning: DataFrame is highly fragmented.  This is usually the result of calling `frame.insert` many times, which has poor performance.  Consider joining all columns at once using pd.concat(axis=1) instead. To get a de-fragmented frame, use `newframe = frame.copy()`\n",
      "  df[f'{col}_{element}'] = 0\n",
      "C:\\Users\\ladyp\\AppData\\Local\\Temp\\ipykernel_13420\\3163085542.py:20: PerformanceWarning: DataFrame is highly fragmented.  This is usually the result of calling `frame.insert` many times, which has poor performance.  Consider joining all columns at once using pd.concat(axis=1) instead. To get a de-fragmented frame, use `newframe = frame.copy()`\n",
      "  df[f'{col}_{element}'] = 0\n",
      "C:\\Users\\ladyp\\AppData\\Local\\Temp\\ipykernel_13420\\3163085542.py:20: PerformanceWarning: DataFrame is highly fragmented.  This is usually the result of calling `frame.insert` many times, which has poor performance.  Consider joining all columns at once using pd.concat(axis=1) instead. To get a de-fragmented frame, use `newframe = frame.copy()`\n",
      "  df[f'{col}_{element}'] = 0\n",
      "C:\\Users\\ladyp\\AppData\\Local\\Temp\\ipykernel_13420\\3163085542.py:20: PerformanceWarning: DataFrame is highly fragmented.  This is usually the result of calling `frame.insert` many times, which has poor performance.  Consider joining all columns at once using pd.concat(axis=1) instead. To get a de-fragmented frame, use `newframe = frame.copy()`\n",
      "  df[f'{col}_{element}'] = 0\n",
      "C:\\Users\\ladyp\\AppData\\Local\\Temp\\ipykernel_13420\\3163085542.py:20: PerformanceWarning: DataFrame is highly fragmented.  This is usually the result of calling `frame.insert` many times, which has poor performance.  Consider joining all columns at once using pd.concat(axis=1) instead. To get a de-fragmented frame, use `newframe = frame.copy()`\n",
      "  df[f'{col}_{element}'] = 0\n",
      "C:\\Users\\ladyp\\AppData\\Local\\Temp\\ipykernel_13420\\3163085542.py:20: PerformanceWarning: DataFrame is highly fragmented.  This is usually the result of calling `frame.insert` many times, which has poor performance.  Consider joining all columns at once using pd.concat(axis=1) instead. To get a de-fragmented frame, use `newframe = frame.copy()`\n",
      "  df[f'{col}_{element}'] = 0\n",
      "C:\\Users\\ladyp\\AppData\\Local\\Temp\\ipykernel_13420\\3163085542.py:20: PerformanceWarning: DataFrame is highly fragmented.  This is usually the result of calling `frame.insert` many times, which has poor performance.  Consider joining all columns at once using pd.concat(axis=1) instead. To get a de-fragmented frame, use `newframe = frame.copy()`\n",
      "  df[f'{col}_{element}'] = 0\n",
      "C:\\Users\\ladyp\\AppData\\Local\\Temp\\ipykernel_13420\\3163085542.py:20: PerformanceWarning: DataFrame is highly fragmented.  This is usually the result of calling `frame.insert` many times, which has poor performance.  Consider joining all columns at once using pd.concat(axis=1) instead. To get a de-fragmented frame, use `newframe = frame.copy()`\n",
      "  df[f'{col}_{element}'] = 0\n",
      "C:\\Users\\ladyp\\AppData\\Local\\Temp\\ipykernel_13420\\3163085542.py:20: PerformanceWarning: DataFrame is highly fragmented.  This is usually the result of calling `frame.insert` many times, which has poor performance.  Consider joining all columns at once using pd.concat(axis=1) instead. To get a de-fragmented frame, use `newframe = frame.copy()`\n",
      "  df[f'{col}_{element}'] = 0\n",
      "C:\\Users\\ladyp\\AppData\\Local\\Temp\\ipykernel_13420\\3163085542.py:20: PerformanceWarning: DataFrame is highly fragmented.  This is usually the result of calling `frame.insert` many times, which has poor performance.  Consider joining all columns at once using pd.concat(axis=1) instead. To get a de-fragmented frame, use `newframe = frame.copy()`\n",
      "  df[f'{col}_{element}'] = 0\n",
      "C:\\Users\\ladyp\\AppData\\Local\\Temp\\ipykernel_13420\\3163085542.py:20: PerformanceWarning: DataFrame is highly fragmented.  This is usually the result of calling `frame.insert` many times, which has poor performance.  Consider joining all columns at once using pd.concat(axis=1) instead. To get a de-fragmented frame, use `newframe = frame.copy()`\n",
      "  df[f'{col}_{element}'] = 0\n",
      "C:\\Users\\ladyp\\AppData\\Local\\Temp\\ipykernel_13420\\3163085542.py:20: PerformanceWarning: DataFrame is highly fragmented.  This is usually the result of calling `frame.insert` many times, which has poor performance.  Consider joining all columns at once using pd.concat(axis=1) instead. To get a de-fragmented frame, use `newframe = frame.copy()`\n",
      "  df[f'{col}_{element}'] = 0\n",
      "C:\\Users\\ladyp\\AppData\\Local\\Temp\\ipykernel_13420\\3163085542.py:20: PerformanceWarning: DataFrame is highly fragmented.  This is usually the result of calling `frame.insert` many times, which has poor performance.  Consider joining all columns at once using pd.concat(axis=1) instead. To get a de-fragmented frame, use `newframe = frame.copy()`\n",
      "  df[f'{col}_{element}'] = 0\n",
      "C:\\Users\\ladyp\\AppData\\Local\\Temp\\ipykernel_13420\\3163085542.py:20: PerformanceWarning: DataFrame is highly fragmented.  This is usually the result of calling `frame.insert` many times, which has poor performance.  Consider joining all columns at once using pd.concat(axis=1) instead. To get a de-fragmented frame, use `newframe = frame.copy()`\n",
      "  df[f'{col}_{element}'] = 0\n",
      "C:\\Users\\ladyp\\AppData\\Local\\Temp\\ipykernel_13420\\3163085542.py:20: PerformanceWarning: DataFrame is highly fragmented.  This is usually the result of calling `frame.insert` many times, which has poor performance.  Consider joining all columns at once using pd.concat(axis=1) instead. To get a de-fragmented frame, use `newframe = frame.copy()`\n",
      "  df[f'{col}_{element}'] = 0\n",
      "C:\\Users\\ladyp\\AppData\\Local\\Temp\\ipykernel_13420\\3163085542.py:20: PerformanceWarning: DataFrame is highly fragmented.  This is usually the result of calling `frame.insert` many times, which has poor performance.  Consider joining all columns at once using pd.concat(axis=1) instead. To get a de-fragmented frame, use `newframe = frame.copy()`\n",
      "  df[f'{col}_{element}'] = 0\n",
      "C:\\Users\\ladyp\\AppData\\Local\\Temp\\ipykernel_13420\\3163085542.py:20: PerformanceWarning: DataFrame is highly fragmented.  This is usually the result of calling `frame.insert` many times, which has poor performance.  Consider joining all columns at once using pd.concat(axis=1) instead. To get a de-fragmented frame, use `newframe = frame.copy()`\n",
      "  df[f'{col}_{element}'] = 0\n",
      "C:\\Users\\ladyp\\AppData\\Local\\Temp\\ipykernel_13420\\3163085542.py:20: PerformanceWarning: DataFrame is highly fragmented.  This is usually the result of calling `frame.insert` many times, which has poor performance.  Consider joining all columns at once using pd.concat(axis=1) instead. To get a de-fragmented frame, use `newframe = frame.copy()`\n",
      "  df[f'{col}_{element}'] = 0\n",
      "C:\\Users\\ladyp\\AppData\\Local\\Temp\\ipykernel_13420\\3163085542.py:20: PerformanceWarning: DataFrame is highly fragmented.  This is usually the result of calling `frame.insert` many times, which has poor performance.  Consider joining all columns at once using pd.concat(axis=1) instead. To get a de-fragmented frame, use `newframe = frame.copy()`\n",
      "  df[f'{col}_{element}'] = 0\n",
      "C:\\Users\\ladyp\\AppData\\Local\\Temp\\ipykernel_13420\\3163085542.py:20: PerformanceWarning: DataFrame is highly fragmented.  This is usually the result of calling `frame.insert` many times, which has poor performance.  Consider joining all columns at once using pd.concat(axis=1) instead. To get a de-fragmented frame, use `newframe = frame.copy()`\n",
      "  df[f'{col}_{element}'] = 0\n",
      "C:\\Users\\ladyp\\AppData\\Local\\Temp\\ipykernel_13420\\3163085542.py:20: PerformanceWarning: DataFrame is highly fragmented.  This is usually the result of calling `frame.insert` many times, which has poor performance.  Consider joining all columns at once using pd.concat(axis=1) instead. To get a de-fragmented frame, use `newframe = frame.copy()`\n",
      "  df[f'{col}_{element}'] = 0\n",
      "C:\\Users\\ladyp\\AppData\\Local\\Temp\\ipykernel_13420\\3163085542.py:20: PerformanceWarning: DataFrame is highly fragmented.  This is usually the result of calling `frame.insert` many times, which has poor performance.  Consider joining all columns at once using pd.concat(axis=1) instead. To get a de-fragmented frame, use `newframe = frame.copy()`\n",
      "  df[f'{col}_{element}'] = 0\n",
      "C:\\Users\\ladyp\\AppData\\Local\\Temp\\ipykernel_13420\\3163085542.py:20: PerformanceWarning: DataFrame is highly fragmented.  This is usually the result of calling `frame.insert` many times, which has poor performance.  Consider joining all columns at once using pd.concat(axis=1) instead. To get a de-fragmented frame, use `newframe = frame.copy()`\n",
      "  df[f'{col}_{element}'] = 0\n",
      "C:\\Users\\ladyp\\AppData\\Local\\Temp\\ipykernel_13420\\3163085542.py:20: PerformanceWarning: DataFrame is highly fragmented.  This is usually the result of calling `frame.insert` many times, which has poor performance.  Consider joining all columns at once using pd.concat(axis=1) instead. To get a de-fragmented frame, use `newframe = frame.copy()`\n",
      "  df[f'{col}_{element}'] = 0\n",
      "C:\\Users\\ladyp\\AppData\\Local\\Temp\\ipykernel_13420\\3163085542.py:20: PerformanceWarning: DataFrame is highly fragmented.  This is usually the result of calling `frame.insert` many times, which has poor performance.  Consider joining all columns at once using pd.concat(axis=1) instead. To get a de-fragmented frame, use `newframe = frame.copy()`\n",
      "  df[f'{col}_{element}'] = 0\n",
      "C:\\Users\\ladyp\\AppData\\Local\\Temp\\ipykernel_13420\\3163085542.py:20: PerformanceWarning: DataFrame is highly fragmented.  This is usually the result of calling `frame.insert` many times, which has poor performance.  Consider joining all columns at once using pd.concat(axis=1) instead. To get a de-fragmented frame, use `newframe = frame.copy()`\n",
      "  df[f'{col}_{element}'] = 0\n",
      "C:\\Users\\ladyp\\AppData\\Local\\Temp\\ipykernel_13420\\3163085542.py:20: PerformanceWarning: DataFrame is highly fragmented.  This is usually the result of calling `frame.insert` many times, which has poor performance.  Consider joining all columns at once using pd.concat(axis=1) instead. To get a de-fragmented frame, use `newframe = frame.copy()`\n",
      "  df[f'{col}_{element}'] = 0\n",
      "C:\\Users\\ladyp\\AppData\\Local\\Temp\\ipykernel_13420\\3163085542.py:20: PerformanceWarning: DataFrame is highly fragmented.  This is usually the result of calling `frame.insert` many times, which has poor performance.  Consider joining all columns at once using pd.concat(axis=1) instead. To get a de-fragmented frame, use `newframe = frame.copy()`\n",
      "  df[f'{col}_{element}'] = 0\n",
      "C:\\Users\\ladyp\\AppData\\Local\\Temp\\ipykernel_13420\\3163085542.py:20: PerformanceWarning: DataFrame is highly fragmented.  This is usually the result of calling `frame.insert` many times, which has poor performance.  Consider joining all columns at once using pd.concat(axis=1) instead. To get a de-fragmented frame, use `newframe = frame.copy()`\n",
      "  df[f'{col}_{element}'] = 0\n",
      "C:\\Users\\ladyp\\AppData\\Local\\Temp\\ipykernel_13420\\3163085542.py:20: PerformanceWarning: DataFrame is highly fragmented.  This is usually the result of calling `frame.insert` many times, which has poor performance.  Consider joining all columns at once using pd.concat(axis=1) instead. To get a de-fragmented frame, use `newframe = frame.copy()`\n",
      "  df[f'{col}_{element}'] = 0\n",
      "C:\\Users\\ladyp\\AppData\\Local\\Temp\\ipykernel_13420\\3163085542.py:20: PerformanceWarning: DataFrame is highly fragmented.  This is usually the result of calling `frame.insert` many times, which has poor performance.  Consider joining all columns at once using pd.concat(axis=1) instead. To get a de-fragmented frame, use `newframe = frame.copy()`\n",
      "  df[f'{col}_{element}'] = 0\n",
      "C:\\Users\\ladyp\\AppData\\Local\\Temp\\ipykernel_13420\\3163085542.py:20: PerformanceWarning: DataFrame is highly fragmented.  This is usually the result of calling `frame.insert` many times, which has poor performance.  Consider joining all columns at once using pd.concat(axis=1) instead. To get a de-fragmented frame, use `newframe = frame.copy()`\n",
      "  df[f'{col}_{element}'] = 0\n",
      "C:\\Users\\ladyp\\AppData\\Local\\Temp\\ipykernel_13420\\3163085542.py:20: PerformanceWarning: DataFrame is highly fragmented.  This is usually the result of calling `frame.insert` many times, which has poor performance.  Consider joining all columns at once using pd.concat(axis=1) instead. To get a de-fragmented frame, use `newframe = frame.copy()`\n",
      "  df[f'{col}_{element}'] = 0\n",
      "C:\\Users\\ladyp\\AppData\\Local\\Temp\\ipykernel_13420\\3163085542.py:20: PerformanceWarning: DataFrame is highly fragmented.  This is usually the result of calling `frame.insert` many times, which has poor performance.  Consider joining all columns at once using pd.concat(axis=1) instead. To get a de-fragmented frame, use `newframe = frame.copy()`\n",
      "  df[f'{col}_{element}'] = 0\n",
      "C:\\Users\\ladyp\\AppData\\Local\\Temp\\ipykernel_13420\\3163085542.py:20: PerformanceWarning: DataFrame is highly fragmented.  This is usually the result of calling `frame.insert` many times, which has poor performance.  Consider joining all columns at once using pd.concat(axis=1) instead. To get a de-fragmented frame, use `newframe = frame.copy()`\n",
      "  df[f'{col}_{element}'] = 0\n",
      "C:\\Users\\ladyp\\AppData\\Local\\Temp\\ipykernel_13420\\3163085542.py:20: PerformanceWarning: DataFrame is highly fragmented.  This is usually the result of calling `frame.insert` many times, which has poor performance.  Consider joining all columns at once using pd.concat(axis=1) instead. To get a de-fragmented frame, use `newframe = frame.copy()`\n",
      "  df[f'{col}_{element}'] = 0\n",
      "C:\\Users\\ladyp\\AppData\\Local\\Temp\\ipykernel_13420\\3163085542.py:20: PerformanceWarning: DataFrame is highly fragmented.  This is usually the result of calling `frame.insert` many times, which has poor performance.  Consider joining all columns at once using pd.concat(axis=1) instead. To get a de-fragmented frame, use `newframe = frame.copy()`\n",
      "  df[f'{col}_{element}'] = 0\n",
      "C:\\Users\\ladyp\\AppData\\Local\\Temp\\ipykernel_13420\\3163085542.py:20: PerformanceWarning: DataFrame is highly fragmented.  This is usually the result of calling `frame.insert` many times, which has poor performance.  Consider joining all columns at once using pd.concat(axis=1) instead. To get a de-fragmented frame, use `newframe = frame.copy()`\n",
      "  df[f'{col}_{element}'] = 0\n",
      "C:\\Users\\ladyp\\AppData\\Local\\Temp\\ipykernel_13420\\3163085542.py:20: PerformanceWarning: DataFrame is highly fragmented.  This is usually the result of calling `frame.insert` many times, which has poor performance.  Consider joining all columns at once using pd.concat(axis=1) instead. To get a de-fragmented frame, use `newframe = frame.copy()`\n",
      "  df[f'{col}_{element}'] = 0\n",
      "C:\\Users\\ladyp\\AppData\\Local\\Temp\\ipykernel_13420\\3163085542.py:20: PerformanceWarning: DataFrame is highly fragmented.  This is usually the result of calling `frame.insert` many times, which has poor performance.  Consider joining all columns at once using pd.concat(axis=1) instead. To get a de-fragmented frame, use `newframe = frame.copy()`\n",
      "  df[f'{col}_{element}'] = 0\n",
      "C:\\Users\\ladyp\\AppData\\Local\\Temp\\ipykernel_13420\\3163085542.py:20: PerformanceWarning: DataFrame is highly fragmented.  This is usually the result of calling `frame.insert` many times, which has poor performance.  Consider joining all columns at once using pd.concat(axis=1) instead. To get a de-fragmented frame, use `newframe = frame.copy()`\n",
      "  df[f'{col}_{element}'] = 0\n",
      "C:\\Users\\ladyp\\AppData\\Local\\Temp\\ipykernel_13420\\3163085542.py:20: PerformanceWarning: DataFrame is highly fragmented.  This is usually the result of calling `frame.insert` many times, which has poor performance.  Consider joining all columns at once using pd.concat(axis=1) instead. To get a de-fragmented frame, use `newframe = frame.copy()`\n",
      "  df[f'{col}_{element}'] = 0\n",
      "C:\\Users\\ladyp\\AppData\\Local\\Temp\\ipykernel_13420\\3163085542.py:20: PerformanceWarning: DataFrame is highly fragmented.  This is usually the result of calling `frame.insert` many times, which has poor performance.  Consider joining all columns at once using pd.concat(axis=1) instead. To get a de-fragmented frame, use `newframe = frame.copy()`\n",
      "  df[f'{col}_{element}'] = 0\n",
      "C:\\Users\\ladyp\\AppData\\Local\\Temp\\ipykernel_13420\\3163085542.py:20: PerformanceWarning: DataFrame is highly fragmented.  This is usually the result of calling `frame.insert` many times, which has poor performance.  Consider joining all columns at once using pd.concat(axis=1) instead. To get a de-fragmented frame, use `newframe = frame.copy()`\n",
      "  df[f'{col}_{element}'] = 0\n",
      "C:\\Users\\ladyp\\AppData\\Local\\Temp\\ipykernel_13420\\3163085542.py:20: PerformanceWarning: DataFrame is highly fragmented.  This is usually the result of calling `frame.insert` many times, which has poor performance.  Consider joining all columns at once using pd.concat(axis=1) instead. To get a de-fragmented frame, use `newframe = frame.copy()`\n",
      "  df[f'{col}_{element}'] = 0\n",
      "C:\\Users\\ladyp\\AppData\\Local\\Temp\\ipykernel_13420\\3163085542.py:20: PerformanceWarning: DataFrame is highly fragmented.  This is usually the result of calling `frame.insert` many times, which has poor performance.  Consider joining all columns at once using pd.concat(axis=1) instead. To get a de-fragmented frame, use `newframe = frame.copy()`\n",
      "  df[f'{col}_{element}'] = 0\n",
      "C:\\Users\\ladyp\\AppData\\Local\\Temp\\ipykernel_13420\\3163085542.py:20: PerformanceWarning: DataFrame is highly fragmented.  This is usually the result of calling `frame.insert` many times, which has poor performance.  Consider joining all columns at once using pd.concat(axis=1) instead. To get a de-fragmented frame, use `newframe = frame.copy()`\n",
      "  df[f'{col}_{element}'] = 0\n",
      "C:\\Users\\ladyp\\AppData\\Local\\Temp\\ipykernel_13420\\3163085542.py:20: PerformanceWarning: DataFrame is highly fragmented.  This is usually the result of calling `frame.insert` many times, which has poor performance.  Consider joining all columns at once using pd.concat(axis=1) instead. To get a de-fragmented frame, use `newframe = frame.copy()`\n",
      "  df[f'{col}_{element}'] = 0\n",
      "C:\\Users\\ladyp\\AppData\\Local\\Temp\\ipykernel_13420\\3163085542.py:20: PerformanceWarning: DataFrame is highly fragmented.  This is usually the result of calling `frame.insert` many times, which has poor performance.  Consider joining all columns at once using pd.concat(axis=1) instead. To get a de-fragmented frame, use `newframe = frame.copy()`\n",
      "  df[f'{col}_{element}'] = 0\n",
      "C:\\Users\\ladyp\\AppData\\Local\\Temp\\ipykernel_13420\\3163085542.py:20: PerformanceWarning: DataFrame is highly fragmented.  This is usually the result of calling `frame.insert` many times, which has poor performance.  Consider joining all columns at once using pd.concat(axis=1) instead. To get a de-fragmented frame, use `newframe = frame.copy()`\n",
      "  df[f'{col}_{element}'] = 0\n",
      "C:\\Users\\ladyp\\AppData\\Local\\Temp\\ipykernel_13420\\3163085542.py:20: PerformanceWarning: DataFrame is highly fragmented.  This is usually the result of calling `frame.insert` many times, which has poor performance.  Consider joining all columns at once using pd.concat(axis=1) instead. To get a de-fragmented frame, use `newframe = frame.copy()`\n",
      "  df[f'{col}_{element}'] = 0\n",
      "C:\\Users\\ladyp\\AppData\\Local\\Temp\\ipykernel_13420\\3163085542.py:20: PerformanceWarning: DataFrame is highly fragmented.  This is usually the result of calling `frame.insert` many times, which has poor performance.  Consider joining all columns at once using pd.concat(axis=1) instead. To get a de-fragmented frame, use `newframe = frame.copy()`\n",
      "  df[f'{col}_{element}'] = 0\n",
      "C:\\Users\\ladyp\\AppData\\Local\\Temp\\ipykernel_13420\\3163085542.py:20: PerformanceWarning: DataFrame is highly fragmented.  This is usually the result of calling `frame.insert` many times, which has poor performance.  Consider joining all columns at once using pd.concat(axis=1) instead. To get a de-fragmented frame, use `newframe = frame.copy()`\n",
      "  df[f'{col}_{element}'] = 0\n",
      "C:\\Users\\ladyp\\AppData\\Local\\Temp\\ipykernel_13420\\3163085542.py:20: PerformanceWarning: DataFrame is highly fragmented.  This is usually the result of calling `frame.insert` many times, which has poor performance.  Consider joining all columns at once using pd.concat(axis=1) instead. To get a de-fragmented frame, use `newframe = frame.copy()`\n",
      "  df[f'{col}_{element}'] = 0\n",
      "C:\\Users\\ladyp\\AppData\\Local\\Temp\\ipykernel_13420\\3163085542.py:20: PerformanceWarning: DataFrame is highly fragmented.  This is usually the result of calling `frame.insert` many times, which has poor performance.  Consider joining all columns at once using pd.concat(axis=1) instead. To get a de-fragmented frame, use `newframe = frame.copy()`\n",
      "  df[f'{col}_{element}'] = 0\n",
      "C:\\Users\\ladyp\\AppData\\Local\\Temp\\ipykernel_13420\\3163085542.py:20: PerformanceWarning: DataFrame is highly fragmented.  This is usually the result of calling `frame.insert` many times, which has poor performance.  Consider joining all columns at once using pd.concat(axis=1) instead. To get a de-fragmented frame, use `newframe = frame.copy()`\n",
      "  df[f'{col}_{element}'] = 0\n",
      "C:\\Users\\ladyp\\AppData\\Local\\Temp\\ipykernel_13420\\3163085542.py:20: PerformanceWarning: DataFrame is highly fragmented.  This is usually the result of calling `frame.insert` many times, which has poor performance.  Consider joining all columns at once using pd.concat(axis=1) instead. To get a de-fragmented frame, use `newframe = frame.copy()`\n",
      "  df[f'{col}_{element}'] = 0\n",
      "C:\\Users\\ladyp\\AppData\\Local\\Temp\\ipykernel_13420\\3163085542.py:20: PerformanceWarning: DataFrame is highly fragmented.  This is usually the result of calling `frame.insert` many times, which has poor performance.  Consider joining all columns at once using pd.concat(axis=1) instead. To get a de-fragmented frame, use `newframe = frame.copy()`\n",
      "  df[f'{col}_{element}'] = 0\n",
      "C:\\Users\\ladyp\\AppData\\Local\\Temp\\ipykernel_13420\\3163085542.py:20: PerformanceWarning: DataFrame is highly fragmented.  This is usually the result of calling `frame.insert` many times, which has poor performance.  Consider joining all columns at once using pd.concat(axis=1) instead. To get a de-fragmented frame, use `newframe = frame.copy()`\n",
      "  df[f'{col}_{element}'] = 0\n",
      "C:\\Users\\ladyp\\AppData\\Local\\Temp\\ipykernel_13420\\3163085542.py:20: PerformanceWarning: DataFrame is highly fragmented.  This is usually the result of calling `frame.insert` many times, which has poor performance.  Consider joining all columns at once using pd.concat(axis=1) instead. To get a de-fragmented frame, use `newframe = frame.copy()`\n",
      "  df[f'{col}_{element}'] = 0\n",
      "C:\\Users\\ladyp\\AppData\\Local\\Temp\\ipykernel_13420\\3163085542.py:20: PerformanceWarning: DataFrame is highly fragmented.  This is usually the result of calling `frame.insert` many times, which has poor performance.  Consider joining all columns at once using pd.concat(axis=1) instead. To get a de-fragmented frame, use `newframe = frame.copy()`\n",
      "  df[f'{col}_{element}'] = 0\n",
      "C:\\Users\\ladyp\\AppData\\Local\\Temp\\ipykernel_13420\\3163085542.py:20: PerformanceWarning: DataFrame is highly fragmented.  This is usually the result of calling `frame.insert` many times, which has poor performance.  Consider joining all columns at once using pd.concat(axis=1) instead. To get a de-fragmented frame, use `newframe = frame.copy()`\n",
      "  df[f'{col}_{element}'] = 0\n",
      "C:\\Users\\ladyp\\AppData\\Local\\Temp\\ipykernel_13420\\3163085542.py:20: PerformanceWarning: DataFrame is highly fragmented.  This is usually the result of calling `frame.insert` many times, which has poor performance.  Consider joining all columns at once using pd.concat(axis=1) instead. To get a de-fragmented frame, use `newframe = frame.copy()`\n",
      "  df[f'{col}_{element}'] = 0\n",
      "C:\\Users\\ladyp\\AppData\\Local\\Temp\\ipykernel_13420\\3163085542.py:20: PerformanceWarning: DataFrame is highly fragmented.  This is usually the result of calling `frame.insert` many times, which has poor performance.  Consider joining all columns at once using pd.concat(axis=1) instead. To get a de-fragmented frame, use `newframe = frame.copy()`\n",
      "  df[f'{col}_{element}'] = 0\n",
      "C:\\Users\\ladyp\\AppData\\Local\\Temp\\ipykernel_13420\\3163085542.py:20: PerformanceWarning: DataFrame is highly fragmented.  This is usually the result of calling `frame.insert` many times, which has poor performance.  Consider joining all columns at once using pd.concat(axis=1) instead. To get a de-fragmented frame, use `newframe = frame.copy()`\n",
      "  df[f'{col}_{element}'] = 0\n",
      "C:\\Users\\ladyp\\AppData\\Local\\Temp\\ipykernel_13420\\3163085542.py:20: PerformanceWarning: DataFrame is highly fragmented.  This is usually the result of calling `frame.insert` many times, which has poor performance.  Consider joining all columns at once using pd.concat(axis=1) instead. To get a de-fragmented frame, use `newframe = frame.copy()`\n",
      "  df[f'{col}_{element}'] = 0\n",
      "C:\\Users\\ladyp\\AppData\\Local\\Temp\\ipykernel_13420\\3163085542.py:20: PerformanceWarning: DataFrame is highly fragmented.  This is usually the result of calling `frame.insert` many times, which has poor performance.  Consider joining all columns at once using pd.concat(axis=1) instead. To get a de-fragmented frame, use `newframe = frame.copy()`\n",
      "  df[f'{col}_{element}'] = 0\n",
      "C:\\Users\\ladyp\\AppData\\Local\\Temp\\ipykernel_13420\\3163085542.py:20: PerformanceWarning: DataFrame is highly fragmented.  This is usually the result of calling `frame.insert` many times, which has poor performance.  Consider joining all columns at once using pd.concat(axis=1) instead. To get a de-fragmented frame, use `newframe = frame.copy()`\n",
      "  df[f'{col}_{element}'] = 0\n",
      "C:\\Users\\ladyp\\AppData\\Local\\Temp\\ipykernel_13420\\3163085542.py:20: PerformanceWarning: DataFrame is highly fragmented.  This is usually the result of calling `frame.insert` many times, which has poor performance.  Consider joining all columns at once using pd.concat(axis=1) instead. To get a de-fragmented frame, use `newframe = frame.copy()`\n",
      "  df[f'{col}_{element}'] = 0\n",
      "C:\\Users\\ladyp\\AppData\\Local\\Temp\\ipykernel_13420\\3163085542.py:20: PerformanceWarning: DataFrame is highly fragmented.  This is usually the result of calling `frame.insert` many times, which has poor performance.  Consider joining all columns at once using pd.concat(axis=1) instead. To get a de-fragmented frame, use `newframe = frame.copy()`\n",
      "  df[f'{col}_{element}'] = 0\n",
      "C:\\Users\\ladyp\\AppData\\Local\\Temp\\ipykernel_13420\\3163085542.py:20: PerformanceWarning: DataFrame is highly fragmented.  This is usually the result of calling `frame.insert` many times, which has poor performance.  Consider joining all columns at once using pd.concat(axis=1) instead. To get a de-fragmented frame, use `newframe = frame.copy()`\n",
      "  df[f'{col}_{element}'] = 0\n",
      "C:\\Users\\ladyp\\AppData\\Local\\Temp\\ipykernel_13420\\3163085542.py:20: PerformanceWarning: DataFrame is highly fragmented.  This is usually the result of calling `frame.insert` many times, which has poor performance.  Consider joining all columns at once using pd.concat(axis=1) instead. To get a de-fragmented frame, use `newframe = frame.copy()`\n",
      "  df[f'{col}_{element}'] = 0\n",
      "C:\\Users\\ladyp\\AppData\\Local\\Temp\\ipykernel_13420\\3163085542.py:20: PerformanceWarning: DataFrame is highly fragmented.  This is usually the result of calling `frame.insert` many times, which has poor performance.  Consider joining all columns at once using pd.concat(axis=1) instead. To get a de-fragmented frame, use `newframe = frame.copy()`\n",
      "  df[f'{col}_{element}'] = 0\n",
      "C:\\Users\\ladyp\\AppData\\Local\\Temp\\ipykernel_13420\\3163085542.py:20: PerformanceWarning: DataFrame is highly fragmented.  This is usually the result of calling `frame.insert` many times, which has poor performance.  Consider joining all columns at once using pd.concat(axis=1) instead. To get a de-fragmented frame, use `newframe = frame.copy()`\n",
      "  df[f'{col}_{element}'] = 0\n",
      "C:\\Users\\ladyp\\AppData\\Local\\Temp\\ipykernel_13420\\3163085542.py:20: PerformanceWarning: DataFrame is highly fragmented.  This is usually the result of calling `frame.insert` many times, which has poor performance.  Consider joining all columns at once using pd.concat(axis=1) instead. To get a de-fragmented frame, use `newframe = frame.copy()`\n",
      "  df[f'{col}_{element}'] = 0\n",
      "C:\\Users\\ladyp\\AppData\\Local\\Temp\\ipykernel_13420\\3163085542.py:20: PerformanceWarning: DataFrame is highly fragmented.  This is usually the result of calling `frame.insert` many times, which has poor performance.  Consider joining all columns at once using pd.concat(axis=1) instead. To get a de-fragmented frame, use `newframe = frame.copy()`\n",
      "  df[f'{col}_{element}'] = 0\n",
      "C:\\Users\\ladyp\\AppData\\Local\\Temp\\ipykernel_13420\\3163085542.py:20: PerformanceWarning: DataFrame is highly fragmented.  This is usually the result of calling `frame.insert` many times, which has poor performance.  Consider joining all columns at once using pd.concat(axis=1) instead. To get a de-fragmented frame, use `newframe = frame.copy()`\n",
      "  df[f'{col}_{element}'] = 0\n",
      "C:\\Users\\ladyp\\AppData\\Local\\Temp\\ipykernel_13420\\3163085542.py:20: PerformanceWarning: DataFrame is highly fragmented.  This is usually the result of calling `frame.insert` many times, which has poor performance.  Consider joining all columns at once using pd.concat(axis=1) instead. To get a de-fragmented frame, use `newframe = frame.copy()`\n",
      "  df[f'{col}_{element}'] = 0\n",
      "C:\\Users\\ladyp\\AppData\\Local\\Temp\\ipykernel_13420\\3163085542.py:20: PerformanceWarning: DataFrame is highly fragmented.  This is usually the result of calling `frame.insert` many times, which has poor performance.  Consider joining all columns at once using pd.concat(axis=1) instead. To get a de-fragmented frame, use `newframe = frame.copy()`\n",
      "  df[f'{col}_{element}'] = 0\n",
      "C:\\Users\\ladyp\\AppData\\Local\\Temp\\ipykernel_13420\\3163085542.py:20: PerformanceWarning: DataFrame is highly fragmented.  This is usually the result of calling `frame.insert` many times, which has poor performance.  Consider joining all columns at once using pd.concat(axis=1) instead. To get a de-fragmented frame, use `newframe = frame.copy()`\n",
      "  df[f'{col}_{element}'] = 0\n",
      "C:\\Users\\ladyp\\AppData\\Local\\Temp\\ipykernel_13420\\3163085542.py:20: PerformanceWarning: DataFrame is highly fragmented.  This is usually the result of calling `frame.insert` many times, which has poor performance.  Consider joining all columns at once using pd.concat(axis=1) instead. To get a de-fragmented frame, use `newframe = frame.copy()`\n",
      "  df[f'{col}_{element}'] = 0\n",
      "C:\\Users\\ladyp\\AppData\\Local\\Temp\\ipykernel_13420\\3163085542.py:20: PerformanceWarning: DataFrame is highly fragmented.  This is usually the result of calling `frame.insert` many times, which has poor performance.  Consider joining all columns at once using pd.concat(axis=1) instead. To get a de-fragmented frame, use `newframe = frame.copy()`\n",
      "  df[f'{col}_{element}'] = 0\n",
      "C:\\Users\\ladyp\\AppData\\Local\\Temp\\ipykernel_13420\\3163085542.py:20: PerformanceWarning: DataFrame is highly fragmented.  This is usually the result of calling `frame.insert` many times, which has poor performance.  Consider joining all columns at once using pd.concat(axis=1) instead. To get a de-fragmented frame, use `newframe = frame.copy()`\n",
      "  df[f'{col}_{element}'] = 0\n",
      "C:\\Users\\ladyp\\AppData\\Local\\Temp\\ipykernel_13420\\3163085542.py:20: PerformanceWarning: DataFrame is highly fragmented.  This is usually the result of calling `frame.insert` many times, which has poor performance.  Consider joining all columns at once using pd.concat(axis=1) instead. To get a de-fragmented frame, use `newframe = frame.copy()`\n",
      "  df[f'{col}_{element}'] = 0\n",
      "C:\\Users\\ladyp\\AppData\\Local\\Temp\\ipykernel_13420\\3163085542.py:20: PerformanceWarning: DataFrame is highly fragmented.  This is usually the result of calling `frame.insert` many times, which has poor performance.  Consider joining all columns at once using pd.concat(axis=1) instead. To get a de-fragmented frame, use `newframe = frame.copy()`\n",
      "  df[f'{col}_{element}'] = 0\n",
      "C:\\Users\\ladyp\\AppData\\Local\\Temp\\ipykernel_13420\\3163085542.py:20: PerformanceWarning: DataFrame is highly fragmented.  This is usually the result of calling `frame.insert` many times, which has poor performance.  Consider joining all columns at once using pd.concat(axis=1) instead. To get a de-fragmented frame, use `newframe = frame.copy()`\n",
      "  df[f'{col}_{element}'] = 0\n",
      "C:\\Users\\ladyp\\AppData\\Local\\Temp\\ipykernel_13420\\3163085542.py:20: PerformanceWarning: DataFrame is highly fragmented.  This is usually the result of calling `frame.insert` many times, which has poor performance.  Consider joining all columns at once using pd.concat(axis=1) instead. To get a de-fragmented frame, use `newframe = frame.copy()`\n",
      "  df[f'{col}_{element}'] = 0\n",
      "C:\\Users\\ladyp\\AppData\\Local\\Temp\\ipykernel_13420\\3163085542.py:20: PerformanceWarning: DataFrame is highly fragmented.  This is usually the result of calling `frame.insert` many times, which has poor performance.  Consider joining all columns at once using pd.concat(axis=1) instead. To get a de-fragmented frame, use `newframe = frame.copy()`\n",
      "  df[f'{col}_{element}'] = 0\n",
      "C:\\Users\\ladyp\\AppData\\Local\\Temp\\ipykernel_13420\\3163085542.py:20: PerformanceWarning: DataFrame is highly fragmented.  This is usually the result of calling `frame.insert` many times, which has poor performance.  Consider joining all columns at once using pd.concat(axis=1) instead. To get a de-fragmented frame, use `newframe = frame.copy()`\n",
      "  df[f'{col}_{element}'] = 0\n",
      "C:\\Users\\ladyp\\AppData\\Local\\Temp\\ipykernel_13420\\3163085542.py:20: PerformanceWarning: DataFrame is highly fragmented.  This is usually the result of calling `frame.insert` many times, which has poor performance.  Consider joining all columns at once using pd.concat(axis=1) instead. To get a de-fragmented frame, use `newframe = frame.copy()`\n",
      "  df[f'{col}_{element}'] = 0\n",
      "C:\\Users\\ladyp\\AppData\\Local\\Temp\\ipykernel_13420\\3163085542.py:20: PerformanceWarning: DataFrame is highly fragmented.  This is usually the result of calling `frame.insert` many times, which has poor performance.  Consider joining all columns at once using pd.concat(axis=1) instead. To get a de-fragmented frame, use `newframe = frame.copy()`\n",
      "  df[f'{col}_{element}'] = 0\n",
      "C:\\Users\\ladyp\\AppData\\Local\\Temp\\ipykernel_13420\\3163085542.py:20: PerformanceWarning: DataFrame is highly fragmented.  This is usually the result of calling `frame.insert` many times, which has poor performance.  Consider joining all columns at once using pd.concat(axis=1) instead. To get a de-fragmented frame, use `newframe = frame.copy()`\n",
      "  df[f'{col}_{element}'] = 0\n",
      "C:\\Users\\ladyp\\AppData\\Local\\Temp\\ipykernel_13420\\3163085542.py:20: PerformanceWarning: DataFrame is highly fragmented.  This is usually the result of calling `frame.insert` many times, which has poor performance.  Consider joining all columns at once using pd.concat(axis=1) instead. To get a de-fragmented frame, use `newframe = frame.copy()`\n",
      "  df[f'{col}_{element}'] = 0\n",
      "C:\\Users\\ladyp\\AppData\\Local\\Temp\\ipykernel_13420\\3163085542.py:20: PerformanceWarning: DataFrame is highly fragmented.  This is usually the result of calling `frame.insert` many times, which has poor performance.  Consider joining all columns at once using pd.concat(axis=1) instead. To get a de-fragmented frame, use `newframe = frame.copy()`\n",
      "  df[f'{col}_{element}'] = 0\n",
      "C:\\Users\\ladyp\\AppData\\Local\\Temp\\ipykernel_13420\\3163085542.py:20: PerformanceWarning: DataFrame is highly fragmented.  This is usually the result of calling `frame.insert` many times, which has poor performance.  Consider joining all columns at once using pd.concat(axis=1) instead. To get a de-fragmented frame, use `newframe = frame.copy()`\n",
      "  df[f'{col}_{element}'] = 0\n",
      "C:\\Users\\ladyp\\AppData\\Local\\Temp\\ipykernel_13420\\3163085542.py:20: PerformanceWarning: DataFrame is highly fragmented.  This is usually the result of calling `frame.insert` many times, which has poor performance.  Consider joining all columns at once using pd.concat(axis=1) instead. To get a de-fragmented frame, use `newframe = frame.copy()`\n",
      "  df[f'{col}_{element}'] = 0\n",
      "C:\\Users\\ladyp\\AppData\\Local\\Temp\\ipykernel_13420\\3163085542.py:20: PerformanceWarning: DataFrame is highly fragmented.  This is usually the result of calling `frame.insert` many times, which has poor performance.  Consider joining all columns at once using pd.concat(axis=1) instead. To get a de-fragmented frame, use `newframe = frame.copy()`\n",
      "  df[f'{col}_{element}'] = 0\n",
      "C:\\Users\\ladyp\\AppData\\Local\\Temp\\ipykernel_13420\\3163085542.py:20: PerformanceWarning: DataFrame is highly fragmented.  This is usually the result of calling `frame.insert` many times, which has poor performance.  Consider joining all columns at once using pd.concat(axis=1) instead. To get a de-fragmented frame, use `newframe = frame.copy()`\n",
      "  df[f'{col}_{element}'] = 0\n",
      "C:\\Users\\ladyp\\AppData\\Local\\Temp\\ipykernel_13420\\3163085542.py:20: PerformanceWarning: DataFrame is highly fragmented.  This is usually the result of calling `frame.insert` many times, which has poor performance.  Consider joining all columns at once using pd.concat(axis=1) instead. To get a de-fragmented frame, use `newframe = frame.copy()`\n",
      "  df[f'{col}_{element}'] = 0\n",
      "C:\\Users\\ladyp\\AppData\\Local\\Temp\\ipykernel_13420\\3163085542.py:20: PerformanceWarning: DataFrame is highly fragmented.  This is usually the result of calling `frame.insert` many times, which has poor performance.  Consider joining all columns at once using pd.concat(axis=1) instead. To get a de-fragmented frame, use `newframe = frame.copy()`\n",
      "  df[f'{col}_{element}'] = 0\n",
      "C:\\Users\\ladyp\\AppData\\Local\\Temp\\ipykernel_13420\\3163085542.py:20: PerformanceWarning: DataFrame is highly fragmented.  This is usually the result of calling `frame.insert` many times, which has poor performance.  Consider joining all columns at once using pd.concat(axis=1) instead. To get a de-fragmented frame, use `newframe = frame.copy()`\n",
      "  df[f'{col}_{element}'] = 0\n",
      "C:\\Users\\ladyp\\AppData\\Local\\Temp\\ipykernel_13420\\3163085542.py:20: PerformanceWarning: DataFrame is highly fragmented.  This is usually the result of calling `frame.insert` many times, which has poor performance.  Consider joining all columns at once using pd.concat(axis=1) instead. To get a de-fragmented frame, use `newframe = frame.copy()`\n",
      "  df[f'{col}_{element}'] = 0\n",
      "C:\\Users\\ladyp\\AppData\\Local\\Temp\\ipykernel_13420\\3163085542.py:20: PerformanceWarning: DataFrame is highly fragmented.  This is usually the result of calling `frame.insert` many times, which has poor performance.  Consider joining all columns at once using pd.concat(axis=1) instead. To get a de-fragmented frame, use `newframe = frame.copy()`\n",
      "  df[f'{col}_{element}'] = 0\n",
      "C:\\Users\\ladyp\\AppData\\Local\\Temp\\ipykernel_13420\\3163085542.py:20: PerformanceWarning: DataFrame is highly fragmented.  This is usually the result of calling `frame.insert` many times, which has poor performance.  Consider joining all columns at once using pd.concat(axis=1) instead. To get a de-fragmented frame, use `newframe = frame.copy()`\n",
      "  df[f'{col}_{element}'] = 0\n",
      "C:\\Users\\ladyp\\AppData\\Local\\Temp\\ipykernel_13420\\3163085542.py:20: PerformanceWarning: DataFrame is highly fragmented.  This is usually the result of calling `frame.insert` many times, which has poor performance.  Consider joining all columns at once using pd.concat(axis=1) instead. To get a de-fragmented frame, use `newframe = frame.copy()`\n",
      "  df[f'{col}_{element}'] = 0\n",
      "C:\\Users\\ladyp\\AppData\\Local\\Temp\\ipykernel_13420\\3163085542.py:20: PerformanceWarning: DataFrame is highly fragmented.  This is usually the result of calling `frame.insert` many times, which has poor performance.  Consider joining all columns at once using pd.concat(axis=1) instead. To get a de-fragmented frame, use `newframe = frame.copy()`\n",
      "  df[f'{col}_{element}'] = 0\n",
      "C:\\Users\\ladyp\\AppData\\Local\\Temp\\ipykernel_13420\\3163085542.py:20: PerformanceWarning: DataFrame is highly fragmented.  This is usually the result of calling `frame.insert` many times, which has poor performance.  Consider joining all columns at once using pd.concat(axis=1) instead. To get a de-fragmented frame, use `newframe = frame.copy()`\n",
      "  df[f'{col}_{element}'] = 0\n",
      "C:\\Users\\ladyp\\AppData\\Local\\Temp\\ipykernel_13420\\3163085542.py:20: PerformanceWarning: DataFrame is highly fragmented.  This is usually the result of calling `frame.insert` many times, which has poor performance.  Consider joining all columns at once using pd.concat(axis=1) instead. To get a de-fragmented frame, use `newframe = frame.copy()`\n",
      "  df[f'{col}_{element}'] = 0\n",
      "C:\\Users\\ladyp\\AppData\\Local\\Temp\\ipykernel_13420\\3163085542.py:20: PerformanceWarning: DataFrame is highly fragmented.  This is usually the result of calling `frame.insert` many times, which has poor performance.  Consider joining all columns at once using pd.concat(axis=1) instead. To get a de-fragmented frame, use `newframe = frame.copy()`\n",
      "  df[f'{col}_{element}'] = 0\n",
      "C:\\Users\\ladyp\\AppData\\Local\\Temp\\ipykernel_13420\\3163085542.py:20: PerformanceWarning: DataFrame is highly fragmented.  This is usually the result of calling `frame.insert` many times, which has poor performance.  Consider joining all columns at once using pd.concat(axis=1) instead. To get a de-fragmented frame, use `newframe = frame.copy()`\n",
      "  df[f'{col}_{element}'] = 0\n",
      "C:\\Users\\ladyp\\AppData\\Local\\Temp\\ipykernel_13420\\3163085542.py:20: PerformanceWarning: DataFrame is highly fragmented.  This is usually the result of calling `frame.insert` many times, which has poor performance.  Consider joining all columns at once using pd.concat(axis=1) instead. To get a de-fragmented frame, use `newframe = frame.copy()`\n",
      "  df[f'{col}_{element}'] = 0\n",
      "C:\\Users\\ladyp\\AppData\\Local\\Temp\\ipykernel_13420\\3163085542.py:20: PerformanceWarning: DataFrame is highly fragmented.  This is usually the result of calling `frame.insert` many times, which has poor performance.  Consider joining all columns at once using pd.concat(axis=1) instead. To get a de-fragmented frame, use `newframe = frame.copy()`\n",
      "  df[f'{col}_{element}'] = 0\n",
      "C:\\Users\\ladyp\\AppData\\Local\\Temp\\ipykernel_13420\\3163085542.py:20: PerformanceWarning: DataFrame is highly fragmented.  This is usually the result of calling `frame.insert` many times, which has poor performance.  Consider joining all columns at once using pd.concat(axis=1) instead. To get a de-fragmented frame, use `newframe = frame.copy()`\n",
      "  df[f'{col}_{element}'] = 0\n",
      "C:\\Users\\ladyp\\AppData\\Local\\Temp\\ipykernel_13420\\3163085542.py:20: PerformanceWarning: DataFrame is highly fragmented.  This is usually the result of calling `frame.insert` many times, which has poor performance.  Consider joining all columns at once using pd.concat(axis=1) instead. To get a de-fragmented frame, use `newframe = frame.copy()`\n",
      "  df[f'{col}_{element}'] = 0\n",
      "C:\\Users\\ladyp\\AppData\\Local\\Temp\\ipykernel_13420\\3163085542.py:20: PerformanceWarning: DataFrame is highly fragmented.  This is usually the result of calling `frame.insert` many times, which has poor performance.  Consider joining all columns at once using pd.concat(axis=1) instead. To get a de-fragmented frame, use `newframe = frame.copy()`\n",
      "  df[f'{col}_{element}'] = 0\n",
      "C:\\Users\\ladyp\\AppData\\Local\\Temp\\ipykernel_13420\\3163085542.py:20: PerformanceWarning: DataFrame is highly fragmented.  This is usually the result of calling `frame.insert` many times, which has poor performance.  Consider joining all columns at once using pd.concat(axis=1) instead. To get a de-fragmented frame, use `newframe = frame.copy()`\n",
      "  df[f'{col}_{element}'] = 0\n",
      "C:\\Users\\ladyp\\AppData\\Local\\Temp\\ipykernel_13420\\3163085542.py:20: PerformanceWarning: DataFrame is highly fragmented.  This is usually the result of calling `frame.insert` many times, which has poor performance.  Consider joining all columns at once using pd.concat(axis=1) instead. To get a de-fragmented frame, use `newframe = frame.copy()`\n",
      "  df[f'{col}_{element}'] = 0\n",
      "C:\\Users\\ladyp\\AppData\\Local\\Temp\\ipykernel_13420\\3163085542.py:20: PerformanceWarning: DataFrame is highly fragmented.  This is usually the result of calling `frame.insert` many times, which has poor performance.  Consider joining all columns at once using pd.concat(axis=1) instead. To get a de-fragmented frame, use `newframe = frame.copy()`\n",
      "  df[f'{col}_{element}'] = 0\n",
      "C:\\Users\\ladyp\\AppData\\Local\\Temp\\ipykernel_13420\\3163085542.py:20: PerformanceWarning: DataFrame is highly fragmented.  This is usually the result of calling `frame.insert` many times, which has poor performance.  Consider joining all columns at once using pd.concat(axis=1) instead. To get a de-fragmented frame, use `newframe = frame.copy()`\n",
      "  df[f'{col}_{element}'] = 0\n",
      "C:\\Users\\ladyp\\AppData\\Local\\Temp\\ipykernel_13420\\3163085542.py:20: PerformanceWarning: DataFrame is highly fragmented.  This is usually the result of calling `frame.insert` many times, which has poor performance.  Consider joining all columns at once using pd.concat(axis=1) instead. To get a de-fragmented frame, use `newframe = frame.copy()`\n",
      "  df[f'{col}_{element}'] = 0\n",
      "C:\\Users\\ladyp\\AppData\\Local\\Temp\\ipykernel_13420\\3163085542.py:20: PerformanceWarning: DataFrame is highly fragmented.  This is usually the result of calling `frame.insert` many times, which has poor performance.  Consider joining all columns at once using pd.concat(axis=1) instead. To get a de-fragmented frame, use `newframe = frame.copy()`\n",
      "  df[f'{col}_{element}'] = 0\n",
      "C:\\Users\\ladyp\\AppData\\Local\\Temp\\ipykernel_13420\\3163085542.py:20: PerformanceWarning: DataFrame is highly fragmented.  This is usually the result of calling `frame.insert` many times, which has poor performance.  Consider joining all columns at once using pd.concat(axis=1) instead. To get a de-fragmented frame, use `newframe = frame.copy()`\n",
      "  df[f'{col}_{element}'] = 0\n",
      "C:\\Users\\ladyp\\AppData\\Local\\Temp\\ipykernel_13420\\3163085542.py:20: PerformanceWarning: DataFrame is highly fragmented.  This is usually the result of calling `frame.insert` many times, which has poor performance.  Consider joining all columns at once using pd.concat(axis=1) instead. To get a de-fragmented frame, use `newframe = frame.copy()`\n",
      "  df[f'{col}_{element}'] = 0\n",
      "C:\\Users\\ladyp\\AppData\\Local\\Temp\\ipykernel_13420\\3163085542.py:20: PerformanceWarning: DataFrame is highly fragmented.  This is usually the result of calling `frame.insert` many times, which has poor performance.  Consider joining all columns at once using pd.concat(axis=1) instead. To get a de-fragmented frame, use `newframe = frame.copy()`\n",
      "  df[f'{col}_{element}'] = 0\n",
      "C:\\Users\\ladyp\\AppData\\Local\\Temp\\ipykernel_13420\\3163085542.py:20: PerformanceWarning: DataFrame is highly fragmented.  This is usually the result of calling `frame.insert` many times, which has poor performance.  Consider joining all columns at once using pd.concat(axis=1) instead. To get a de-fragmented frame, use `newframe = frame.copy()`\n",
      "  df[f'{col}_{element}'] = 0\n",
      "C:\\Users\\ladyp\\AppData\\Local\\Temp\\ipykernel_13420\\3163085542.py:20: PerformanceWarning: DataFrame is highly fragmented.  This is usually the result of calling `frame.insert` many times, which has poor performance.  Consider joining all columns at once using pd.concat(axis=1) instead. To get a de-fragmented frame, use `newframe = frame.copy()`\n",
      "  df[f'{col}_{element}'] = 0\n",
      "C:\\Users\\ladyp\\AppData\\Local\\Temp\\ipykernel_13420\\3163085542.py:20: PerformanceWarning: DataFrame is highly fragmented.  This is usually the result of calling `frame.insert` many times, which has poor performance.  Consider joining all columns at once using pd.concat(axis=1) instead. To get a de-fragmented frame, use `newframe = frame.copy()`\n",
      "  df[f'{col}_{element}'] = 0\n",
      "C:\\Users\\ladyp\\AppData\\Local\\Temp\\ipykernel_13420\\3163085542.py:20: PerformanceWarning: DataFrame is highly fragmented.  This is usually the result of calling `frame.insert` many times, which has poor performance.  Consider joining all columns at once using pd.concat(axis=1) instead. To get a de-fragmented frame, use `newframe = frame.copy()`\n",
      "  df[f'{col}_{element}'] = 0\n",
      "C:\\Users\\ladyp\\AppData\\Local\\Temp\\ipykernel_13420\\3163085542.py:20: PerformanceWarning: DataFrame is highly fragmented.  This is usually the result of calling `frame.insert` many times, which has poor performance.  Consider joining all columns at once using pd.concat(axis=1) instead. To get a de-fragmented frame, use `newframe = frame.copy()`\n",
      "  df[f'{col}_{element}'] = 0\n",
      "C:\\Users\\ladyp\\AppData\\Local\\Temp\\ipykernel_13420\\3163085542.py:20: PerformanceWarning: DataFrame is highly fragmented.  This is usually the result of calling `frame.insert` many times, which has poor performance.  Consider joining all columns at once using pd.concat(axis=1) instead. To get a de-fragmented frame, use `newframe = frame.copy()`\n",
      "  df[f'{col}_{element}'] = 0\n",
      "C:\\Users\\ladyp\\AppData\\Local\\Temp\\ipykernel_13420\\3163085542.py:20: PerformanceWarning: DataFrame is highly fragmented.  This is usually the result of calling `frame.insert` many times, which has poor performance.  Consider joining all columns at once using pd.concat(axis=1) instead. To get a de-fragmented frame, use `newframe = frame.copy()`\n",
      "  df[f'{col}_{element}'] = 0\n",
      "C:\\Users\\ladyp\\AppData\\Local\\Temp\\ipykernel_13420\\3163085542.py:20: PerformanceWarning: DataFrame is highly fragmented.  This is usually the result of calling `frame.insert` many times, which has poor performance.  Consider joining all columns at once using pd.concat(axis=1) instead. To get a de-fragmented frame, use `newframe = frame.copy()`\n",
      "  df[f'{col}_{element}'] = 0\n",
      "C:\\Users\\ladyp\\AppData\\Local\\Temp\\ipykernel_13420\\3163085542.py:20: PerformanceWarning: DataFrame is highly fragmented.  This is usually the result of calling `frame.insert` many times, which has poor performance.  Consider joining all columns at once using pd.concat(axis=1) instead. To get a de-fragmented frame, use `newframe = frame.copy()`\n",
      "  df[f'{col}_{element}'] = 0\n",
      "C:\\Users\\ladyp\\AppData\\Local\\Temp\\ipykernel_13420\\3163085542.py:20: PerformanceWarning: DataFrame is highly fragmented.  This is usually the result of calling `frame.insert` many times, which has poor performance.  Consider joining all columns at once using pd.concat(axis=1) instead. To get a de-fragmented frame, use `newframe = frame.copy()`\n",
      "  df[f'{col}_{element}'] = 0\n",
      "C:\\Users\\ladyp\\AppData\\Local\\Temp\\ipykernel_13420\\3163085542.py:20: PerformanceWarning: DataFrame is highly fragmented.  This is usually the result of calling `frame.insert` many times, which has poor performance.  Consider joining all columns at once using pd.concat(axis=1) instead. To get a de-fragmented frame, use `newframe = frame.copy()`\n",
      "  df[f'{col}_{element}'] = 0\n",
      "C:\\Users\\ladyp\\AppData\\Local\\Temp\\ipykernel_13420\\3163085542.py:20: PerformanceWarning: DataFrame is highly fragmented.  This is usually the result of calling `frame.insert` many times, which has poor performance.  Consider joining all columns at once using pd.concat(axis=1) instead. To get a de-fragmented frame, use `newframe = frame.copy()`\n",
      "  df[f'{col}_{element}'] = 0\n",
      "C:\\Users\\ladyp\\AppData\\Local\\Temp\\ipykernel_13420\\3163085542.py:20: PerformanceWarning: DataFrame is highly fragmented.  This is usually the result of calling `frame.insert` many times, which has poor performance.  Consider joining all columns at once using pd.concat(axis=1) instead. To get a de-fragmented frame, use `newframe = frame.copy()`\n",
      "  df[f'{col}_{element}'] = 0\n",
      "C:\\Users\\ladyp\\AppData\\Local\\Temp\\ipykernel_13420\\3163085542.py:20: PerformanceWarning: DataFrame is highly fragmented.  This is usually the result of calling `frame.insert` many times, which has poor performance.  Consider joining all columns at once using pd.concat(axis=1) instead. To get a de-fragmented frame, use `newframe = frame.copy()`\n",
      "  df[f'{col}_{element}'] = 0\n",
      "C:\\Users\\ladyp\\AppData\\Local\\Temp\\ipykernel_13420\\3163085542.py:20: PerformanceWarning: DataFrame is highly fragmented.  This is usually the result of calling `frame.insert` many times, which has poor performance.  Consider joining all columns at once using pd.concat(axis=1) instead. To get a de-fragmented frame, use `newframe = frame.copy()`\n",
      "  df[f'{col}_{element}'] = 0\n",
      "C:\\Users\\ladyp\\AppData\\Local\\Temp\\ipykernel_13420\\3163085542.py:20: PerformanceWarning: DataFrame is highly fragmented.  This is usually the result of calling `frame.insert` many times, which has poor performance.  Consider joining all columns at once using pd.concat(axis=1) instead. To get a de-fragmented frame, use `newframe = frame.copy()`\n",
      "  df[f'{col}_{element}'] = 0\n",
      "C:\\Users\\ladyp\\AppData\\Local\\Temp\\ipykernel_13420\\3163085542.py:20: PerformanceWarning: DataFrame is highly fragmented.  This is usually the result of calling `frame.insert` many times, which has poor performance.  Consider joining all columns at once using pd.concat(axis=1) instead. To get a de-fragmented frame, use `newframe = frame.copy()`\n",
      "  df[f'{col}_{element}'] = 0\n",
      "C:\\Users\\ladyp\\AppData\\Local\\Temp\\ipykernel_13420\\3163085542.py:20: PerformanceWarning: DataFrame is highly fragmented.  This is usually the result of calling `frame.insert` many times, which has poor performance.  Consider joining all columns at once using pd.concat(axis=1) instead. To get a de-fragmented frame, use `newframe = frame.copy()`\n",
      "  df[f'{col}_{element}'] = 0\n",
      "C:\\Users\\ladyp\\AppData\\Local\\Temp\\ipykernel_13420\\3163085542.py:20: PerformanceWarning: DataFrame is highly fragmented.  This is usually the result of calling `frame.insert` many times, which has poor performance.  Consider joining all columns at once using pd.concat(axis=1) instead. To get a de-fragmented frame, use `newframe = frame.copy()`\n",
      "  df[f'{col}_{element}'] = 0\n",
      "C:\\Users\\ladyp\\AppData\\Local\\Temp\\ipykernel_13420\\3163085542.py:20: PerformanceWarning: DataFrame is highly fragmented.  This is usually the result of calling `frame.insert` many times, which has poor performance.  Consider joining all columns at once using pd.concat(axis=1) instead. To get a de-fragmented frame, use `newframe = frame.copy()`\n",
      "  df[f'{col}_{element}'] = 0\n",
      "C:\\Users\\ladyp\\AppData\\Local\\Temp\\ipykernel_13420\\3163085542.py:20: PerformanceWarning: DataFrame is highly fragmented.  This is usually the result of calling `frame.insert` many times, which has poor performance.  Consider joining all columns at once using pd.concat(axis=1) instead. To get a de-fragmented frame, use `newframe = frame.copy()`\n",
      "  df[f'{col}_{element}'] = 0\n",
      "C:\\Users\\ladyp\\AppData\\Local\\Temp\\ipykernel_13420\\3163085542.py:20: PerformanceWarning: DataFrame is highly fragmented.  This is usually the result of calling `frame.insert` many times, which has poor performance.  Consider joining all columns at once using pd.concat(axis=1) instead. To get a de-fragmented frame, use `newframe = frame.copy()`\n",
      "  df[f'{col}_{element}'] = 0\n",
      "C:\\Users\\ladyp\\AppData\\Local\\Temp\\ipykernel_13420\\3163085542.py:20: PerformanceWarning: DataFrame is highly fragmented.  This is usually the result of calling `frame.insert` many times, which has poor performance.  Consider joining all columns at once using pd.concat(axis=1) instead. To get a de-fragmented frame, use `newframe = frame.copy()`\n",
      "  df[f'{col}_{element}'] = 0\n",
      "C:\\Users\\ladyp\\AppData\\Local\\Temp\\ipykernel_13420\\3163085542.py:20: PerformanceWarning: DataFrame is highly fragmented.  This is usually the result of calling `frame.insert` many times, which has poor performance.  Consider joining all columns at once using pd.concat(axis=1) instead. To get a de-fragmented frame, use `newframe = frame.copy()`\n",
      "  df[f'{col}_{element}'] = 0\n",
      "C:\\Users\\ladyp\\AppData\\Local\\Temp\\ipykernel_13420\\3163085542.py:20: PerformanceWarning: DataFrame is highly fragmented.  This is usually the result of calling `frame.insert` many times, which has poor performance.  Consider joining all columns at once using pd.concat(axis=1) instead. To get a de-fragmented frame, use `newframe = frame.copy()`\n",
      "  df[f'{col}_{element}'] = 0\n",
      "C:\\Users\\ladyp\\AppData\\Local\\Temp\\ipykernel_13420\\3163085542.py:20: PerformanceWarning: DataFrame is highly fragmented.  This is usually the result of calling `frame.insert` many times, which has poor performance.  Consider joining all columns at once using pd.concat(axis=1) instead. To get a de-fragmented frame, use `newframe = frame.copy()`\n",
      "  df[f'{col}_{element}'] = 0\n",
      "C:\\Users\\ladyp\\AppData\\Local\\Temp\\ipykernel_13420\\3163085542.py:20: PerformanceWarning: DataFrame is highly fragmented.  This is usually the result of calling `frame.insert` many times, which has poor performance.  Consider joining all columns at once using pd.concat(axis=1) instead. To get a de-fragmented frame, use `newframe = frame.copy()`\n",
      "  df[f'{col}_{element}'] = 0\n",
      "C:\\Users\\ladyp\\AppData\\Local\\Temp\\ipykernel_13420\\3163085542.py:20: PerformanceWarning: DataFrame is highly fragmented.  This is usually the result of calling `frame.insert` many times, which has poor performance.  Consider joining all columns at once using pd.concat(axis=1) instead. To get a de-fragmented frame, use `newframe = frame.copy()`\n",
      "  df[f'{col}_{element}'] = 0\n",
      "C:\\Users\\ladyp\\AppData\\Local\\Temp\\ipykernel_13420\\3163085542.py:20: PerformanceWarning: DataFrame is highly fragmented.  This is usually the result of calling `frame.insert` many times, which has poor performance.  Consider joining all columns at once using pd.concat(axis=1) instead. To get a de-fragmented frame, use `newframe = frame.copy()`\n",
      "  df[f'{col}_{element}'] = 0\n",
      "C:\\Users\\ladyp\\AppData\\Local\\Temp\\ipykernel_13420\\3163085542.py:20: PerformanceWarning: DataFrame is highly fragmented.  This is usually the result of calling `frame.insert` many times, which has poor performance.  Consider joining all columns at once using pd.concat(axis=1) instead. To get a de-fragmented frame, use `newframe = frame.copy()`\n",
      "  df[f'{col}_{element}'] = 0\n",
      "C:\\Users\\ladyp\\AppData\\Local\\Temp\\ipykernel_13420\\3163085542.py:20: PerformanceWarning: DataFrame is highly fragmented.  This is usually the result of calling `frame.insert` many times, which has poor performance.  Consider joining all columns at once using pd.concat(axis=1) instead. To get a de-fragmented frame, use `newframe = frame.copy()`\n",
      "  df[f'{col}_{element}'] = 0\n",
      "C:\\Users\\ladyp\\AppData\\Local\\Temp\\ipykernel_13420\\3163085542.py:20: PerformanceWarning: DataFrame is highly fragmented.  This is usually the result of calling `frame.insert` many times, which has poor performance.  Consider joining all columns at once using pd.concat(axis=1) instead. To get a de-fragmented frame, use `newframe = frame.copy()`\n",
      "  df[f'{col}_{element}'] = 0\n",
      "C:\\Users\\ladyp\\AppData\\Local\\Temp\\ipykernel_13420\\3163085542.py:20: PerformanceWarning: DataFrame is highly fragmented.  This is usually the result of calling `frame.insert` many times, which has poor performance.  Consider joining all columns at once using pd.concat(axis=1) instead. To get a de-fragmented frame, use `newframe = frame.copy()`\n",
      "  df[f'{col}_{element}'] = 0\n",
      "C:\\Users\\ladyp\\AppData\\Local\\Temp\\ipykernel_13420\\3163085542.py:20: PerformanceWarning: DataFrame is highly fragmented.  This is usually the result of calling `frame.insert` many times, which has poor performance.  Consider joining all columns at once using pd.concat(axis=1) instead. To get a de-fragmented frame, use `newframe = frame.copy()`\n",
      "  df[f'{col}_{element}'] = 0\n",
      "C:\\Users\\ladyp\\AppData\\Local\\Temp\\ipykernel_13420\\3163085542.py:20: PerformanceWarning: DataFrame is highly fragmented.  This is usually the result of calling `frame.insert` many times, which has poor performance.  Consider joining all columns at once using pd.concat(axis=1) instead. To get a de-fragmented frame, use `newframe = frame.copy()`\n",
      "  df[f'{col}_{element}'] = 0\n",
      "C:\\Users\\ladyp\\AppData\\Local\\Temp\\ipykernel_13420\\3163085542.py:20: PerformanceWarning: DataFrame is highly fragmented.  This is usually the result of calling `frame.insert` many times, which has poor performance.  Consider joining all columns at once using pd.concat(axis=1) instead. To get a de-fragmented frame, use `newframe = frame.copy()`\n",
      "  df[f'{col}_{element}'] = 0\n",
      "C:\\Users\\ladyp\\AppData\\Local\\Temp\\ipykernel_13420\\3163085542.py:20: PerformanceWarning: DataFrame is highly fragmented.  This is usually the result of calling `frame.insert` many times, which has poor performance.  Consider joining all columns at once using pd.concat(axis=1) instead. To get a de-fragmented frame, use `newframe = frame.copy()`\n",
      "  df[f'{col}_{element}'] = 0\n",
      "C:\\Users\\ladyp\\AppData\\Local\\Temp\\ipykernel_13420\\3163085542.py:20: PerformanceWarning: DataFrame is highly fragmented.  This is usually the result of calling `frame.insert` many times, which has poor performance.  Consider joining all columns at once using pd.concat(axis=1) instead. To get a de-fragmented frame, use `newframe = frame.copy()`\n",
      "  df[f'{col}_{element}'] = 0\n",
      "C:\\Users\\ladyp\\AppData\\Local\\Temp\\ipykernel_13420\\3163085542.py:20: PerformanceWarning: DataFrame is highly fragmented.  This is usually the result of calling `frame.insert` many times, which has poor performance.  Consider joining all columns at once using pd.concat(axis=1) instead. To get a de-fragmented frame, use `newframe = frame.copy()`\n",
      "  df[f'{col}_{element}'] = 0\n",
      "C:\\Users\\ladyp\\AppData\\Local\\Temp\\ipykernel_13420\\3163085542.py:20: PerformanceWarning: DataFrame is highly fragmented.  This is usually the result of calling `frame.insert` many times, which has poor performance.  Consider joining all columns at once using pd.concat(axis=1) instead. To get a de-fragmented frame, use `newframe = frame.copy()`\n",
      "  df[f'{col}_{element}'] = 0\n",
      "C:\\Users\\ladyp\\AppData\\Local\\Temp\\ipykernel_13420\\3163085542.py:20: PerformanceWarning: DataFrame is highly fragmented.  This is usually the result of calling `frame.insert` many times, which has poor performance.  Consider joining all columns at once using pd.concat(axis=1) instead. To get a de-fragmented frame, use `newframe = frame.copy()`\n",
      "  df[f'{col}_{element}'] = 0\n",
      "C:\\Users\\ladyp\\AppData\\Local\\Temp\\ipykernel_13420\\3163085542.py:20: PerformanceWarning: DataFrame is highly fragmented.  This is usually the result of calling `frame.insert` many times, which has poor performance.  Consider joining all columns at once using pd.concat(axis=1) instead. To get a de-fragmented frame, use `newframe = frame.copy()`\n",
      "  df[f'{col}_{element}'] = 0\n",
      "C:\\Users\\ladyp\\AppData\\Local\\Temp\\ipykernel_13420\\3163085542.py:20: PerformanceWarning: DataFrame is highly fragmented.  This is usually the result of calling `frame.insert` many times, which has poor performance.  Consider joining all columns at once using pd.concat(axis=1) instead. To get a de-fragmented frame, use `newframe = frame.copy()`\n",
      "  df[f'{col}_{element}'] = 0\n",
      "C:\\Users\\ladyp\\AppData\\Local\\Temp\\ipykernel_13420\\3163085542.py:20: PerformanceWarning: DataFrame is highly fragmented.  This is usually the result of calling `frame.insert` many times, which has poor performance.  Consider joining all columns at once using pd.concat(axis=1) instead. To get a de-fragmented frame, use `newframe = frame.copy()`\n",
      "  df[f'{col}_{element}'] = 0\n",
      "C:\\Users\\ladyp\\AppData\\Local\\Temp\\ipykernel_13420\\3163085542.py:20: PerformanceWarning: DataFrame is highly fragmented.  This is usually the result of calling `frame.insert` many times, which has poor performance.  Consider joining all columns at once using pd.concat(axis=1) instead. To get a de-fragmented frame, use `newframe = frame.copy()`\n",
      "  df[f'{col}_{element}'] = 0\n",
      "C:\\Users\\ladyp\\AppData\\Local\\Temp\\ipykernel_13420\\3163085542.py:20: PerformanceWarning: DataFrame is highly fragmented.  This is usually the result of calling `frame.insert` many times, which has poor performance.  Consider joining all columns at once using pd.concat(axis=1) instead. To get a de-fragmented frame, use `newframe = frame.copy()`\n",
      "  df[f'{col}_{element}'] = 0\n",
      "C:\\Users\\ladyp\\AppData\\Local\\Temp\\ipykernel_13420\\3163085542.py:20: PerformanceWarning: DataFrame is highly fragmented.  This is usually the result of calling `frame.insert` many times, which has poor performance.  Consider joining all columns at once using pd.concat(axis=1) instead. To get a de-fragmented frame, use `newframe = frame.copy()`\n",
      "  df[f'{col}_{element}'] = 0\n",
      "C:\\Users\\ladyp\\AppData\\Local\\Temp\\ipykernel_13420\\3163085542.py:20: PerformanceWarning: DataFrame is highly fragmented.  This is usually the result of calling `frame.insert` many times, which has poor performance.  Consider joining all columns at once using pd.concat(axis=1) instead. To get a de-fragmented frame, use `newframe = frame.copy()`\n",
      "  df[f'{col}_{element}'] = 0\n",
      "C:\\Users\\ladyp\\AppData\\Local\\Temp\\ipykernel_13420\\3163085542.py:20: PerformanceWarning: DataFrame is highly fragmented.  This is usually the result of calling `frame.insert` many times, which has poor performance.  Consider joining all columns at once using pd.concat(axis=1) instead. To get a de-fragmented frame, use `newframe = frame.copy()`\n",
      "  df[f'{col}_{element}'] = 0\n",
      "C:\\Users\\ladyp\\AppData\\Local\\Temp\\ipykernel_13420\\3163085542.py:20: PerformanceWarning: DataFrame is highly fragmented.  This is usually the result of calling `frame.insert` many times, which has poor performance.  Consider joining all columns at once using pd.concat(axis=1) instead. To get a de-fragmented frame, use `newframe = frame.copy()`\n",
      "  df[f'{col}_{element}'] = 0\n",
      "C:\\Users\\ladyp\\AppData\\Local\\Temp\\ipykernel_13420\\3163085542.py:20: PerformanceWarning: DataFrame is highly fragmented.  This is usually the result of calling `frame.insert` many times, which has poor performance.  Consider joining all columns at once using pd.concat(axis=1) instead. To get a de-fragmented frame, use `newframe = frame.copy()`\n",
      "  df[f'{col}_{element}'] = 0\n",
      "C:\\Users\\ladyp\\AppData\\Local\\Temp\\ipykernel_13420\\3163085542.py:20: PerformanceWarning: DataFrame is highly fragmented.  This is usually the result of calling `frame.insert` many times, which has poor performance.  Consider joining all columns at once using pd.concat(axis=1) instead. To get a de-fragmented frame, use `newframe = frame.copy()`\n",
      "  df[f'{col}_{element}'] = 0\n",
      "C:\\Users\\ladyp\\AppData\\Local\\Temp\\ipykernel_13420\\3163085542.py:20: PerformanceWarning: DataFrame is highly fragmented.  This is usually the result of calling `frame.insert` many times, which has poor performance.  Consider joining all columns at once using pd.concat(axis=1) instead. To get a de-fragmented frame, use `newframe = frame.copy()`\n",
      "  df[f'{col}_{element}'] = 0\n",
      "C:\\Users\\ladyp\\AppData\\Local\\Temp\\ipykernel_13420\\3163085542.py:20: PerformanceWarning: DataFrame is highly fragmented.  This is usually the result of calling `frame.insert` many times, which has poor performance.  Consider joining all columns at once using pd.concat(axis=1) instead. To get a de-fragmented frame, use `newframe = frame.copy()`\n",
      "  df[f'{col}_{element}'] = 0\n",
      "C:\\Users\\ladyp\\AppData\\Local\\Temp\\ipykernel_13420\\3163085542.py:20: PerformanceWarning: DataFrame is highly fragmented.  This is usually the result of calling `frame.insert` many times, which has poor performance.  Consider joining all columns at once using pd.concat(axis=1) instead. To get a de-fragmented frame, use `newframe = frame.copy()`\n",
      "  df[f'{col}_{element}'] = 0\n",
      "C:\\Users\\ladyp\\AppData\\Local\\Temp\\ipykernel_13420\\3163085542.py:20: PerformanceWarning: DataFrame is highly fragmented.  This is usually the result of calling `frame.insert` many times, which has poor performance.  Consider joining all columns at once using pd.concat(axis=1) instead. To get a de-fragmented frame, use `newframe = frame.copy()`\n",
      "  df[f'{col}_{element}'] = 0\n",
      "C:\\Users\\ladyp\\AppData\\Local\\Temp\\ipykernel_13420\\3163085542.py:20: PerformanceWarning: DataFrame is highly fragmented.  This is usually the result of calling `frame.insert` many times, which has poor performance.  Consider joining all columns at once using pd.concat(axis=1) instead. To get a de-fragmented frame, use `newframe = frame.copy()`\n",
      "  df[f'{col}_{element}'] = 0\n",
      "C:\\Users\\ladyp\\AppData\\Local\\Temp\\ipykernel_13420\\3163085542.py:20: PerformanceWarning: DataFrame is highly fragmented.  This is usually the result of calling `frame.insert` many times, which has poor performance.  Consider joining all columns at once using pd.concat(axis=1) instead. To get a de-fragmented frame, use `newframe = frame.copy()`\n",
      "  df[f'{col}_{element}'] = 0\n",
      "C:\\Users\\ladyp\\AppData\\Local\\Temp\\ipykernel_13420\\3163085542.py:20: PerformanceWarning: DataFrame is highly fragmented.  This is usually the result of calling `frame.insert` many times, which has poor performance.  Consider joining all columns at once using pd.concat(axis=1) instead. To get a de-fragmented frame, use `newframe = frame.copy()`\n",
      "  df[f'{col}_{element}'] = 0\n",
      "C:\\Users\\ladyp\\AppData\\Local\\Temp\\ipykernel_13420\\3163085542.py:20: PerformanceWarning: DataFrame is highly fragmented.  This is usually the result of calling `frame.insert` many times, which has poor performance.  Consider joining all columns at once using pd.concat(axis=1) instead. To get a de-fragmented frame, use `newframe = frame.copy()`\n",
      "  df[f'{col}_{element}'] = 0\n",
      "C:\\Users\\ladyp\\AppData\\Local\\Temp\\ipykernel_13420\\3163085542.py:20: PerformanceWarning: DataFrame is highly fragmented.  This is usually the result of calling `frame.insert` many times, which has poor performance.  Consider joining all columns at once using pd.concat(axis=1) instead. To get a de-fragmented frame, use `newframe = frame.copy()`\n",
      "  df[f'{col}_{element}'] = 0\n",
      "C:\\Users\\ladyp\\AppData\\Local\\Temp\\ipykernel_13420\\3163085542.py:20: PerformanceWarning: DataFrame is highly fragmented.  This is usually the result of calling `frame.insert` many times, which has poor performance.  Consider joining all columns at once using pd.concat(axis=1) instead. To get a de-fragmented frame, use `newframe = frame.copy()`\n",
      "  df[f'{col}_{element}'] = 0\n",
      "C:\\Users\\ladyp\\AppData\\Local\\Temp\\ipykernel_13420\\3163085542.py:20: PerformanceWarning: DataFrame is highly fragmented.  This is usually the result of calling `frame.insert` many times, which has poor performance.  Consider joining all columns at once using pd.concat(axis=1) instead. To get a de-fragmented frame, use `newframe = frame.copy()`\n",
      "  df[f'{col}_{element}'] = 0\n",
      "C:\\Users\\ladyp\\AppData\\Local\\Temp\\ipykernel_13420\\3163085542.py:20: PerformanceWarning: DataFrame is highly fragmented.  This is usually the result of calling `frame.insert` many times, which has poor performance.  Consider joining all columns at once using pd.concat(axis=1) instead. To get a de-fragmented frame, use `newframe = frame.copy()`\n",
      "  df[f'{col}_{element}'] = 0\n",
      "C:\\Users\\ladyp\\AppData\\Local\\Temp\\ipykernel_13420\\3163085542.py:20: PerformanceWarning: DataFrame is highly fragmented.  This is usually the result of calling `frame.insert` many times, which has poor performance.  Consider joining all columns at once using pd.concat(axis=1) instead. To get a de-fragmented frame, use `newframe = frame.copy()`\n",
      "  df[f'{col}_{element}'] = 0\n",
      "C:\\Users\\ladyp\\AppData\\Local\\Temp\\ipykernel_13420\\3163085542.py:20: PerformanceWarning: DataFrame is highly fragmented.  This is usually the result of calling `frame.insert` many times, which has poor performance.  Consider joining all columns at once using pd.concat(axis=1) instead. To get a de-fragmented frame, use `newframe = frame.copy()`\n",
      "  df[f'{col}_{element}'] = 0\n",
      "C:\\Users\\ladyp\\AppData\\Local\\Temp\\ipykernel_13420\\3163085542.py:20: PerformanceWarning: DataFrame is highly fragmented.  This is usually the result of calling `frame.insert` many times, which has poor performance.  Consider joining all columns at once using pd.concat(axis=1) instead. To get a de-fragmented frame, use `newframe = frame.copy()`\n",
      "  df[f'{col}_{element}'] = 0\n",
      "C:\\Users\\ladyp\\AppData\\Local\\Temp\\ipykernel_13420\\3163085542.py:20: PerformanceWarning: DataFrame is highly fragmented.  This is usually the result of calling `frame.insert` many times, which has poor performance.  Consider joining all columns at once using pd.concat(axis=1) instead. To get a de-fragmented frame, use `newframe = frame.copy()`\n",
      "  df[f'{col}_{element}'] = 0\n",
      "C:\\Users\\ladyp\\AppData\\Local\\Temp\\ipykernel_13420\\3163085542.py:20: PerformanceWarning: DataFrame is highly fragmented.  This is usually the result of calling `frame.insert` many times, which has poor performance.  Consider joining all columns at once using pd.concat(axis=1) instead. To get a de-fragmented frame, use `newframe = frame.copy()`\n",
      "  df[f'{col}_{element}'] = 0\n",
      "C:\\Users\\ladyp\\AppData\\Local\\Temp\\ipykernel_13420\\3163085542.py:20: PerformanceWarning: DataFrame is highly fragmented.  This is usually the result of calling `frame.insert` many times, which has poor performance.  Consider joining all columns at once using pd.concat(axis=1) instead. To get a de-fragmented frame, use `newframe = frame.copy()`\n",
      "  df[f'{col}_{element}'] = 0\n",
      "C:\\Users\\ladyp\\AppData\\Local\\Temp\\ipykernel_13420\\3163085542.py:20: PerformanceWarning: DataFrame is highly fragmented.  This is usually the result of calling `frame.insert` many times, which has poor performance.  Consider joining all columns at once using pd.concat(axis=1) instead. To get a de-fragmented frame, use `newframe = frame.copy()`\n",
      "  df[f'{col}_{element}'] = 0\n",
      "C:\\Users\\ladyp\\AppData\\Local\\Temp\\ipykernel_13420\\3163085542.py:20: PerformanceWarning: DataFrame is highly fragmented.  This is usually the result of calling `frame.insert` many times, which has poor performance.  Consider joining all columns at once using pd.concat(axis=1) instead. To get a de-fragmented frame, use `newframe = frame.copy()`\n",
      "  df[f'{col}_{element}'] = 0\n",
      "C:\\Users\\ladyp\\AppData\\Local\\Temp\\ipykernel_13420\\3163085542.py:20: PerformanceWarning: DataFrame is highly fragmented.  This is usually the result of calling `frame.insert` many times, which has poor performance.  Consider joining all columns at once using pd.concat(axis=1) instead. To get a de-fragmented frame, use `newframe = frame.copy()`\n",
      "  df[f'{col}_{element}'] = 0\n",
      "C:\\Users\\ladyp\\AppData\\Local\\Temp\\ipykernel_13420\\3163085542.py:20: PerformanceWarning: DataFrame is highly fragmented.  This is usually the result of calling `frame.insert` many times, which has poor performance.  Consider joining all columns at once using pd.concat(axis=1) instead. To get a de-fragmented frame, use `newframe = frame.copy()`\n",
      "  df[f'{col}_{element}'] = 0\n",
      "C:\\Users\\ladyp\\AppData\\Local\\Temp\\ipykernel_13420\\3163085542.py:20: PerformanceWarning: DataFrame is highly fragmented.  This is usually the result of calling `frame.insert` many times, which has poor performance.  Consider joining all columns at once using pd.concat(axis=1) instead. To get a de-fragmented frame, use `newframe = frame.copy()`\n",
      "  df[f'{col}_{element}'] = 0\n",
      "C:\\Users\\ladyp\\AppData\\Local\\Temp\\ipykernel_13420\\3163085542.py:20: PerformanceWarning: DataFrame is highly fragmented.  This is usually the result of calling `frame.insert` many times, which has poor performance.  Consider joining all columns at once using pd.concat(axis=1) instead. To get a de-fragmented frame, use `newframe = frame.copy()`\n",
      "  df[f'{col}_{element}'] = 0\n",
      "C:\\Users\\ladyp\\AppData\\Local\\Temp\\ipykernel_13420\\3163085542.py:20: PerformanceWarning: DataFrame is highly fragmented.  This is usually the result of calling `frame.insert` many times, which has poor performance.  Consider joining all columns at once using pd.concat(axis=1) instead. To get a de-fragmented frame, use `newframe = frame.copy()`\n",
      "  df[f'{col}_{element}'] = 0\n",
      "C:\\Users\\ladyp\\AppData\\Local\\Temp\\ipykernel_13420\\3163085542.py:20: PerformanceWarning: DataFrame is highly fragmented.  This is usually the result of calling `frame.insert` many times, which has poor performance.  Consider joining all columns at once using pd.concat(axis=1) instead. To get a de-fragmented frame, use `newframe = frame.copy()`\n",
      "  df[f'{col}_{element}'] = 0\n"
     ]
    }
   ],
   "source": [
    "encode_array(df, 'top_notes', 100)\n",
    "encode_array(df, 'mid_notes', 100)\n",
    "encode_array(df, 'base_notes', 100)\n"
   ]
  },
  {
   "cell_type": "code",
   "execution_count": 551,
   "metadata": {},
   "outputs": [],
   "source": [
    "df = df.drop(columns=['aroma_group', 'top_notes', 'mid_notes', 'base_notes'])"
   ]
  },
  {
   "cell_type": "markdown",
   "metadata": {},
   "source": [
    "Для признака **brand** Возьмем топ 99 брендов, а остальные вынесем в категорию other"
   ]
  },
  {
   "cell_type": "code",
   "execution_count": 552,
   "metadata": {},
   "outputs": [],
   "source": [
    "top_n = 99\n",
    "top_brands = df['brand'].value_counts().nlargest(top_n).index\n",
    "df['brand'] = df['brand'].apply(lambda x: x if x in top_brands else 'other')\n",
    "df = pd.get_dummies(df, columns=['brand'])\n"
   ]
  },
  {
   "cell_type": "markdown",
   "metadata": {},
   "source": [
    "Для признаков **brand_country** и **produce_country** возьмем топ 14 стран, а остальные вынесем в категорию other"
   ]
  },
  {
   "cell_type": "code",
   "execution_count": 553,
   "metadata": {},
   "outputs": [],
   "source": [
    "top_n = 14\n",
    "\n",
    "top_brand_countrys = df['brand_country'].value_counts().nlargest(top_n).index\n",
    "df['brand_country'] = df['brand_country'].apply(lambda x: x if x in top_brand_countrys else 'other')\n",
    "df = pd.get_dummies(df, columns=['brand_country'])\n",
    "\n",
    "top_produce_countrys = df['produce_country'].value_counts().nlargest(top_n).index\n",
    "df['produce_country'] = df['produce_country'].apply(lambda x: x if x in top_produce_countrys else 'other')\n",
    "df = pd.get_dummies(df, columns=['produce_country'])"
   ]
  },
  {
   "cell_type": "markdown",
   "metadata": {},
   "source": [
    "Добавим дополнительный признак для случая, когда у товара нет отзывов"
   ]
  },
  {
   "cell_type": "code",
   "execution_count": 554,
   "metadata": {},
   "outputs": [],
   "source": [
    "df['has_reviews'] = df['ratings_count'] > 0"
   ]
  },
  {
   "cell_type": "markdown",
   "metadata": {},
   "source": [
    "#### Выбор признаков и разделение на выборки\n",
    "Возьмем для работы все признаки, кроме текстовых ( **title**, **url**, **article**, **description** )"
   ]
  },
  {
   "cell_type": "code",
   "execution_count": 555,
   "metadata": {},
   "outputs": [],
   "source": [
    "df = df.drop(columns=['url', 'article', 'description', 'title'])"
   ]
  },
  {
   "cell_type": "markdown",
   "metadata": {},
   "source": [
    "Разделим на обучающую , тестовую выборки и переведем целевой признак в *LabelEncoding*"
   ]
  },
  {
   "cell_type": "code",
   "execution_count": 556,
   "metadata": {},
   "outputs": [],
   "source": [
    "from sklearn.model_selection import train_test_split\n",
    "from sklearn.preprocessing import LabelEncoder\n",
    "\n",
    "label_encoder = LabelEncoder()\n",
    "\n",
    "X = df.drop(columns=['parfume_type'])\n",
    "y = label_encoder.fit_transform(df['parfume_type'])\n",
    "\n",
    "X_train, X_test, y_train, y_test = train_test_split(X, y, test_size=0.2, random_state=7)"
   ]
  },
  {
   "cell_type": "markdown",
   "metadata": {},
   "source": [
    "#### Нормализуем числовые значения в выборках"
   ]
  },
  {
   "cell_type": "markdown",
   "metadata": {},
   "source": [
    "Применим Min-Max нормализацию для числовых признаков"
   ]
  },
  {
   "cell_type": "code",
   "execution_count": 557,
   "metadata": {},
   "outputs": [],
   "source": [
    "def minmax(x, min, max):\n",
    "    return (float(x) - min) / (max - min)"
   ]
  },
  {
   "cell_type": "code",
   "execution_count": 558,
   "metadata": {},
   "outputs": [],
   "source": [
    "for category in ['full_price_rub', 'sale_price_rub', 'volume_ml', 'rating', 'ratings_count']:\n",
    "    col_train = X_train[category]\n",
    "    col_test = X_test[category]\n",
    "    X_train[category] = X_train[category].apply(lambda x: minmax(x, col_train.min(), col_train.max()))\n",
    "    X_test[category] = X_test[category].apply(lambda x: minmax(x, col_test.min(), col_test.max()))"
   ]
  },
  {
   "cell_type": "markdown",
   "metadata": {},
   "source": [
    "Итоговое число признаков"
   ]
  },
  {
   "cell_type": "code",
   "execution_count": 559,
   "metadata": {},
   "outputs": [
    {
     "name": "stdout",
     "output_type": "stream",
     "text": [
      "458\n"
     ]
    }
   ],
   "source": [
    "print(X_train.shape[1])"
   ]
  },
  {
   "cell_type": "markdown",
   "metadata": {},
   "source": [
    "### Выбор функции ошибки"
   ]
  },
  {
   "cell_type": "markdown",
   "metadata": {},
   "source": [
    "Так как решаем задачу классификации, то выираем между *accuracy* и *F1-score*. В случае определения типа парфюма, как кажется не имеет значения, какую функцию использовать. Выберем *accuracy*"
   ]
  },
  {
   "cell_type": "markdown",
   "metadata": {},
   "source": [
    "## Гиперпараметры"
   ]
  },
  {
   "cell_type": "markdown",
   "metadata": {},
   "source": [
    "Для подбора оптимальных гиперпараметром будем использовать библиотеку `optuna`"
   ]
  },
  {
   "cell_type": "code",
   "execution_count": null,
   "metadata": {},
   "outputs": [],
   "source": [
    "import optuna\n",
    "from sklearn.metrics import accuracy_score\n"
   ]
  },
  {
   "cell_type": "markdown",
   "metadata": {},
   "source": [
    "### Для функции соседей"
   ]
  },
  {
   "cell_type": "code",
   "execution_count": 566,
   "metadata": {},
   "outputs": [],
   "source": [
    "def objective_neighbor(trial):\n",
    "    k = trial.suggest_int(\"k\", 1, 20)\n",
    "\n",
    "    metric = trial.suggest_categorical('metric', ['cosine', 'minkowski'])\n",
    "    p = trial.suggest_int(\"p\", 1, 5)\n",
    "\n",
    "    kernel = trial.suggest_categorical('kernel', ['gaussian', 'generalized'])\n",
    "    a = trial.suggest_int('a', 1, 4)\n",
    "    b = trial.suggest_int('b', 0, 4)\n",
    "    \n",
    "    knn = NearestNeighborsClassifier(k=k, metric=metric, kernel=kernel, p=p, a=a, b=b)\n",
    "    knn.fit(X_train.values, y_train)\n",
    "    \n",
    "    y_pred = knn.predict(X_test.values)\n",
    "\n",
    "    accuracy = accuracy_score(y_test, y_pred)\n",
    "\n",
    "    return accuracy"
   ]
  },
  {
   "cell_type": "code",
   "execution_count": 567,
   "metadata": {},
   "outputs": [
    {
     "name": "stderr",
     "output_type": "stream",
     "text": [
      "[I 2024-11-01 20:05:47,908] A new study created in memory with name: no-name-e966ab41-f581-473a-80fa-8c96fd9e83d2\n"
     ]
    },
    {
     "data": {
      "application/vnd.jupyter.widget-view+json": {
       "model_id": "1608b1113a8b4ccebe330caebfedb3f4",
       "version_major": 2,
       "version_minor": 0
      },
      "text/plain": [
       "  0%|          | 0/100 [00:00<?, ?it/s]"
      ]
     },
     "metadata": {},
     "output_type": "display_data"
    },
    {
     "name": "stdout",
     "output_type": "stream",
     "text": [
      "[I 2024-11-01 20:05:53,006] Trial 0 finished with value: 0.611659192825112 and parameters: {'k': 1, 'metric': 'minkowski', 'p': 1, 'kernel': 'generalized', 'a': 4, 'b': 2}. Best is trial 0 with value: 0.611659192825112.\n",
      "[I 2024-11-01 20:05:58,523] Trial 1 finished with value: 0.6807174887892377 and parameters: {'k': 2, 'metric': 'cosine', 'p': 1, 'kernel': 'gaussian', 'a': 3, 'b': 4}. Best is trial 1 with value: 0.6807174887892377.\n",
      "[I 2024-11-01 20:06:04,020] Trial 2 finished with value: 0.6502242152466368 and parameters: {'k': 9, 'metric': 'cosine', 'p': 2, 'kernel': 'gaussian', 'a': 3, 'b': 3}. Best is trial 1 with value: 0.6807174887892377.\n",
      "[I 2024-11-01 20:06:09,480] Trial 3 finished with value: 0.715695067264574 and parameters: {'k': 12, 'metric': 'minkowski', 'p': 1, 'kernel': 'generalized', 'a': 2, 'b': 0}. Best is trial 3 with value: 0.715695067264574.\n",
      "[I 2024-11-01 20:06:18,220] Trial 4 finished with value: 0.6860986547085202 and parameters: {'k': 20, 'metric': 'minkowski', 'p': 5, 'kernel': 'generalized', 'a': 1, 'b': 0}. Best is trial 3 with value: 0.715695067264574.\n",
      "[I 2024-11-01 20:06:26,956] Trial 5 finished with value: 0.6887892376681615 and parameters: {'k': 11, 'metric': 'minkowski', 'p': 3, 'kernel': 'generalized', 'a': 1, 'b': 1}. Best is trial 3 with value: 0.715695067264574.\n",
      "[I 2024-11-01 20:06:32,506] Trial 6 finished with value: 0.6044843049327354 and parameters: {'k': 15, 'metric': 'minkowski', 'p': 2, 'kernel': 'gaussian', 'a': 4, 'b': 1}. Best is trial 3 with value: 0.715695067264574.\n",
      "[I 2024-11-01 20:06:41,508] Trial 7 finished with value: 0.6044843049327354 and parameters: {'k': 14, 'metric': 'minkowski', 'p': 5, 'kernel': 'gaussian', 'a': 4, 'b': 1}. Best is trial 3 with value: 0.715695067264574.\n",
      "[I 2024-11-01 20:06:49,914] Trial 8 finished with value: 0.662780269058296 and parameters: {'k': 2, 'metric': 'minkowski', 'p': 3, 'kernel': 'generalized', 'a': 3, 'b': 3}. Best is trial 3 with value: 0.715695067264574.\n",
      "[I 2024-11-01 20:06:54,852] Trial 9 finished with value: 0.672645739910314 and parameters: {'k': 4, 'metric': 'cosine', 'p': 2, 'kernel': 'generalized', 'a': 2, 'b': 3}. Best is trial 3 with value: 0.715695067264574.\n",
      "[I 2024-11-01 20:07:00,093] Trial 10 finished with value: 0.7094170403587444 and parameters: {'k': 9, 'metric': 'cosine', 'p': 4, 'kernel': 'generalized', 'a': 2, 'b': 0}. Best is trial 3 with value: 0.715695067264574.\n",
      "[I 2024-11-01 20:07:05,889] Trial 11 finished with value: 0.7067264573991031 and parameters: {'k': 8, 'metric': 'cosine', 'p': 4, 'kernel': 'generalized', 'a': 2, 'b': 0}. Best is trial 3 with value: 0.715695067264574.\n",
      "[I 2024-11-01 20:07:11,220] Trial 12 finished with value: 0.7004484304932735 and parameters: {'k': 13, 'metric': 'cosine', 'p': 4, 'kernel': 'generalized', 'a': 2, 'b': 0}. Best is trial 3 with value: 0.715695067264574.\n",
      "[I 2024-11-01 20:07:16,619] Trial 13 finished with value: 0.6789237668161435 and parameters: {'k': 6, 'metric': 'cosine', 'p': 4, 'kernel': 'generalized', 'a': 2, 'b': 0}. Best is trial 3 with value: 0.715695067264574.\n",
      "[I 2024-11-01 20:07:25,758] Trial 14 finished with value: 0.683408071748879 and parameters: {'k': 16, 'metric': 'minkowski', 'p': 3, 'kernel': 'generalized', 'a': 1, 'b': 1}. Best is trial 3 with value: 0.715695067264574.\n",
      "[I 2024-11-01 20:07:30,666] Trial 15 finished with value: 0.6860986547085202 and parameters: {'k': 11, 'metric': 'cosine', 'p': 1, 'kernel': 'generalized', 'a': 2, 'b': 2}. Best is trial 3 with value: 0.715695067264574.\n",
      "[I 2024-11-01 20:07:39,009] Trial 16 finished with value: 0.6923766816143497 and parameters: {'k': 18, 'metric': 'minkowski', 'p': 4, 'kernel': 'generalized', 'a': 3, 'b': 0}. Best is trial 3 with value: 0.715695067264574.\n",
      "[I 2024-11-01 20:07:43,942] Trial 17 finished with value: 0.6807174887892377 and parameters: {'k': 7, 'metric': 'cosine', 'p': 2, 'kernel': 'generalized', 'a': 1, 'b': 2}. Best is trial 3 with value: 0.715695067264574.\n",
      "[I 2024-11-01 20:07:52,914] Trial 18 finished with value: 0.6044843049327354 and parameters: {'k': 10, 'metric': 'minkowski', 'p': 5, 'kernel': 'gaussian', 'a': 2, 'b': 1}. Best is trial 3 with value: 0.715695067264574.\n",
      "[I 2024-11-01 20:07:57,867] Trial 19 finished with value: 0.7103139013452915 and parameters: {'k': 12, 'metric': 'cosine', 'p': 4, 'kernel': 'generalized', 'a': 3, 'b': 0}. Best is trial 3 with value: 0.715695067264574.\n",
      "[I 2024-11-01 20:08:02,841] Trial 20 finished with value: 0.6923766816143497 and parameters: {'k': 12, 'metric': 'cosine', 'p': 3, 'kernel': 'generalized', 'a': 3, 'b': 2}. Best is trial 3 with value: 0.715695067264574.\n",
      "[I 2024-11-01 20:08:18,851] Trial 21 finished with value: 0.694170403587444 and parameters: {'k': 16, 'metric': 'cosine', 'p': 4, 'kernel': 'generalized', 'a': 2, 'b': 0}. Best is trial 3 with value: 0.715695067264574.\n",
      "[I 2024-11-01 20:08:23,758] Trial 22 finished with value: 0.6762331838565022 and parameters: {'k': 5, 'metric': 'cosine', 'p': 4, 'kernel': 'generalized', 'a': 3, 'b': 0}. Best is trial 3 with value: 0.715695067264574.\n",
      "[I 2024-11-01 20:08:28,697] Trial 23 finished with value: 0.6923766816143497 and parameters: {'k': 9, 'metric': 'cosine', 'p': 5, 'kernel': 'generalized', 'a': 2, 'b': 1}. Best is trial 3 with value: 0.715695067264574.\n",
      "[I 2024-11-01 20:08:33,689] Trial 24 finished with value: 0.7004484304932735 and parameters: {'k': 13, 'metric': 'cosine', 'p': 3, 'kernel': 'generalized', 'a': 3, 'b': 0}. Best is trial 3 with value: 0.715695067264574.\n",
      "[I 2024-11-01 20:08:38,594] Trial 25 finished with value: 0.6968609865470852 and parameters: {'k': 12, 'metric': 'cosine', 'p': 4, 'kernel': 'generalized', 'a': 2, 'b': 1}. Best is trial 3 with value: 0.715695067264574.\n",
      "[I 2024-11-01 20:08:47,537] Trial 26 finished with value: 0.6062780269058295 and parameters: {'k': 9, 'metric': 'minkowski', 'p': 5, 'kernel': 'gaussian', 'a': 1, 'b': 0}. Best is trial 3 with value: 0.715695067264574.\n",
      "[I 2024-11-01 20:08:52,486] Trial 27 finished with value: 0.6896860986547085 and parameters: {'k': 7, 'metric': 'cosine', 'p': 4, 'kernel': 'generalized', 'a': 3, 'b': 4}. Best is trial 3 with value: 0.715695067264574.\n",
      "[I 2024-11-01 20:08:57,536] Trial 28 finished with value: 0.6896860986547085 and parameters: {'k': 17, 'metric': 'minkowski', 'p': 2, 'kernel': 'generalized', 'a': 4, 'b': 1}. Best is trial 3 with value: 0.715695067264574.\n",
      "[I 2024-11-01 20:09:02,916] Trial 29 finished with value: 0.7031390134529149 and parameters: {'k': 10, 'metric': 'minkowski', 'p': 1, 'kernel': 'generalized', 'a': 4, 'b': 2}. Best is trial 3 with value: 0.715695067264574.\n",
      "[I 2024-11-01 20:09:07,838] Trial 30 finished with value: 0.6995515695067265 and parameters: {'k': 14, 'metric': 'cosine', 'p': 3, 'kernel': 'generalized', 'a': 2, 'b': 0}. Best is trial 3 with value: 0.715695067264574.\n",
      "[I 2024-11-01 20:09:12,744] Trial 31 finished with value: 0.7067264573991031 and parameters: {'k': 8, 'metric': 'cosine', 'p': 4, 'kernel': 'generalized', 'a': 2, 'b': 0}. Best is trial 3 with value: 0.715695067264574.\n",
      "[I 2024-11-01 20:09:18,913] Trial 32 finished with value: 0.7067264573991031 and parameters: {'k': 8, 'metric': 'cosine', 'p': 4, 'kernel': 'generalized', 'a': 2, 'b': 0}. Best is trial 3 with value: 0.715695067264574.\n",
      "[I 2024-11-01 20:09:25,880] Trial 33 finished with value: 0.7103139013452915 and parameters: {'k': 12, 'metric': 'cosine', 'p': 1, 'kernel': 'generalized', 'a': 3, 'b': 0}. Best is trial 3 with value: 0.715695067264574.\n",
      "[I 2024-11-01 20:09:33,004] Trial 34 finished with value: 0.6403587443946188 and parameters: {'k': 12, 'metric': 'cosine', 'p': 1, 'kernel': 'gaussian', 'a': 3, 'b': 0}. Best is trial 3 with value: 0.715695067264574.\n",
      "[I 2024-11-01 20:09:38,172] Trial 35 finished with value: 0.695067264573991 and parameters: {'k': 11, 'metric': 'cosine', 'p': 1, 'kernel': 'generalized', 'a': 3, 'b': 1}. Best is trial 3 with value: 0.715695067264574.\n",
      "[I 2024-11-01 20:09:43,264] Trial 36 finished with value: 0.6995515695067265 and parameters: {'k': 14, 'metric': 'cosine', 'p': 1, 'kernel': 'generalized', 'a': 3, 'b': 0}. Best is trial 3 with value: 0.715695067264574.\n",
      "[I 2024-11-01 20:09:48,932] Trial 37 finished with value: 0.6080717488789238 and parameters: {'k': 13, 'metric': 'minkowski', 'p': 2, 'kernel': 'gaussian', 'a': 3, 'b': 1}. Best is trial 3 with value: 0.715695067264574.\n",
      "[I 2024-11-01 20:09:54,273] Trial 38 finished with value: 0.6923766816143497 and parameters: {'k': 20, 'metric': 'cosine', 'p': 1, 'kernel': 'generalized', 'a': 4, 'b': 3}. Best is trial 3 with value: 0.715695067264574.\n",
      "[I 2024-11-01 20:10:00,059] Trial 39 finished with value: 0.6071748878923767 and parameters: {'k': 10, 'metric': 'minkowski', 'p': 2, 'kernel': 'gaussian', 'a': 3, 'b': 0}. Best is trial 3 with value: 0.715695067264574.\n",
      "[I 2024-11-01 20:10:05,066] Trial 40 finished with value: 0.6914798206278027 and parameters: {'k': 12, 'metric': 'cosine', 'p': 1, 'kernel': 'generalized', 'a': 1, 'b': 1}. Best is trial 3 with value: 0.715695067264574.\n",
      "[I 2024-11-01 20:10:10,112] Trial 41 finished with value: 0.7067264573991031 and parameters: {'k': 8, 'metric': 'cosine', 'p': 5, 'kernel': 'generalized', 'a': 2, 'b': 0}. Best is trial 3 with value: 0.715695067264574.\n",
      "[I 2024-11-01 20:10:15,264] Trial 42 finished with value: 0.7094170403587444 and parameters: {'k': 9, 'metric': 'cosine', 'p': 3, 'kernel': 'generalized', 'a': 2, 'b': 0}. Best is trial 3 with value: 0.715695067264574.\n",
      "[I 2024-11-01 20:10:20,465] Trial 43 finished with value: 0.7094170403587444 and parameters: {'k': 9, 'metric': 'cosine', 'p': 3, 'kernel': 'generalized', 'a': 2, 'b': 0}. Best is trial 3 with value: 0.715695067264574.\n",
      "[I 2024-11-01 20:10:25,681] Trial 44 finished with value: 0.7040358744394619 and parameters: {'k': 15, 'metric': 'cosine', 'p': 3, 'kernel': 'generalized', 'a': 3, 'b': 0}. Best is trial 3 with value: 0.715695067264574.\n",
      "[I 2024-11-01 20:10:30,919] Trial 45 finished with value: 0.715695067264574 and parameters: {'k': 11, 'metric': 'cosine', 'p': 2, 'kernel': 'generalized', 'a': 2, 'b': 0}. Best is trial 3 with value: 0.715695067264574.\n",
      "[I 2024-11-01 20:10:36,238] Trial 46 finished with value: 0.695067264573991 and parameters: {'k': 11, 'metric': 'minkowski', 'p': 2, 'kernel': 'generalized', 'a': 2, 'b': 1}. Best is trial 3 with value: 0.715695067264574.\n",
      "[I 2024-11-01 20:10:41,658] Trial 47 finished with value: 0.6995515695067265 and parameters: {'k': 14, 'metric': 'cosine', 'p': 1, 'kernel': 'generalized', 'a': 1, 'b': 0}. Best is trial 3 with value: 0.715695067264574.\n",
      "[I 2024-11-01 20:10:47,248] Trial 48 finished with value: 0.7112107623318386 and parameters: {'k': 13, 'metric': 'minkowski', 'p': 2, 'kernel': 'generalized', 'a': 3, 'b': 0}. Best is trial 3 with value: 0.715695067264574.\n",
      "[I 2024-11-01 20:10:52,367] Trial 49 finished with value: 0.6896860986547085 and parameters: {'k': 13, 'metric': 'minkowski', 'p': 2, 'kernel': 'generalized', 'a': 3, 'b': 1}. Best is trial 3 with value: 0.715695067264574.\n",
      "[I 2024-11-01 20:10:57,814] Trial 50 finished with value: 0.6044843049327354 and parameters: {'k': 15, 'metric': 'minkowski', 'p': 2, 'kernel': 'gaussian', 'a': 4, 'b': 4}. Best is trial 3 with value: 0.715695067264574.\n",
      "[I 2024-11-01 20:11:03,144] Trial 51 finished with value: 0.715695067264574 and parameters: {'k': 12, 'metric': 'minkowski', 'p': 1, 'kernel': 'generalized', 'a': 3, 'b': 0}. Best is trial 3 with value: 0.715695067264574.\n",
      "[I 2024-11-01 20:11:08,692] Trial 52 finished with value: 0.7201793721973094 and parameters: {'k': 11, 'metric': 'minkowski', 'p': 1, 'kernel': 'generalized', 'a': 3, 'b': 0}. Best is trial 52 with value: 0.7201793721973094.\n",
      "[I 2024-11-01 20:11:14,468] Trial 53 finished with value: 0.7201793721973094 and parameters: {'k': 11, 'metric': 'minkowski', 'p': 1, 'kernel': 'generalized', 'a': 3, 'b': 0}. Best is trial 52 with value: 0.7201793721973094.\n",
      "[I 2024-11-01 20:11:23,997] Trial 54 finished with value: 0.7201793721973094 and parameters: {'k': 11, 'metric': 'minkowski', 'p': 1, 'kernel': 'generalized', 'a': 3, 'b': 0}. Best is trial 52 with value: 0.7201793721973094.\n",
      "[I 2024-11-01 20:11:33,455] Trial 55 finished with value: 0.7076233183856502 and parameters: {'k': 11, 'metric': 'minkowski', 'p': 1, 'kernel': 'generalized', 'a': 3, 'b': 3}. Best is trial 52 with value: 0.7201793721973094.\n",
      "[I 2024-11-01 20:11:40,198] Trial 56 finished with value: 0.7201793721973094 and parameters: {'k': 10, 'metric': 'minkowski', 'p': 1, 'kernel': 'generalized', 'a': 3, 'b': 0}. Best is trial 52 with value: 0.7201793721973094.\n",
      "[I 2024-11-01 20:11:46,278] Trial 57 finished with value: 0.7201793721973094 and parameters: {'k': 10, 'metric': 'minkowski', 'p': 1, 'kernel': 'generalized', 'a': 3, 'b': 0}. Best is trial 52 with value: 0.7201793721973094.\n",
      "[I 2024-11-01 20:11:51,900] Trial 58 finished with value: 0.7201793721973094 and parameters: {'k': 10, 'metric': 'minkowski', 'p': 1, 'kernel': 'generalized', 'a': 3, 'b': 0}. Best is trial 52 with value: 0.7201793721973094.\n",
      "[I 2024-11-01 20:11:57,291] Trial 59 finished with value: 0.7201793721973094 and parameters: {'k': 10, 'metric': 'minkowski', 'p': 1, 'kernel': 'generalized', 'a': 3, 'b': 0}. Best is trial 52 with value: 0.7201793721973094.\n",
      "[I 2024-11-01 20:12:03,105] Trial 60 finished with value: 0.7067264573991031 and parameters: {'k': 10, 'metric': 'minkowski', 'p': 1, 'kernel': 'generalized', 'a': 3, 'b': 1}. Best is trial 52 with value: 0.7201793721973094.\n",
      "[I 2024-11-01 20:12:08,569] Trial 61 finished with value: 0.7201793721973094 and parameters: {'k': 10, 'metric': 'minkowski', 'p': 1, 'kernel': 'generalized', 'a': 3, 'b': 0}. Best is trial 52 with value: 0.7201793721973094.\n",
      "[I 2024-11-01 20:12:13,935] Trial 62 finished with value: 0.7067264573991031 and parameters: {'k': 7, 'metric': 'minkowski', 'p': 1, 'kernel': 'generalized', 'a': 3, 'b': 0}. Best is trial 52 with value: 0.7201793721973094.\n",
      "[I 2024-11-01 20:12:19,317] Trial 63 finished with value: 0.7201793721973094 and parameters: {'k': 10, 'metric': 'minkowski', 'p': 1, 'kernel': 'generalized', 'a': 3, 'b': 0}. Best is trial 52 with value: 0.7201793721973094.\n",
      "[I 2024-11-01 20:12:24,484] Trial 64 finished with value: 0.611659192825112 and parameters: {'k': 1, 'metric': 'minkowski', 'p': 1, 'kernel': 'generalized', 'a': 3, 'b': 0}. Best is trial 52 with value: 0.7201793721973094.\n",
      "[I 2024-11-01 20:12:29,786] Trial 65 finished with value: 0.7255605381165919 and parameters: {'k': 9, 'metric': 'minkowski', 'p': 1, 'kernel': 'generalized', 'a': 3, 'b': 0}. Best is trial 65 with value: 0.7255605381165919.\n",
      "[I 2024-11-01 20:12:35,197] Trial 66 finished with value: 0.7255605381165919 and parameters: {'k': 9, 'metric': 'minkowski', 'p': 1, 'kernel': 'generalized', 'a': 3, 'b': 0}. Best is trial 65 with value: 0.7255605381165919.\n",
      "[I 2024-11-01 20:12:40,531] Trial 67 finished with value: 0.7004484304932735 and parameters: {'k': 6, 'metric': 'minkowski', 'p': 1, 'kernel': 'generalized', 'a': 4, 'b': 0}. Best is trial 65 with value: 0.7255605381165919.\n",
      "[I 2024-11-01 20:12:45,814] Trial 68 finished with value: 0.7103139013452915 and parameters: {'k': 8, 'metric': 'minkowski', 'p': 1, 'kernel': 'generalized', 'a': 3, 'b': 0}. Best is trial 65 with value: 0.7255605381165919.\n",
      "[I 2024-11-01 20:12:51,598] Trial 69 finished with value: 0.6538116591928251 and parameters: {'k': 9, 'metric': 'minkowski', 'p': 1, 'kernel': 'gaussian', 'a': 3, 'b': 1}. Best is trial 65 with value: 0.7255605381165919.\n",
      "[I 2024-11-01 20:12:56,849] Trial 70 finished with value: 0.6807174887892377 and parameters: {'k': 4, 'metric': 'minkowski', 'p': 1, 'kernel': 'generalized', 'a': 3, 'b': 0}. Best is trial 65 with value: 0.7255605381165919.\n",
      "[I 2024-11-01 20:13:02,179] Trial 71 finished with value: 0.7255605381165919 and parameters: {'k': 9, 'metric': 'minkowski', 'p': 1, 'kernel': 'generalized', 'a': 3, 'b': 0}. Best is trial 65 with value: 0.7255605381165919.\n",
      "[I 2024-11-01 20:13:07,519] Trial 72 finished with value: 0.7255605381165919 and parameters: {'k': 9, 'metric': 'minkowski', 'p': 1, 'kernel': 'generalized', 'a': 3, 'b': 0}. Best is trial 65 with value: 0.7255605381165919.\n",
      "[I 2024-11-01 20:13:12,838] Trial 73 finished with value: 0.7067264573991031 and parameters: {'k': 7, 'metric': 'minkowski', 'p': 1, 'kernel': 'generalized', 'a': 3, 'b': 0}. Best is trial 65 with value: 0.7255605381165919.\n",
      "[I 2024-11-01 20:13:18,164] Trial 74 finished with value: 0.7255605381165919 and parameters: {'k': 9, 'metric': 'minkowski', 'p': 1, 'kernel': 'generalized', 'a': 3, 'b': 0}. Best is trial 65 with value: 0.7255605381165919.\n",
      "[I 2024-11-01 20:13:23,453] Trial 75 finished with value: 0.7255605381165919 and parameters: {'k': 9, 'metric': 'minkowski', 'p': 1, 'kernel': 'generalized', 'a': 4, 'b': 0}. Best is trial 65 with value: 0.7255605381165919.\n",
      "[I 2024-11-01 20:13:28,784] Trial 76 finished with value: 0.7004484304932735 and parameters: {'k': 6, 'metric': 'minkowski', 'p': 1, 'kernel': 'generalized', 'a': 4, 'b': 0}. Best is trial 65 with value: 0.7255605381165919.\n",
      "[I 2024-11-01 20:13:34,151] Trial 77 finished with value: 0.7103139013452915 and parameters: {'k': 8, 'metric': 'minkowski', 'p': 1, 'kernel': 'generalized', 'a': 4, 'b': 0}. Best is trial 65 with value: 0.7255605381165919.\n",
      "[I 2024-11-01 20:13:39,459] Trial 78 finished with value: 0.7085201793721974 and parameters: {'k': 9, 'metric': 'minkowski', 'p': 1, 'kernel': 'generalized', 'a': 4, 'b': 1}. Best is trial 65 with value: 0.7255605381165919.\n",
      "[I 2024-11-01 20:13:44,852] Trial 79 finished with value: 0.7103139013452915 and parameters: {'k': 8, 'metric': 'minkowski', 'p': 1, 'kernel': 'generalized', 'a': 4, 'b': 0}. Best is trial 65 with value: 0.7255605381165919.\n",
      "[I 2024-11-01 20:13:50,268] Trial 80 finished with value: 0.6098654708520179 and parameters: {'k': 7, 'metric': 'minkowski', 'p': 2, 'kernel': 'gaussian', 'a': 3, 'b': 0}. Best is trial 65 with value: 0.7255605381165919.\n",
      "[I 2024-11-01 20:13:55,592] Trial 81 finished with value: 0.7201793721973094 and parameters: {'k': 11, 'metric': 'minkowski', 'p': 1, 'kernel': 'generalized', 'a': 3, 'b': 0}. Best is trial 65 with value: 0.7255605381165919.\n",
      "[I 2024-11-01 20:14:00,921] Trial 82 finished with value: 0.7255605381165919 and parameters: {'k': 9, 'metric': 'minkowski', 'p': 1, 'kernel': 'generalized', 'a': 3, 'b': 0}. Best is trial 65 with value: 0.7255605381165919.\n",
      "[I 2024-11-01 20:14:06,276] Trial 83 finished with value: 0.7255605381165919 and parameters: {'k': 9, 'metric': 'minkowski', 'p': 1, 'kernel': 'generalized', 'a': 3, 'b': 0}. Best is trial 65 with value: 0.7255605381165919.\n",
      "[I 2024-11-01 20:14:11,578] Trial 84 finished with value: 0.7255605381165919 and parameters: {'k': 9, 'metric': 'minkowski', 'p': 1, 'kernel': 'generalized', 'a': 3, 'b': 0}. Best is trial 65 with value: 0.7255605381165919.\n",
      "[I 2024-11-01 20:14:16,929] Trial 85 finished with value: 0.7255605381165919 and parameters: {'k': 9, 'metric': 'minkowski', 'p': 1, 'kernel': 'generalized', 'a': 3, 'b': 0}. Best is trial 65 with value: 0.7255605381165919.\n",
      "[I 2024-11-01 20:14:22,275] Trial 86 finished with value: 0.7076233183856502 and parameters: {'k': 9, 'metric': 'minkowski', 'p': 1, 'kernel': 'generalized', 'a': 3, 'b': 3}. Best is trial 65 with value: 0.7255605381165919.\n",
      "[I 2024-11-01 20:14:27,603] Trial 87 finished with value: 0.7103139013452915 and parameters: {'k': 8, 'metric': 'minkowski', 'p': 1, 'kernel': 'generalized', 'a': 3, 'b': 0}. Best is trial 65 with value: 0.7255605381165919.\n",
      "[I 2024-11-01 20:14:32,600] Trial 88 finished with value: 0.7228699551569506 and parameters: {'k': 9, 'metric': 'minkowski', 'p': 2, 'kernel': 'generalized', 'a': 3, 'b': 0}. Best is trial 65 with value: 0.7255605381165919.\n",
      "[I 2024-11-01 20:14:38,000] Trial 89 finished with value: 0.7067264573991031 and parameters: {'k': 7, 'metric': 'minkowski', 'p': 1, 'kernel': 'generalized', 'a': 3, 'b': 1}. Best is trial 65 with value: 0.7255605381165919.\n",
      "[I 2024-11-01 20:14:43,285] Trial 90 finished with value: 0.7103139013452915 and parameters: {'k': 8, 'metric': 'minkowski', 'p': 1, 'kernel': 'generalized', 'a': 4, 'b': 0}. Best is trial 65 with value: 0.7255605381165919.\n",
      "[I 2024-11-01 20:14:48,652] Trial 91 finished with value: 0.7255605381165919 and parameters: {'k': 9, 'metric': 'minkowski', 'p': 1, 'kernel': 'generalized', 'a': 3, 'b': 0}. Best is trial 65 with value: 0.7255605381165919.\n",
      "[I 2024-11-01 20:14:53,972] Trial 92 finished with value: 0.7255605381165919 and parameters: {'k': 9, 'metric': 'minkowski', 'p': 1, 'kernel': 'generalized', 'a': 3, 'b': 0}. Best is trial 65 with value: 0.7255605381165919.\n",
      "[I 2024-11-01 20:14:59,305] Trial 93 finished with value: 0.7103139013452915 and parameters: {'k': 8, 'metric': 'minkowski', 'p': 1, 'kernel': 'generalized', 'a': 3, 'b': 0}. Best is trial 65 with value: 0.7255605381165919.\n",
      "[I 2024-11-01 20:15:04,560] Trial 94 finished with value: 0.7255605381165919 and parameters: {'k': 9, 'metric': 'minkowski', 'p': 1, 'kernel': 'generalized', 'a': 3, 'b': 0}. Best is trial 65 with value: 0.7255605381165919.\n",
      "[I 2024-11-01 20:15:09,876] Trial 95 finished with value: 0.7255605381165919 and parameters: {'k': 9, 'metric': 'minkowski', 'p': 1, 'kernel': 'generalized', 'a': 3, 'b': 0}. Best is trial 65 with value: 0.7255605381165919.\n",
      "[I 2024-11-01 20:15:15,144] Trial 96 finished with value: 0.7067264573991031 and parameters: {'k': 7, 'metric': 'minkowski', 'p': 1, 'kernel': 'generalized', 'a': 3, 'b': 0}. Best is trial 65 with value: 0.7255605381165919.\n",
      "[I 2024-11-01 20:15:20,439] Trial 97 finished with value: 0.7201793721973094 and parameters: {'k': 10, 'metric': 'minkowski', 'p': 1, 'kernel': 'generalized', 'a': 3, 'b': 0}. Best is trial 65 with value: 0.7255605381165919.\n",
      "[I 2024-11-01 20:15:26,208] Trial 98 finished with value: 0.6556053811659193 and parameters: {'k': 8, 'metric': 'minkowski', 'p': 1, 'kernel': 'gaussian', 'a': 3, 'b': 2}. Best is trial 65 with value: 0.7255605381165919.\n",
      "[I 2024-11-01 20:15:31,467] Trial 99 finished with value: 0.7255605381165919 and parameters: {'k': 9, 'metric': 'minkowski', 'p': 1, 'kernel': 'generalized', 'a': 3, 'b': 0}. Best is trial 65 with value: 0.7255605381165919.\n"
     ]
    }
   ],
   "source": [
    "study_n = optuna.create_study(direction=\"maximize\")\n",
    "study_n.optimize(objective_neighbor, n_trials=100, show_progress_bar=True)"
   ]
  },
  {
   "cell_type": "code",
   "execution_count": 568,
   "metadata": {},
   "outputs": [
    {
     "name": "stdout",
     "output_type": "stream",
     "text": [
      "{'k': 9, 'metric': 'minkowski', 'p': 1, 'kernel': 'generalized', 'a': 3, 'b': 0}\n",
      "0.7255605381165919\n"
     ]
    }
   ],
   "source": [
    "print(study_n.best_params)\n",
    "print(study_n.best_value)"
   ]
  },
  {
   "cell_type": "markdown",
   "metadata": {},
   "source": [
    "\n",
    "##### Лучшие параметры:\n",
    "- k = 9\n",
    "- p = 1\n",
    "- metric: 'minkowski' \n",
    "- kernel: 'generalized'\n",
    "- a: 3\n",
    "- b: 0\n",
    "\n",
    "Учитывая значения параметров p, b, k, можно конкретизировать ядро и метрику:\n",
    "- metric: 'manhattan'\n",
    "- kernel: 'uniform'\n",
    "\n",
    "Значение: 0.7255605381165919"
   ]
  },
  {
   "cell_type": "markdown",
   "metadata": {},
   "source": [
    "### Для фиксированного окна"
   ]
  },
  {
   "cell_type": "code",
   "execution_count": 571,
   "metadata": {},
   "outputs": [],
   "source": [
    "def objective_window(trial):\n",
    "    window = trial.suggest_float('window', 0.1, 15)\n",
    "    \n",
    "    metric = trial.suggest_categorical('metric', ['cosine', 'minkowski'])\n",
    "    p = trial.suggest_int('p', 1, 5)\n",
    "\n",
    "    kernel = trial.suggest_categorical('kernel', ['gaussian', 'generalized'])\n",
    "    a = trial.suggest_int('a', 1, 4)\n",
    "    b = trial.suggest_int('b', 0, 4)\n",
    "\n",
    "    knn = NearestNeighborsClassifier(window=window, metric=metric, kernel=kernel, p=p, a=a, b=b)\n",
    "    knn.fit(X_train.values, y_train)\n",
    "    \n",
    "    y_pred = knn.predict(X_test.values)\n",
    "\n",
    "    accuracy = accuracy_score(y_test, y_pred)\n",
    "\n",
    "    return accuracy"
   ]
  },
  {
   "cell_type": "code",
   "execution_count": 572,
   "metadata": {},
   "outputs": [
    {
     "name": "stderr",
     "output_type": "stream",
     "text": [
      "[I 2024-11-01 20:20:37,967] A new study created in memory with name: no-name-4efe1def-1b15-42d1-9a54-f218a9f27cc8\n"
     ]
    },
    {
     "data": {
      "application/vnd.jupyter.widget-view+json": {
       "model_id": "f51bf12bf4814fd1992f5fc5cdc5cacd",
       "version_major": 2,
       "version_minor": 0
      },
      "text/plain": [
       "  0%|          | 0/100 [00:00<?, ?it/s]"
      ]
     },
     "metadata": {},
     "output_type": "display_data"
    },
    {
     "name": "stdout",
     "output_type": "stream",
     "text": [
      "[I 2024-11-01 20:20:45,187] Trial 0 finished with value: 0.600896860986547 and parameters: {'window': 10.22264156734718, 'metric': 'minkowski', 'p': 4, 'kernel': 'gaussian', 'a': 3, 'b': 2}. Best is trial 0 with value: 0.600896860986547.\n",
      "[I 2024-11-01 20:20:52,102] Trial 1 finished with value: 0.44035874439461886 and parameters: {'window': 0.69592952412888, 'metric': 'minkowski', 'p': 4, 'kernel': 'generalized', 'a': 1, 'b': 4}. Best is trial 0 with value: 0.600896860986547.\n",
      "[I 2024-11-01 20:21:00,781] Trial 2 finished with value: 0.600896860986547 and parameters: {'window': 2.5129437023984225, 'metric': 'minkowski', 'p': 3, 'kernel': 'generalized', 'a': 2, 'b': 1}. Best is trial 0 with value: 0.600896860986547.\n",
      "[I 2024-11-01 20:21:06,707] Trial 3 finished with value: 0.600896860986547 and parameters: {'window': 13.095517428851911, 'metric': 'cosine', 'p': 4, 'kernel': 'generalized', 'a': 2, 'b': 4}. Best is trial 0 with value: 0.600896860986547.\n",
      "[I 2024-11-01 20:21:12,539] Trial 4 finished with value: 0.600896860986547 and parameters: {'window': 11.602449439716924, 'metric': 'cosine', 'p': 4, 'kernel': 'generalized', 'a': 4, 'b': 3}. Best is trial 0 with value: 0.600896860986547.\n",
      "[I 2024-11-01 20:21:18,145] Trial 5 finished with value: 0.600896860986547 and parameters: {'window': 13.398181950895964, 'metric': 'cosine', 'p': 3, 'kernel': 'generalized', 'a': 1, 'b': 0}. Best is trial 0 with value: 0.600896860986547.\n",
      "[I 2024-11-01 20:21:22,473] Trial 6 finished with value: 0.6762331838565022 and parameters: {'window': 4.431642713941947, 'metric': 'minkowski', 'p': 1, 'kernel': 'generalized', 'a': 3, 'b': 2}. Best is trial 6 with value: 0.6762331838565022.\n",
      "[I 2024-11-01 20:21:26,727] Trial 7 finished with value: 0.5560538116591929 and parameters: {'window': 1.3375838413917602, 'metric': 'minkowski', 'p': 2, 'kernel': 'generalized', 'a': 3, 'b': 0}. Best is trial 6 with value: 0.6762331838565022.\n",
      "[I 2024-11-01 20:21:31,768] Trial 8 finished with value: 0.600896860986547 and parameters: {'window': 1.0465263109290837, 'metric': 'cosine', 'p': 1, 'kernel': 'gaussian', 'a': 3, 'b': 3}. Best is trial 6 with value: 0.6762331838565022.\n",
      "[I 2024-11-01 20:21:49,632] Trial 9 finished with value: 0.600896860986547 and parameters: {'window': 9.637164853278112, 'metric': 'cosine', 'p': 2, 'kernel': 'generalized', 'a': 1, 'b': 4}. Best is trial 6 with value: 0.6762331838565022.\n",
      "[I 2024-11-01 20:21:54,879] Trial 10 finished with value: 0.600896860986547 and parameters: {'window': 5.709601629369293, 'metric': 'minkowski', 'p': 1, 'kernel': 'gaussian', 'a': 4, 'b': 2}. Best is trial 6 with value: 0.6762331838565022.\n",
      "[I 2024-11-01 20:22:03,941] Trial 11 finished with value: 0.600896860986547 and parameters: {'window': 6.193683424417304, 'metric': 'minkowski', 'p': 5, 'kernel': 'gaussian', 'a': 3, 'b': 2}. Best is trial 6 with value: 0.6762331838565022.\n",
      "[I 2024-11-01 20:22:12,169] Trial 12 finished with value: 0.600896860986547 and parameters: {'window': 9.011098938652468, 'metric': 'minkowski', 'p': 5, 'kernel': 'gaussian', 'a': 3, 'b': 1}. Best is trial 6 with value: 0.6762331838565022.\n",
      "[I 2024-11-01 20:22:16,659] Trial 13 finished with value: 0.600896860986547 and parameters: {'window': 3.9290945027777235, 'metric': 'minkowski', 'p': 2, 'kernel': 'gaussian', 'a': 4, 'b': 1}. Best is trial 6 with value: 0.6762331838565022.\n",
      "[I 2024-11-01 20:22:25,295] Trial 14 finished with value: 0.600896860986547 and parameters: {'window': 7.910394195180999, 'metric': 'minkowski', 'p': 4, 'kernel': 'gaussian', 'a': 2, 'b': 3}. Best is trial 6 with value: 0.6762331838565022.\n",
      "[I 2024-11-01 20:22:30,392] Trial 15 finished with value: 0.600896860986547 and parameters: {'window': 10.873350733618024, 'metric': 'minkowski', 'p': 1, 'kernel': 'gaussian', 'a': 3, 'b': 2}. Best is trial 6 with value: 0.6762331838565022.\n",
      "[I 2024-11-01 20:22:39,132] Trial 16 finished with value: 0.600896860986547 and parameters: {'window': 4.755301826770298, 'metric': 'minkowski', 'p': 3, 'kernel': 'gaussian', 'a': 2, 'b': 1}. Best is trial 6 with value: 0.6762331838565022.\n",
      "[I 2024-11-01 20:22:49,674] Trial 17 finished with value: 0.600896860986547 and parameters: {'window': 6.919825093347887, 'metric': 'minkowski', 'p': 3, 'kernel': 'generalized', 'a': 4, 'b': 2}. Best is trial 6 with value: 0.6762331838565022.\n",
      "[I 2024-11-01 20:22:54,307] Trial 18 finished with value: 0.600896860986547 and parameters: {'window': 14.631887905755667, 'metric': 'minkowski', 'p': 2, 'kernel': 'gaussian', 'a': 3, 'b': 3}. Best is trial 6 with value: 0.6762331838565022.\n",
      "[I 2024-11-01 20:23:04,847] Trial 19 finished with value: 0.600896860986547 and parameters: {'window': 3.244141280231804, 'metric': 'minkowski', 'p': 5, 'kernel': 'generalized', 'a': 2, 'b': 1}. Best is trial 6 with value: 0.6762331838565022.\n",
      "[I 2024-11-01 20:23:14,188] Trial 20 finished with value: 0.600896860986547 and parameters: {'window': 8.825641417935817, 'metric': 'minkowski', 'p': 4, 'kernel': 'gaussian', 'a': 4, 'b': 2}. Best is trial 6 with value: 0.6762331838565022.\n",
      "[I 2024-11-01 20:23:23,859] Trial 21 finished with value: 0.600896860986547 and parameters: {'window': 2.784820629835859, 'metric': 'minkowski', 'p': 3, 'kernel': 'generalized', 'a': 2, 'b': 1}. Best is trial 6 with value: 0.6762331838565022.\n",
      "[I 2024-11-01 20:23:28,646] Trial 22 finished with value: 0.6134529147982063 and parameters: {'window': 2.4014924964917794, 'metric': 'minkowski', 'p': 2, 'kernel': 'generalized', 'a': 3, 'b': 0}. Best is trial 6 with value: 0.6762331838565022.\n",
      "[I 2024-11-01 20:23:33,304] Trial 23 finished with value: 0.6448430493273543 and parameters: {'window': 4.766072734868681, 'metric': 'minkowski', 'p': 1, 'kernel': 'generalized', 'a': 3, 'b': 0}. Best is trial 6 with value: 0.6762331838565022.\n",
      "[I 2024-11-01 20:23:38,028] Trial 24 finished with value: 0.6717488789237668 and parameters: {'window': 2.0380793014444607, 'metric': 'minkowski', 'p': 1, 'kernel': 'generalized', 'a': 3, 'b': 0}. Best is trial 6 with value: 0.6762331838565022.\n",
      "[I 2024-11-01 20:23:42,879] Trial 25 finished with value: 0.6403587443946188 and parameters: {'window': 4.848617867784389, 'metric': 'minkowski', 'p': 1, 'kernel': 'generalized', 'a': 3, 'b': 0}. Best is trial 6 with value: 0.6762331838565022.\n",
      "[I 2024-11-01 20:23:48,639] Trial 26 finished with value: 0.600896860986547 and parameters: {'window': 4.11254961001359, 'metric': 'cosine', 'p': 1, 'kernel': 'generalized', 'a': 3, 'b': 0}. Best is trial 6 with value: 0.6762331838565022.\n",
      "[I 2024-11-01 20:23:53,603] Trial 27 finished with value: 0.6251121076233184 and parameters: {'window': 5.5330778880093385, 'metric': 'minkowski', 'p': 1, 'kernel': 'generalized', 'a': 4, 'b': 0}. Best is trial 6 with value: 0.6762331838565022.\n",
      "[I 2024-11-01 20:23:58,044] Trial 28 finished with value: 0.547085201793722 and parameters: {'window': 1.794234948108473, 'metric': 'minkowski', 'p': 1, 'kernel': 'generalized', 'a': 3, 'b': 0}. Best is trial 6 with value: 0.6762331838565022.\n",
      "[I 2024-11-01 20:24:03,961] Trial 29 finished with value: 0.600896860986547 and parameters: {'window': 6.7358899829848795, 'metric': 'minkowski', 'p': 2, 'kernel': 'generalized', 'a': 3, 'b': 1}. Best is trial 6 with value: 0.6762331838565022.\n",
      "[I 2024-11-01 20:24:08,869] Trial 30 finished with value: 0.33183856502242154 and parameters: {'window': 0.17900084801927796, 'metric': 'minkowski', 'p': 1, 'kernel': 'generalized', 'a': 2, 'b': 0}. Best is trial 6 with value: 0.6762331838565022.\n",
      "[I 2024-11-01 20:24:13,751] Trial 31 finished with value: 0.6466367713004484 and parameters: {'window': 4.714638868923024, 'metric': 'minkowski', 'p': 1, 'kernel': 'generalized', 'a': 3, 'b': 0}. Best is trial 6 with value: 0.6762331838565022.\n",
      "[I 2024-11-01 20:24:18,133] Trial 32 finished with value: 0.6565022421524663 and parameters: {'window': 3.8071424263407345, 'metric': 'minkowski', 'p': 1, 'kernel': 'generalized', 'a': 3, 'b': 0}. Best is trial 6 with value: 0.6762331838565022.\n",
      "[I 2024-11-01 20:24:22,521] Trial 33 finished with value: 0.6816143497757847 and parameters: {'window': 3.3145593054806204, 'metric': 'minkowski', 'p': 1, 'kernel': 'generalized', 'a': 3, 'b': 1}. Best is trial 33 with value: 0.6816143497757847.\n",
      "[I 2024-11-01 20:24:28,089] Trial 34 finished with value: 0.600896860986547 and parameters: {'window': 3.6137026214458783, 'metric': 'minkowski', 'p': 2, 'kernel': 'generalized', 'a': 3, 'b': 1}. Best is trial 33 with value: 0.6816143497757847.\n",
      "[I 2024-11-01 20:24:32,327] Trial 35 finished with value: 0.6852017937219731 and parameters: {'window': 2.1287429103434996, 'metric': 'minkowski', 'p': 1, 'kernel': 'generalized', 'a': 4, 'b': 1}. Best is trial 35 with value: 0.6852017937219731.\n",
      "[I 2024-11-01 20:24:38,320] Trial 36 finished with value: 0.600896860986547 and parameters: {'window': 2.212823031982212, 'metric': 'cosine', 'p': 2, 'kernel': 'generalized', 'a': 4, 'b': 1}. Best is trial 35 with value: 0.6852017937219731.\n",
      "[I 2024-11-01 20:24:42,672] Trial 37 finished with value: 0.3820627802690583 and parameters: {'window': 0.33385848877144797, 'metric': 'minkowski', 'p': 1, 'kernel': 'generalized', 'a': 4, 'b': 1}. Best is trial 35 with value: 0.6852017937219731.\n",
      "[I 2024-11-01 20:24:49,285] Trial 38 finished with value: 0.600896860986547 and parameters: {'window': 1.4975241224397946, 'metric': 'cosine', 'p': 2, 'kernel': 'generalized', 'a': 4, 'b': 2}. Best is trial 35 with value: 0.6852017937219731.\n",
      "[I 2024-11-01 20:24:54,311] Trial 39 finished with value: 0.6932735426008969 and parameters: {'window': 2.837896884477773, 'metric': 'minkowski', 'p': 1, 'kernel': 'generalized', 'a': 1, 'b': 3}. Best is trial 39 with value: 0.6932735426008969.\n",
      "[I 2024-11-01 20:25:00,468] Trial 40 finished with value: 0.600896860986547 and parameters: {'window': 3.00622961395051, 'metric': 'cosine', 'p': 1, 'kernel': 'generalized', 'a': 1, 'b': 4}. Best is trial 39 with value: 0.6932735426008969.\n",
      "[I 2024-11-01 20:25:05,323] Trial 41 finished with value: 0.4412556053811659 and parameters: {'window': 0.8720854343033717, 'metric': 'minkowski', 'p': 1, 'kernel': 'generalized', 'a': 1, 'b': 3}. Best is trial 39 with value: 0.6932735426008969.\n",
      "[I 2024-11-01 20:25:09,981] Trial 42 finished with value: 0.6457399103139013 and parameters: {'window': 2.0608549418747173, 'metric': 'minkowski', 'p': 1, 'kernel': 'generalized', 'a': 2, 'b': 3}. Best is trial 39 with value: 0.6932735426008969.\n",
      "[I 2024-11-01 20:25:14,272] Trial 43 finished with value: 0.526457399103139 and parameters: {'window': 1.2328971459133342, 'metric': 'minkowski', 'p': 1, 'kernel': 'generalized', 'a': 1, 'b': 2}. Best is trial 39 with value: 0.6932735426008969.\n",
      "[I 2024-11-01 20:25:18,720] Trial 44 finished with value: 0.6484304932735426 and parameters: {'window': 2.5838518316679, 'metric': 'minkowski', 'p': 2, 'kernel': 'generalized', 'a': 2, 'b': 2}. Best is trial 39 with value: 0.6932735426008969.\n",
      "[I 2024-11-01 20:25:23,148] Trial 45 finished with value: 0.6887892376681615 and parameters: {'window': 3.185458128052109, 'metric': 'minkowski', 'p': 1, 'kernel': 'generalized', 'a': 4, 'b': 3}. Best is trial 39 with value: 0.6932735426008969.\n",
      "[I 2024-11-01 20:25:27,558] Trial 46 finished with value: 0.695067264573991 and parameters: {'window': 3.1454266914851146, 'metric': 'minkowski', 'p': 1, 'kernel': 'generalized', 'a': 4, 'b': 3}. Best is trial 46 with value: 0.695067264573991.\n",
      "[I 2024-11-01 20:25:33,276] Trial 47 finished with value: 0.6 and parameters: {'window': 3.4095982291789566, 'metric': 'minkowski', 'p': 2, 'kernel': 'generalized', 'a': 4, 'b': 3}. Best is trial 46 with value: 0.695067264573991.\n",
      "[I 2024-11-01 20:25:38,277] Trial 48 finished with value: 0.673542600896861 and parameters: {'window': 5.09990690737565, 'metric': 'minkowski', 'p': 1, 'kernel': 'generalized', 'a': 4, 'b': 4}. Best is trial 46 with value: 0.695067264573991.\n",
      "[I 2024-11-01 20:25:44,364] Trial 49 finished with value: 0.600896860986547 and parameters: {'window': 5.511146237312299, 'metric': 'cosine', 'p': 1, 'kernel': 'generalized', 'a': 4, 'b': 3}. Best is trial 46 with value: 0.695067264573991.\n",
      "[I 2024-11-01 20:25:49,804] Trial 50 finished with value: 0.6026905829596413 and parameters: {'window': 3.1993860412041815, 'metric': 'minkowski', 'p': 2, 'kernel': 'generalized', 'a': 4, 'b': 3}. Best is trial 46 with value: 0.695067264573991.\n",
      "[I 2024-11-01 20:25:54,377] Trial 51 finished with value: 0.6753363228699552 and parameters: {'window': 4.087699360827757, 'metric': 'minkowski', 'p': 1, 'kernel': 'generalized', 'a': 4, 'b': 3}. Best is trial 46 with value: 0.695067264573991.\n",
      "[I 2024-11-01 20:25:58,914] Trial 52 finished with value: 0.6807174887892377 and parameters: {'window': 4.162433021340942, 'metric': 'minkowski', 'p': 1, 'kernel': 'generalized', 'a': 4, 'b': 4}. Best is trial 46 with value: 0.695067264573991.\n",
      "[I 2024-11-01 20:26:03,579] Trial 53 finished with value: 0.6959641255605381 and parameters: {'window': 2.930342278917223, 'metric': 'minkowski', 'p': 1, 'kernel': 'generalized', 'a': 4, 'b': 4}. Best is trial 53 with value: 0.6959641255605381.\n",
      "[I 2024-11-01 20:26:08,181] Trial 54 finished with value: 0.705829596412556 and parameters: {'window': 2.7337108647535895, 'metric': 'minkowski', 'p': 1, 'kernel': 'generalized', 'a': 4, 'b': 4}. Best is trial 54 with value: 0.705829596412556.\n",
      "[I 2024-11-01 20:26:23,514] Trial 55 finished with value: 0.5497757847533632 and parameters: {'window': 1.459280114315409, 'metric': 'minkowski', 'p': 1, 'kernel': 'generalized', 'a': 4, 'b': 4}. Best is trial 54 with value: 0.705829596412556.\n",
      "[I 2024-11-01 20:26:27,678] Trial 56 finished with value: 0.42511210762331836 and parameters: {'window': 0.7520367553883869, 'metric': 'minkowski', 'p': 1, 'kernel': 'generalized', 'a': 4, 'b': 4}. Best is trial 54 with value: 0.705829596412556.\n",
      "[I 2024-11-01 20:26:32,184] Trial 57 finished with value: 0.6493273542600897 and parameters: {'window': 2.8264420351864152, 'metric': 'minkowski', 'p': 2, 'kernel': 'generalized', 'a': 4, 'b': 4}. Best is trial 54 with value: 0.705829596412556.\n",
      "[I 2024-11-01 20:26:36,988] Trial 58 finished with value: 0.6484304932735426 and parameters: {'window': 2.4921564996246452, 'metric': 'minkowski', 'p': 1, 'kernel': 'gaussian', 'a': 4, 'b': 3}. Best is trial 54 with value: 0.705829596412556.\n",
      "[I 2024-11-01 20:26:45,789] Trial 59 finished with value: 0.6493273542600897 and parameters: {'window': 1.7544129544159257, 'metric': 'minkowski', 'p': 4, 'kernel': 'generalized', 'a': 4, 'b': 4}. Best is trial 54 with value: 0.705829596412556.\n",
      "[I 2024-11-01 20:26:50,626] Trial 60 finished with value: 0.6573991031390135 and parameters: {'window': 6.477121245764006, 'metric': 'minkowski', 'p': 1, 'kernel': 'generalized', 'a': 4, 'b': 3}. Best is trial 54 with value: 0.705829596412556.\n",
      "[I 2024-11-01 20:26:55,345] Trial 61 finished with value: 0.6887892376681615 and parameters: {'window': 3.5142356268076074, 'metric': 'minkowski', 'p': 1, 'kernel': 'generalized', 'a': 4, 'b': 4}. Best is trial 54 with value: 0.705829596412556.\n",
      "[I 2024-11-01 20:26:59,783] Trial 62 finished with value: 0.7031390134529149 and parameters: {'window': 2.8018973281063158, 'metric': 'minkowski', 'p': 1, 'kernel': 'generalized', 'a': 4, 'b': 4}. Best is trial 54 with value: 0.705829596412556.\n",
      "[I 2024-11-01 20:27:05,060] Trial 63 finished with value: 0.6878923766816144 and parameters: {'window': 3.6919324976550705, 'metric': 'minkowski', 'p': 1, 'kernel': 'generalized', 'a': 4, 'b': 4}. Best is trial 54 with value: 0.705829596412556.\n",
      "[I 2024-11-01 20:27:10,485] Trial 64 finished with value: 0.6412556053811659 and parameters: {'window': 7.401490900056626, 'metric': 'minkowski', 'p': 1, 'kernel': 'generalized', 'a': 4, 'b': 4}. Best is trial 54 with value: 0.705829596412556.\n",
      "[I 2024-11-01 20:27:15,819] Trial 65 finished with value: 0.6403587443946188 and parameters: {'window': 2.685673628704558, 'metric': 'minkowski', 'p': 1, 'kernel': 'gaussian', 'a': 4, 'b': 4}. Best is trial 54 with value: 0.705829596412556.\n",
      "[I 2024-11-01 20:27:20,387] Trial 66 finished with value: 0.6753363228699552 and parameters: {'window': 4.3656503468028625, 'metric': 'minkowski', 'p': 1, 'kernel': 'generalized', 'a': 4, 'b': 4}. Best is trial 54 with value: 0.705829596412556.\n",
      "[I 2024-11-01 20:27:25,105] Trial 67 finished with value: 0.6717488789237668 and parameters: {'window': 5.270098369489073, 'metric': 'minkowski', 'p': 1, 'kernel': 'generalized', 'a': 4, 'b': 4}. Best is trial 54 with value: 0.705829596412556.\n",
      "[I 2024-11-01 20:27:31,793] Trial 68 finished with value: 0.600896860986547 and parameters: {'window': 3.2080371361152977, 'metric': 'cosine', 'p': 3, 'kernel': 'generalized', 'a': 4, 'b': 3}. Best is trial 54 with value: 0.705829596412556.\n",
      "[I 2024-11-01 20:27:36,363] Trial 69 finished with value: 0.6968609865470852 and parameters: {'window': 5.896284749357322, 'metric': 'minkowski', 'p': 1, 'kernel': 'generalized', 'a': 1, 'b': 4}. Best is trial 54 with value: 0.705829596412556.\n",
      "[I 2024-11-01 20:27:42,030] Trial 70 finished with value: 0.600896860986547 and parameters: {'window': 10.661592835251817, 'metric': 'minkowski', 'p': 2, 'kernel': 'generalized', 'a': 1, 'b': 3}. Best is trial 54 with value: 0.705829596412556.\n",
      "[I 2024-11-01 20:27:46,539] Trial 71 finished with value: 0.695067264573991 and parameters: {'window': 5.94578856906807, 'metric': 'minkowski', 'p': 1, 'kernel': 'generalized', 'a': 1, 'b': 4}. Best is trial 54 with value: 0.705829596412556.\n",
      "[I 2024-11-01 20:27:51,411] Trial 72 finished with value: 0.6789237668161435 and parameters: {'window': 7.863209492552092, 'metric': 'minkowski', 'p': 1, 'kernel': 'generalized', 'a': 1, 'b': 4}. Best is trial 54 with value: 0.705829596412556.\n",
      "[I 2024-11-01 20:27:56,017] Trial 73 finished with value: 0.6923766816143497 and parameters: {'window': 6.111797668635011, 'metric': 'minkowski', 'p': 1, 'kernel': 'generalized', 'a': 1, 'b': 4}. Best is trial 54 with value: 0.705829596412556.\n",
      "[I 2024-11-01 20:28:00,644] Trial 74 finished with value: 0.6914798206278027 and parameters: {'window': 6.098321420330615, 'metric': 'minkowski', 'p': 1, 'kernel': 'generalized', 'a': 1, 'b': 4}. Best is trial 54 with value: 0.705829596412556.\n",
      "[I 2024-11-01 20:28:05,646] Trial 75 finished with value: 0.6690582959641256 and parameters: {'window': 8.44738251481042, 'metric': 'minkowski', 'p': 1, 'kernel': 'generalized', 'a': 1, 'b': 4}. Best is trial 54 with value: 0.705829596412556.\n",
      "[I 2024-11-01 20:28:10,413] Trial 76 finished with value: 0.600896860986547 and parameters: {'window': 5.974036878170423, 'metric': 'minkowski', 'p': 1, 'kernel': 'gaussian', 'a': 1, 'b': 4}. Best is trial 54 with value: 0.705829596412556.\n",
      "[I 2024-11-01 20:28:15,225] Trial 77 finished with value: 0.683408071748879 and parameters: {'window': 7.2014342666957365, 'metric': 'minkowski', 'p': 1, 'kernel': 'generalized', 'a': 1, 'b': 4}. Best is trial 54 with value: 0.705829596412556.\n",
      "[I 2024-11-01 20:28:20,918] Trial 78 finished with value: 0.600896860986547 and parameters: {'window': 6.855348364586774, 'metric': 'minkowski', 'p': 2, 'kernel': 'generalized', 'a': 1, 'b': 4}. Best is trial 54 with value: 0.705829596412556.\n",
      "[I 2024-11-01 20:28:29,861] Trial 79 finished with value: 0.600896860986547 and parameters: {'window': 11.846650099162858, 'metric': 'minkowski', 'p': 5, 'kernel': 'generalized', 'a': 1, 'b': 4}. Best is trial 54 with value: 0.705829596412556.\n",
      "[I 2024-11-01 20:28:35,481] Trial 80 finished with value: 0.600896860986547 and parameters: {'window': 4.6261232580149745, 'metric': 'cosine', 'p': 1, 'kernel': 'generalized', 'a': 1, 'b': 4}. Best is trial 54 with value: 0.705829596412556.\n",
      "[I 2024-11-01 20:28:39,942] Trial 81 finished with value: 0.6905829596412556 and parameters: {'window': 6.229647149063348, 'metric': 'minkowski', 'p': 1, 'kernel': 'generalized', 'a': 1, 'b': 4}. Best is trial 54 with value: 0.705829596412556.\n",
      "[I 2024-11-01 20:28:44,999] Trial 82 finished with value: 0.6556053811659193 and parameters: {'window': 9.535538071778273, 'metric': 'minkowski', 'p': 1, 'kernel': 'generalized', 'a': 1, 'b': 4}. Best is trial 54 with value: 0.705829596412556.\n",
      "[I 2024-11-01 20:28:49,631] Trial 83 finished with value: 0.6959641255605381 and parameters: {'window': 5.760035856734547, 'metric': 'minkowski', 'p': 1, 'kernel': 'generalized', 'a': 1, 'b': 4}. Best is trial 54 with value: 0.705829596412556.\n",
      "[I 2024-11-01 20:28:54,250] Trial 84 finished with value: 0.6959641255605381 and parameters: {'window': 5.746644730098593, 'metric': 'minkowski', 'p': 1, 'kernel': 'generalized', 'a': 1, 'b': 4}. Best is trial 54 with value: 0.705829596412556.\n",
      "[I 2024-11-01 20:28:58,786] Trial 85 finished with value: 0.6977578475336322 and parameters: {'window': 5.661191255508912, 'metric': 'minkowski', 'p': 1, 'kernel': 'generalized', 'a': 1, 'b': 4}. Best is trial 54 with value: 0.705829596412556.\n",
      "[I 2024-11-01 20:29:03,536] Trial 86 finished with value: 0.6789237668161435 and parameters: {'window': 5.693639749555473, 'metric': 'minkowski', 'p': 1, 'kernel': 'generalized', 'a': 2, 'b': 4}. Best is trial 54 with value: 0.705829596412556.\n",
      "[I 2024-11-01 20:29:08,256] Trial 87 finished with value: 0.6977578475336322 and parameters: {'window': 5.158912446176361, 'metric': 'minkowski', 'p': 1, 'kernel': 'generalized', 'a': 1, 'b': 4}. Best is trial 54 with value: 0.705829596412556.\n",
      "[I 2024-11-01 20:29:12,919] Trial 88 finished with value: 0.694170403587444 and parameters: {'window': 5.327453108055685, 'metric': 'minkowski', 'p': 1, 'kernel': 'generalized', 'a': 1, 'b': 4}. Best is trial 54 with value: 0.705829596412556.\n",
      "[I 2024-11-01 20:29:17,672] Trial 89 finished with value: 0.600896860986547 and parameters: {'window': 6.55125367368834, 'metric': 'minkowski', 'p': 1, 'kernel': 'gaussian', 'a': 1, 'b': 4}. Best is trial 54 with value: 0.705829596412556.\n",
      "[I 2024-11-01 20:29:24,465] Trial 90 finished with value: 0.600896860986547 and parameters: {'window': 5.151643923785739, 'metric': 'minkowski', 'p': 2, 'kernel': 'generalized', 'a': 2, 'b': 4}. Best is trial 54 with value: 0.705829596412556.\n",
      "[I 2024-11-01 20:29:29,689] Trial 91 finished with value: 0.6968609865470852 and parameters: {'window': 5.725205424452328, 'metric': 'minkowski', 'p': 1, 'kernel': 'generalized', 'a': 1, 'b': 4}. Best is trial 54 with value: 0.705829596412556.\n",
      "[I 2024-11-01 20:29:34,440] Trial 92 finished with value: 0.7022421524663677 and parameters: {'window': 4.949452121142069, 'metric': 'minkowski', 'p': 1, 'kernel': 'generalized', 'a': 1, 'b': 4}. Best is trial 54 with value: 0.705829596412556.\n",
      "[I 2024-11-01 20:29:39,025] Trial 93 finished with value: 0.7004484304932735 and parameters: {'window': 4.7082005588144735, 'metric': 'minkowski', 'p': 1, 'kernel': 'generalized', 'a': 1, 'b': 4}. Best is trial 54 with value: 0.705829596412556.\n",
      "[I 2024-11-01 20:29:43,490] Trial 94 finished with value: 0.7022421524663677 and parameters: {'window': 4.937665857814787, 'metric': 'minkowski', 'p': 1, 'kernel': 'generalized', 'a': 1, 'b': 4}. Best is trial 54 with value: 0.705829596412556.\n",
      "[I 2024-11-01 20:29:48,179] Trial 95 finished with value: 0.6995515695067265 and parameters: {'window': 4.667220760843595, 'metric': 'minkowski', 'p': 1, 'kernel': 'generalized', 'a': 1, 'b': 4}. Best is trial 54 with value: 0.705829596412556.\n",
      "[I 2024-11-01 20:30:13,991] Trial 96 finished with value: 0.7022421524663677 and parameters: {'window': 4.8656917001780355, 'metric': 'minkowski', 'p': 1, 'kernel': 'generalized', 'a': 1, 'b': 4}. Best is trial 54 with value: 0.705829596412556.\n",
      "[I 2024-11-01 20:30:23,549] Trial 97 finished with value: 0.600896860986547 and parameters: {'window': 4.5241803651724455, 'metric': 'minkowski', 'p': 4, 'kernel': 'generalized', 'a': 1, 'b': 4}. Best is trial 54 with value: 0.705829596412556.\n",
      "[I 2024-11-01 20:30:29,209] Trial 98 finished with value: 0.600896860986547 and parameters: {'window': 5.065127019323641, 'metric': 'cosine', 'p': 1, 'kernel': 'generalized', 'a': 1, 'b': 4}. Best is trial 54 with value: 0.705829596412556.\n",
      "[I 2024-11-01 20:30:38,216] Trial 99 finished with value: 0.600896860986547 and parameters: {'window': 4.303880291371655, 'metric': 'minkowski', 'p': 3, 'kernel': 'generalized', 'a': 1, 'b': 4}. Best is trial 54 with value: 0.705829596412556.\n"
     ]
    }
   ],
   "source": [
    "study_w = optuna.create_study(direction=\"maximize\")\n",
    "study_w.optimize(objective_window, n_trials=100, show_progress_bar=True)"
   ]
  },
  {
   "cell_type": "code",
   "execution_count": 573,
   "metadata": {},
   "outputs": [
    {
     "name": "stdout",
     "output_type": "stream",
     "text": [
      "{'window': 2.7337108647535895, 'metric': 'minkowski', 'p': 1, 'kernel': 'generalized', 'a': 4, 'b': 4}\n",
      "0.705829596412556\n"
     ]
    }
   ],
   "source": [
    "print(study_w.best_params)\n",
    "print(study_w.best_value)"
   ]
  },
  {
   "cell_type": "markdown",
   "metadata": {},
   "source": [
    "##### Лучшие параметры:\n",
    "- window = 2.7337108647535895\n",
    "- p = 1\n",
    "- metric: 'minkowski'\n",
    "- kernel: 'generalized'\n",
    "- a = 4\n",
    "- b = 4\n",
    "\n",
    "Значение: 0.705829596412556"
   ]
  },
  {
   "cell_type": "markdown",
   "metadata": {},
   "source": [
    "### Построение графика"
   ]
  },
  {
   "cell_type": "markdown",
   "metadata": {},
   "source": [
    "Так как лучшим оказался метод с фиксированным числом соседей, переберем возможные значения соседей"
   ]
  },
  {
   "cell_type": "code",
   "execution_count": 575,
   "metadata": {},
   "outputs": [
    {
     "name": "stderr",
     "output_type": "stream",
     "text": [
      "100%|██████████| 25/25 [11:39<00:00, 27.97s/it]\n"
     ]
    }
   ],
   "source": [
    "from tqdm import tqdm\n",
    "\n",
    "k_values = range(1, 26)\n",
    "\n",
    "metric = 'minkowski'\n",
    "p = 1\n",
    "\n",
    "kernel = 'generalized'\n",
    "a = 3\n",
    "b = 0\n",
    "\n",
    "train_accuracies = []\n",
    "test_accuracies = []\n",
    "\n",
    "for k in tqdm(k_values):\n",
    "    knn = NearestNeighborsClassifier(k=k, metric=metric, kernel=kernel, p=1, a=a, b=b)\n",
    "\n",
    "    knn.fit(X_train.values, y_train)\n",
    "\n",
    "    y_test_pred = knn.predict(X_test.values)\n",
    "    y_train_pred = knn.predict(X_train.values)\n",
    "\n",
    "    test_accuracies.append(accuracy_score(y_test, y_test_pred))\n",
    "    train_accuracies.append(accuracy_score(y_train, y_train_pred))"
   ]
  },
  {
   "cell_type": "code",
   "execution_count": 576,
   "metadata": {},
   "outputs": [],
   "source": [
    "pd.DataFrame(train_accuracies).to_csv('data/train_accuraces.csv', index=False)\n",
    "pd.DataFrame(test_accuracies).to_csv('data/test_accuraces.csv', index=False)"
   ]
  },
  {
   "cell_type": "code",
   "execution_count": 578,
   "metadata": {},
   "outputs": [
    {
     "data": {
      "image/png": "[encoded data removed]",
      "text/plain": [
       "<Figure size 1000x600 with 1 Axes>"
      ]
     },
     "metadata": {},
     "output_type": "display_data"
    }
   ],
   "source": [
    "import matplotlib.pyplot as plt\n",
    "\n",
    "plt.figure(figsize=(10, 6))\n",
    "plt.plot(k_values, train_accuracies, label='accuracy на обучающем множестве', marker='o')\n",
    "plt.plot(k_values, test_accuracies, label='accuracy на тестовом множестве', marker='o')\n",
    "plt.xlabel('Число соседей k')\n",
    "plt.xticks(k_values)\n",
    "plt.ylabel('accuracy')\n",
    "plt.yticks(np.arange(0.6, 1, 0.025))\n",
    "plt.title('Зависимость accuracy от числа соседей k')\n",
    "plt.legend()\n",
    "plt.grid()\n",
    "plt.show()"
   ]
  },
  {
   "cell_type": "markdown",
   "metadata": {},
   "source": [
    "## Поиск аномалий"
   ]
  },
  {
   "cell_type": "markdown",
   "metadata": {},
   "source": [
    "### Алгоритм LOWESS"
   ]
  },
  {
   "cell_type": "code",
   "execution_count": 579,
   "metadata": {},
   "outputs": [],
   "source": [
    "from sklearn.neighbors import NearestNeighbors\n",
    "\n",
    "class LOWESS:\n",
    "    def __init__(self, window=0.5, kernel=kernel, metric='minkowski', p=2, a=1, b=1):\n",
    "        self.window = window\n",
    "        self.metric = metric\n",
    "        self.p = p\n",
    "        self.a = a\n",
    "        self.b = b\n",
    "\n",
    "        if kernel is Kernel.generalized:\n",
    "            self.kernel = lambda u: Kernel.generalized(u, self.a, self.b)\n",
    "        else:\n",
    "            self.kernel = kernel\n",
    "\n",
    "        self.nn_model = NearestNeighbors(metric=self.metric, p=p)\n",
    "    \n",
    "    def fit(self, X_train, y_train):\n",
    "        self.X_train = X_train\n",
    "        self.y_train = y_train\n",
    "        self.nn_model.fit(X_train)\n",
    "\n",
    "    def predict(self):\n",
    "        predictions = []\n",
    "        \n",
    "        # Вычисляем расстояния между всеми точками тестового множества и обучающего\n",
    "        distances, indeces = self.nn_model.kneighbors(X=X_train, n_neighbors=len(X_train))\n",
    "        \n",
    "        current_ind = 0\n",
    "        for dist, ind in zip(distances, indeces):\n",
    "            # Применяем функцию ядра\n",
    "            weights = [self.kernel(d / self.window) for d in dist]\n",
    "            \n",
    "            # Взвешиваем классы\n",
    "            labels = {label: 0 for label in np.unique(self.y_train)}\n",
    "            for i in range(len(weights)):\n",
    "                labels[self.y_train[ind[i]]] += weights[i]\n",
    "            \n",
    "            # Класс с максимальным весом\n",
    "            predicted_class = max(labels, key=labels.get)\n",
    "            \n",
    "            # Если класс угадан верно, добавляем 1, иначе 0\n",
    "            predictions.append(1 if predicted_class == y_train[current_ind] else 0)\n",
    "\n",
    "            current_ind += 1\n",
    "        \n",
    "        return predictions"
   ]
  },
  {
   "cell_type": "markdown",
   "metadata": {},
   "source": [
    "### Проверка"
   ]
  },
  {
   "cell_type": "markdown",
   "metadata": {},
   "source": [
    "Взвесим тренировочное множество"
   ]
  },
  {
   "cell_type": "code",
   "execution_count": 582,
   "metadata": {},
   "outputs": [],
   "source": [
    "lowess = LOWESS(window=0.1, kernel=Kernel.gaussian, metric='minkowski', p=1)\n",
    "lowess.fit(X_train, y_train)\n",
    "\n",
    "apriori_weights = lowess.predict()"
   ]
  },
  {
   "cell_type": "markdown",
   "metadata": {},
   "source": [
    "Вычислим результат валидации до взвешивания"
   ]
  },
  {
   "cell_type": "code",
   "execution_count": 583,
   "metadata": {},
   "outputs": [],
   "source": [
    "knn_before = NearestNeighborsClassifier(k=9, metric='minkowski', p=1, kernel='generalized', a=3, b=0)\n",
    "knn_before.fit(X_train.values, y_train)\n",
    "\n",
    "y_pred_before = knn_before.predict(X_test.values)"
   ]
  },
  {
   "cell_type": "code",
   "execution_count": 584,
   "metadata": {},
   "outputs": [
    {
     "name": "stdout",
     "output_type": "stream",
     "text": [
      "Результат валидации до взвешивания:  0.7255605381165919\n"
     ]
    }
   ],
   "source": [
    "print(\"Результат валидации до взвешивания: \", accuracy_score(y_test, y_pred_before))"
   ]
  },
  {
   "cell_type": "markdown",
   "metadata": {},
   "source": [
    "Вычислим результат валидации после взвешивания"
   ]
  },
  {
   "cell_type": "code",
   "execution_count": 586,
   "metadata": {},
   "outputs": [],
   "source": [
    "knn_after = NearestNeighborsClassifier(k=9, metric='minkowski', p=1, kernel='generalized', a=3, b=0, weights=apriori_weights)\n",
    "knn_after.fit(X_train.values, y_train)\n",
    "\n",
    "y_pred_after = knn_after.predict(X_test.values)"
   ]
  },
  {
   "cell_type": "code",
   "execution_count": 587,
   "metadata": {},
   "outputs": [
    {
     "name": "stdout",
     "output_type": "stream",
     "text": [
      "Результат валидации после взвешивания:  0.7147982062780269\n"
     ]
    }
   ],
   "source": [
    "\n",
    "print(\"Результат валидации после взвешивания: \", accuracy_score(y_test, y_pred_after))"
   ]
  }
 ],
 "metadata": {
  "kernelspec": {
   "display_name": "Python 3",
   "language": "python",
   "name": "python3"
  },
  "language_info": {
   "codemirror_mode": {
    "name": "ipython",
    "version": 3
   },
   "file_extension": ".py",
   "mimetype": "text/x-python",
   "name": "python",
   "nbconvert_exporter": "python",
   "pygments_lexer": "ipython3",
   "version": "3.12.3"
  }
 },
 "nbformat": 4,
 "nbformat_minor": 2
}
